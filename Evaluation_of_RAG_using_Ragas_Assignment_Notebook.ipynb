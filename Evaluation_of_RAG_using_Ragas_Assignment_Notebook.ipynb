{
  "cells": [
    {
      "cell_type": "markdown",
      "metadata": {
        "id": "wa8ykQk92aLX"
      },
      "source": [
        "# Evaluation of RAG Using Ragas\n",
        "\n",
        "In the following notebook we'll explore how to evaluate RAG pipelines using a powerful open-source tool called \"Ragas\". This will give us tools to evaluate component-wise metrics, as well as end-to-end metrics about the performance of our RAG pipelines.\n",
        "\n",
        "In the following notebook we'll complete the following tasks:\n",
        "\n",
        "- 🤝 Breakout Room #1:\n",
        "  1. Install required libraries\n",
        "  2. Set Environment Variables\n",
        "  3. Creating a simple RAG pipeline with [LangChain v0.1.0](https://blog.langchain.dev/langchain-v0-1-0/)\n",
        "  \n",
        "\n",
        "- 🤝 Breakout Room #2:\n",
        "  1. Synthetic Dataset Generation for Evaluation using the [Ragas](https://github.com/explodinggradients/ragas)\n",
        "  2. Evaluating our pipeline with Ragas\n",
        "  3. Making Adjustments to our RAG Pipeline\n",
        "  4. Evaluating our Adjusted pipeline against our baseline\n",
        "  5. Testing OpenAI's Claim\n",
        "\n",
        "The only way to get started is to get started - so let's grab our dependencies for the day!"
      ]
    },
    {
      "cell_type": "markdown",
      "metadata": {
        "id": "8h4yh6f7q9uN"
      },
      "source": [
        "## Motivation\n",
        "\n",
        "A claim, made by OpenAI, is that their `text-embedding-3-small` is better (generally) than their `text-embedding-ada-002` model.\n",
        "\n",
        "Here's some passages from their [blog](https://openai.com/blog/new-embedding-models-and-api-updates) about the `text-embedding-3` release:\n",
        "\n",
        "> `text-embedding-3-small` is our new highly efficient embedding model and provides a significant upgrade over its predecessor, the `text-embedding-ada-002` model...\n",
        "\n",
        "> **Stronger performance.** Comparing `text-embedding-ada-002` to `text-embedding-3-small`, the average score on a commonly used benchmark for multi-language retrieval ([MIRACL](https://github.com/project-miracl/miracl)) has increased from 31.4% to 44.0%, while the average score on a commonly used benchmark for English tasks ([MTEB](https://github.com/embeddings-benchmark/mteb)) has increased from 61.0% to 62.3%.\n",
        "\n",
        "Well, with a library like Ragas - we can put that claim to the test!\n",
        "\n",
        "If what they claim is true - we should see an increase on related metrics by using the new embedding model!"
      ]
    },
    {
      "cell_type": "markdown",
      "metadata": {
        "id": "wAH1znJ2pIp3"
      },
      "source": [
        "# 🤝 Breakout Room #1"
      ]
    },
    {
      "cell_type": "markdown",
      "metadata": {
        "id": "hpkXAmMZpLhm"
      },
      "source": [
        "## Task 1: Installing Required Libraries\n",
        "\n",
        "A reminder that one of the [key features](https://blog.langchain.dev/langchain-v0-1-0/) of LangChain v0.1.0 is the compartmentalization of the various LangChain ecosystem packages!\n",
        "\n",
        "So let's begin grabbing all of our LangChain related packages!"
      ]
    },
    {
      "cell_type": "code",
      "execution_count": 3,
      "metadata": {
        "colab": {
          "base_uri": "https://localhost:8080/"
        },
        "id": "5BN13TZlSCv4",
        "outputId": "e66cf510-5120-42ed-d0f9-e67e30217a24"
      },
      "outputs": [
        {
          "name": "stdout",
          "output_type": "stream",
          "text": [
            "\u001b[33mWARNING: Retrying (Retry(total=4, connect=None, read=None, redirect=None, status=None)) after connection broken by 'NewConnectionError('<pip._vendor.urllib3.connection.HTTPSConnection object at 0x7ff9f5e3f710>: Failed to establish a new connection: [Errno -3] Temporary failure in name resolution')': /simple/langchain/\u001b[0m\u001b[33m\n",
            "\u001b[0mNote: you may need to restart the kernel to use updated packages.\n"
          ]
        }
      ],
      "source": [
        "%pip install -U -q langchain langchain-openai langchain_core langchain-community langchainhub openai"
      ]
    },
    {
      "cell_type": "markdown",
      "metadata": {
        "id": "fm7gXsD6pqG0"
      },
      "source": [
        "We'll also get the \"star of the show\" today, which is Ragas!"
      ]
    },
    {
      "cell_type": "code",
      "execution_count": 4,
      "metadata": {
        "id": "zvAvDNWBpjQ1"
      },
      "outputs": [
        {
          "name": "stdout",
          "output_type": "stream",
          "text": [
            "Note: you may need to restart the kernel to use updated packages.\n"
          ]
        }
      ],
      "source": [
        "%pip install -qU ragas"
      ]
    },
    {
      "cell_type": "markdown",
      "metadata": {
        "id": "L9q6Z9oTpw3X"
      },
      "source": [
        "As well, instead of the remote hosted solution that we used last week (Pinecone), we'll be leveraging Meta's [FAISS](https://github.com/facebookresearch/faiss) as the backend for our LangChain `VectorStore`.\n",
        "\n",
        "We'll also install `unstructured` (from [Unstructured-IO](https://github.com/Unstructured-IO/unstructured)) and its dependencies which will allow us to load PDFs using the `UnstructuredPDFLoader` in the `langchain-community` package!"
      ]
    },
    {
      "cell_type": "code",
      "execution_count": 5,
      "metadata": {
        "colab": {
          "base_uri": "https://localhost:8080/"
        },
        "id": "sAJK95napn8I",
        "outputId": "ad0b3aa1-071d-4d20-b915-6b4024194b2a"
      },
      "outputs": [
        {
          "name": "stdout",
          "output_type": "stream",
          "text": [
            "Note: you may need to restart the kernel to use updated packages.\n"
          ]
        }
      ],
      "source": [
        "%pip install -qU faiss_cpu pymupdf pandas"
      ]
    },
    {
      "cell_type": "markdown",
      "metadata": {
        "id": "0_C2JvG1qO3h"
      },
      "source": [
        "## Task 2: Set Environment Variables\n",
        "\n",
        "Let's set up our OpenAI API key so we can leverage their API later on."
      ]
    },
    {
      "cell_type": "code",
      "execution_count": 6,
      "metadata": {
        "colab": {
          "base_uri": "https://localhost:8080/"
        },
        "id": "8Lhqp5rUThG-",
        "outputId": "4389c3cd-4e2d-455c-cc40-cc6a094b4c42"
      },
      "outputs": [],
      "source": [
        "import os\n",
        "import openai\n",
        "from getpass import getpass\n",
        "\n",
        "openai.api_key = getpass(\"Please provide your OpenAI Key: \")\n",
        "os.environ[\"OPENAI_API_KEY\"] = openai.api_key"
      ]
    },
    {
      "cell_type": "markdown",
      "metadata": {
        "id": "TFbWNvo3rZ4H"
      },
      "source": [
        "## Task 3: Creating a Simple RAG Pipeline with LangChain v0.1.0\n",
        "\n",
        "Building on what we learned last week, we'll be leveraging LangChain v0.1.0 and LCEL to build a simple RAG pipeline that we can baseline with Ragas."
      ]
    },
    {
      "cell_type": "markdown",
      "metadata": {
        "id": "DV_BOewX8CW0"
      },
      "source": [
        "## Building our RAG pipeline\n",
        "\n",
        "Let's review the basic steps of RAG again:\n",
        "\n",
        "- Create an Index\n",
        "- Use retrieval to obtain pieces of context from our Index that are similar to our query\n",
        "- Use a LLM to generate responses based on the retrieved context\n",
        "\n",
        "Let's get started by creating our index.\n",
        "\n",
        "> NOTE: We're going to start leaning on the term \"index\" to refer to our `VectorStore`, `VectorDatabase`, etc. We can think of \"index\" as the catch-all term, whereas `VectorStore` and the like relate to the specific technologies used to create, store, and interact with the index."
      ]
    },
    {
      "cell_type": "markdown",
      "metadata": {
        "id": "1VDGJdxCJEVc"
      },
      "source": [
        "### Creating an Index\n",
        "\n",
        "You'll notice that the largest changes (outside of some import changes) are that our old favourite chains are back to being bundled in an easily usable abstraction.\n",
        "\n",
        "We can still create custom chains using LCEL - but we can also be more confident that our pre-packaged chains are creating using LCEL under the hood."
      ]
    },
    {
      "cell_type": "markdown",
      "metadata": {
        "id": "RmFFThawK8lO"
      },
      "source": [
        "#### Loading Data\n",
        "\n",
        "Let's start by loading some data!\n",
        "\n",
        "> NOTE: You'll notice that we're using a document loader from the community package of LangChain. This is part of the v0.1.0 changes that make the base (`langchain-core`) package remain lightweight while still providing access to some of the more powerful community integrations."
      ]
    },
    {
      "cell_type": "code",
      "execution_count": 7,
      "metadata": {
        "colab": {
          "base_uri": "https://localhost:8080/"
        },
        "id": "kCBTrfZSwTHp",
        "outputId": "f720215f-14f5-4053-c7d7-734a0d33c0ae"
      },
      "outputs": [
        {
          "name": "stdout",
          "output_type": "stream",
          "text": [
            "fatal: destination path 'DataRepository' already exists and is not an empty directory.\n"
          ]
        }
      ],
      "source": [
        "!git clone https://github.com/AI-Maker-Space/DataRepository"
      ]
    },
    {
      "cell_type": "code",
      "execution_count": 8,
      "metadata": {
        "id": "DTDNFXaBSO2j"
      },
      "outputs": [],
      "source": [
        "from langchain_community.document_loaders import PyMuPDFLoader\n",
        "\n",
        "loader = PyMuPDFLoader(\n",
        "    \"DataRepository/MuskComplaint.pdf\",\n",
        ")\n",
        "\n",
        "documents = loader.load()"
      ]
    },
    {
      "cell_type": "code",
      "execution_count": 9,
      "metadata": {
        "colab": {
          "base_uri": "https://localhost:8080/"
        },
        "id": "i3dJYlBCIX_p",
        "outputId": "5fa7b86c-fe0f-4fb1-d5dd-46f4823e9de4"
      },
      "outputs": [
        {
          "data": {
            "text/plain": [
              "{'source': 'DataRepository/MuskComplaint.pdf',\n",
              " 'file_path': 'DataRepository/MuskComplaint.pdf',\n",
              " 'page': 0,\n",
              " 'total_pages': 46,\n",
              " 'format': 'PDF 1.7',\n",
              " 'title': '',\n",
              " 'author': '',\n",
              " 'subject': '',\n",
              " 'keywords': '',\n",
              " 'creator': '',\n",
              " 'producer': '',\n",
              " 'creationDate': '',\n",
              " 'modDate': '',\n",
              " 'trapped': ''}"
            ]
          },
          "execution_count": 9,
          "metadata": {},
          "output_type": "execute_result"
        }
      ],
      "source": [
        "documents[0].metadata"
      ]
    },
    {
      "cell_type": "markdown",
      "metadata": {
        "id": "oQUl3sbZK4_1"
      },
      "source": [
        "#### Transforming Data\n",
        "\n",
        "Now that we've got our single document - let's split it into smaller pieces so we can more effectively leverage it with our retrieval chain!\n",
        "\n",
        "We'll start with the classic: `RecursiveCharacterTextSplitter`."
      ]
    },
    {
      "cell_type": "code",
      "execution_count": 10,
      "metadata": {
        "id": "6Nt2E1xnLNgr"
      },
      "outputs": [],
      "source": [
        "from langchain.text_splitter import RecursiveCharacterTextSplitter\n",
        "\n",
        "text_splitter = RecursiveCharacterTextSplitter(\n",
        "    chunk_size = 700,\n",
        "    chunk_overlap = 50\n",
        ")\n",
        "\n",
        "documents = text_splitter.split_documents(documents)"
      ]
    },
    {
      "cell_type": "markdown",
      "metadata": {
        "id": "ilzwQxhiLcVV"
      },
      "source": [
        "Let's confirm we've split our document."
      ]
    },
    {
      "cell_type": "code",
      "execution_count": 11,
      "metadata": {
        "colab": {
          "base_uri": "https://localhost:8080/"
        },
        "id": "4wRw6a4aLfWh",
        "outputId": "2a9ec4d2-2827-458d-a5f3-a68a84c058a9"
      },
      "outputs": [
        {
          "data": {
            "text/plain": [
              "159"
            ]
          },
          "execution_count": 11,
          "metadata": {},
          "output_type": "execute_result"
        }
      ],
      "source": [
        "len(documents)"
      ]
    },
    {
      "cell_type": "markdown",
      "metadata": {
        "id": "eZ93HkYcMJwW"
      },
      "source": [
        "#### Loading OpenAI Embeddings Model\n",
        "\n",
        "We'll need a process by which we can convert our text into vectors that allow us to compare to our query vector.\n",
        "\n",
        "Let's use OpenAI's `text-embedding-ada-002` for this task!"
      ]
    },
    {
      "cell_type": "code",
      "execution_count": 12,
      "metadata": {
        "id": "JU6CrDVZMgKe"
      },
      "outputs": [],
      "source": [
        "from langchain_openai import OpenAIEmbeddings\n",
        "\n",
        "embeddings = OpenAIEmbeddings(\n",
        "    model=\"text-embedding-ada-002\"\n",
        ")"
      ]
    },
    {
      "cell_type": "markdown",
      "metadata": {
        "id": "rVtZR9JPLtR4"
      },
      "source": [
        "#### Creating a FAISS VectorStore\n",
        "\n",
        "Now that we have documents - we'll need a place to store them alongside their embeddings."
      ]
    },
    {
      "cell_type": "code",
      "execution_count": 13,
      "metadata": {
        "id": "978TWiCtMA0B"
      },
      "outputs": [],
      "source": [
        "from langchain_community.vectorstores import FAISS\n",
        "\n",
        "vector_store = FAISS.from_documents(documents, embeddings)"
      ]
    },
    {
      "cell_type": "markdown",
      "metadata": {
        "id": "Vk50NmrMDlWu"
      },
      "source": [
        "####❓ Question #1:\n",
        "\n",
        "List out a few of the techniques that FAISS uses that make it performant.\n",
        "\n",
        "Answer:  Here are some the the tecniques that FAISS uses, which I consider important:\n",
        "\n",
        "1) the index type FAISS provides has a function that  let it search with L2 or dot product compairison.\n",
        "         \n",
        "2) adds indexing structure on top of raw vectors, which helps improviding search\n",
        "\n",
        "\n",
        "\n",
        "> NOTE: Check the [repository](https://github.com/facebookresearch/faiss) for more information about FAISS!"
      ]
    },
    {
      "cell_type": "markdown",
      "metadata": {
        "id": "Z7ht6bJX9PAY"
      },
      "source": [
        "#### Creating a Retriever\n",
        "\n",
        "To complete our index, all that's left to do is expose our vectorstore as a retriever - which we can do the same way we would in previous version of LangChain!"
      ]
    },
    {
      "cell_type": "code",
      "execution_count": 14,
      "metadata": {
        "id": "xne8P5dQTUiR"
      },
      "outputs": [],
      "source": [
        "retriever = vector_store.as_retriever()"
      ]
    },
    {
      "cell_type": "markdown",
      "metadata": {
        "id": "sO_DFBVKNvNm"
      },
      "source": [
        "#### Testing our Retriever\n",
        "\n",
        "Now that we've gone through the trouble of creating our retriever - let's see it in action!"
      ]
    },
    {
      "cell_type": "code",
      "execution_count": 15,
      "metadata": {
        "id": "I9_ONxpnN0n6"
      },
      "outputs": [],
      "source": [
        "retrieved_documents = retriever.invoke(\"Who is the plantiff?\")"
      ]
    },
    {
      "cell_type": "code",
      "execution_count": 16,
      "metadata": {
        "colab": {
          "base_uri": "https://localhost:8080/"
        },
        "id": "-Za12yt4OBy1",
        "outputId": "34526432-09f0-4445-93d3-f966f25dd6df"
      },
      "outputs": [
        {
          "name": "stdout",
          "output_type": "stream",
          "text": [
            "page_content='would be owned by the foundation and used ‘for the good of the world’[.]” Plaintiff \\nreplied: “Agree on all.” Ex. 2 at 1.' metadata={'source': 'DataRepository/MuskComplaint.pdf', 'file_path': 'DataRepository/MuskComplaint.pdf', 'page': 27, 'total_pages': 46, 'format': 'PDF 1.7', 'title': '', 'author': '', 'subject': '', 'keywords': '', 'creator': '', 'producer': '', 'creationDate': '', 'modDate': '', 'trapped': ''}\n",
            "page_content='property and derivative works funded by those monies, Plaintiff is presently unable to ascertain his \\ninterest in or the use, allocation, or distribution of assets without an accounting. Plaintiff is therefore \\nentitled to an accounting.' metadata={'source': 'DataRepository/MuskComplaint.pdf', 'file_path': 'DataRepository/MuskComplaint.pdf', 'page': 32, 'total_pages': 46, 'format': 'PDF 1.7', 'title': '', 'author': '', 'subject': '', 'keywords': '', 'creator': '', 'producer': '', 'creationDate': '', 'modDate': '', 'trapped': ''}\n",
            "page_content='1 \\n2 \\n3 \\n4 \\n5 \\n6 \\n7 \\n8 \\n9 \\n10 \\n11 \\n12 \\n13 \\n14 \\n15 \\n16 \\n17 \\n18 \\n19 \\n20 \\n21 \\n22 \\n23 \\n24 \\n25 \\n26 \\n27 \\n28 \\n \\n \\n– 35 – \\nCOMPLAINT \\n \\nDEMAND FOR JURY TRIAL \\nPlaintiff hereby demands trial by jury as to all issues, claims, and/or causes of action properly \\ntriable before a jury \\n \\nDATED: February 29, 2024 \\nIRELL & MANELLA LLP \\n \\n \\nBy:                                                                 \\nMorgan Chu \\nAlan Heinrich \\nIian Jablon \\nAbigail Sellers \\nJustin Koo \\nHenry White \\n \\nAttorneys for Plaintiff Elon Musk' metadata={'source': 'DataRepository/MuskComplaint.pdf', 'file_path': 'DataRepository/MuskComplaint.pdf', 'page': 34, 'total_pages': 46, 'format': 'PDF 1.7', 'title': '', 'author': '', 'subject': '', 'keywords': '', 'creator': '', 'producer': '', 'creationDate': '', 'modDate': '', 'trapped': ''}\n",
            "page_content='Exhibit 1' metadata={'source': 'DataRepository/MuskComplaint.pdf', 'file_path': 'DataRepository/MuskComplaint.pdf', 'page': 35, 'total_pages': 46, 'format': 'PDF 1.7', 'title': '', 'author': '', 'subject': '', 'keywords': '', 'creator': '', 'producer': '', 'creationDate': '', 'modDate': '', 'trapped': ''}\n"
          ]
        }
      ],
      "source": [
        "for doc in retrieved_documents:\n",
        "  print(doc)"
      ]
    },
    {
      "cell_type": "markdown",
      "metadata": {
        "id": "D8MKsT6JTgCU"
      },
      "source": [
        "### Creating a RAG Chain\n",
        "\n",
        "Now that we have the \"R\" in RAG taken care of - let's look at creating the \"AG\"!"
      ]
    },
    {
      "cell_type": "markdown",
      "metadata": {
        "id": "zs7qBLaEQEic"
      },
      "source": [
        "#### Creating a Prompt Template\n",
        "\n",
        "There are a few different ways we could create our prompt template - we could create a custom template, as seen in the code below, or we could simply pull a prompt from the prompt hub! Let's look at an example of that!"
      ]
    },
    {
      "cell_type": "code",
      "execution_count": 17,
      "metadata": {
        "id": "eRCq_OKUQbKk"
      },
      "outputs": [],
      "source": [
        "from langchain import hub\n",
        "\n",
        "retrieval_qa_prompt = hub.pull(\"langchain-ai/retrieval-qa-chat\")"
      ]
    },
    {
      "cell_type": "code",
      "execution_count": 18,
      "metadata": {
        "colab": {
          "base_uri": "https://localhost:8080/"
        },
        "id": "FziTftV5Q1H-",
        "outputId": "fa6d986a-f252-409e-990c-7f2eb077a1f1"
      },
      "outputs": [
        {
          "name": "stdout",
          "output_type": "stream",
          "text": [
            "Answer any use questions based solely on the context below:\n",
            "\n",
            "<context>\n",
            "{context}\n",
            "</context>\n"
          ]
        }
      ],
      "source": [
        "print(retrieval_qa_prompt.messages[0].prompt.template)"
      ]
    },
    {
      "cell_type": "markdown",
      "metadata": {
        "id": "iyq88IPFRGoT"
      },
      "source": [
        "As you can see - the prompt template is simple (and has a small error) - so we'll create our own to be a bit more specific!"
      ]
    },
    {
      "cell_type": "code",
      "execution_count": 19,
      "metadata": {
        "id": "ijSNkTAjTsep"
      },
      "outputs": [],
      "source": [
        "from langchain.prompts import ChatPromptTemplate\n",
        "\n",
        "template = \"\"\"Answer the question based only on the following context. If you cannot answer the question with the context, please respond with 'I don't know':\n",
        "\n",
        "Context:\n",
        "{context}\n",
        "\n",
        "Question:\n",
        "{question}\n",
        "\"\"\"\n",
        "\n",
        "prompt = ChatPromptTemplate.from_template(template)"
      ]
    },
    {
      "cell_type": "markdown",
      "metadata": {
        "id": "BYHnPaXl-cvJ"
      },
      "source": [
        "#### Setting Up our Basic QA Chain\n",
        "\n",
        "Now we can instantiate our basic RAG chain!\n",
        "\n",
        "We'll use LCEL directly just to see an example of it - but you could just as easily use an abstraction here to achieve the same goal!\n",
        "\n",
        "We'll also ensure to pass-through our context - which is critical for RAGAS."
      ]
    },
    {
      "cell_type": "code",
      "execution_count": 20,
      "metadata": {
        "id": "-TsjUWjbUfbW"
      },
      "outputs": [],
      "source": [
        "from operator import itemgetter\n",
        "\n",
        "from langchain_openai import ChatOpenAI\n",
        "from langchain_core.output_parsers import StrOutputParser\n",
        "from langchain_core.runnables import RunnablePassthrough\n",
        "\n",
        "primary_qa_llm = ChatOpenAI(model_name=\"gpt-3.5-turbo\", temperature=0)\n",
        "\n",
        "retrieval_augmented_qa_chain = (\n",
        "    # INVOKE CHAIN WITH: {\"question\" : \"<<SOME USER QUESTION>>\"}\n",
        "    # \"question\" : populated by getting the value of the \"question\" key\n",
        "    # \"context\"  : populated by getting the value of the \"question\" key and chaining it into the base_retriever\n",
        "    {\"context\": itemgetter(\"question\") | retriever, \"question\": itemgetter(\"question\")}\n",
        "    # \"context\"  : is assigned to a RunnablePassthrough object (will not be called or considered in the next step)\n",
        "    #              by getting the value of the \"context\" key from the previous step\n",
        "    | RunnablePassthrough.assign(context=itemgetter(\"context\"))\n",
        "    # \"response\" : the \"context\" and \"question\" values are used to format our prompt object and then piped\n",
        "    #              into the LLM and stored in a key called \"response\"\n",
        "    # \"context\"  : populated by getting the value of the \"context\" key from the previous step\n",
        "    | {\"response\": prompt | primary_qa_llm, \"context\": itemgetter(\"context\")}\n",
        ")"
      ]
    },
    {
      "attachments": {
        "image.png": {
          "image/png": "[encoded data removed]"
        }
      },
      "cell_type": "markdown",
      "metadata": {
        "id": "7MgAa9JwBuJx"
      },
      "source": [
        "####🏗️ Activity #1:\n",
        "\n",
        "Describe the pipeline shown above in simple terms. You can include a diagram if desired.\n",
        "\n",
        "1) chain starts by populating question with the value of the question key and context is populated with the value of question key but then\n",
        "it chains into the retriever.\n",
        "\n",
        "2) context is assigned to the RunnablePassthrough, where context comes from 1) step.\n",
        "\n",
        "3) context and  question values are then used to make up our prompt that is then piped into our llm model. Response from llm is stored in a key called \"response\".  Context is then got from 2) step.\n",
        "\n",
        "![image.png](attachment:image.png)\n"
      ]
    },
    {
      "cell_type": "markdown",
      "metadata": {
        "id": "zO69de-F-oMD"
      },
      "source": [
        "Let's test it out!"
      ]
    },
    {
      "cell_type": "code",
      "execution_count": 21,
      "metadata": {
        "colab": {
          "base_uri": "https://localhost:8080/"
        },
        "id": "2FS5NxC6UyU2",
        "outputId": "6d926d73-0b0a-40b4-b4b2-48250f97f0c1"
      },
      "outputs": [
        {
          "name": "stdout",
          "output_type": "stream",
          "text": [
            "Elon Musk\n"
          ]
        }
      ],
      "source": [
        "question = \"Who is the plantiff?\"\n",
        "\n",
        "result = retrieval_augmented_qa_chain.invoke({\"question\" : question})\n",
        "\n",
        "print(result[\"response\"].content)"
      ]
    },
    {
      "cell_type": "code",
      "execution_count": 22,
      "metadata": {
        "colab": {
          "base_uri": "https://localhost:8080/"
        },
        "id": "tIuHVGPOO9P2",
        "outputId": "38418031-7020-4c70-d695-48400e966c9f"
      },
      "outputs": [
        {
          "name": "stdout",
          "output_type": "stream",
          "text": [
            "The complaint pertains to breach of fiduciary duty, unfair business practices, and accounting.\n",
            "[Document(page_content='1 \\n2 \\n3 \\n4 \\n5 \\n6 \\n7 \\n8 \\n9 \\n10 \\n11 \\n12 \\n13 \\n14 \\n15 \\n16 \\n17 \\n18 \\n19 \\n20 \\n21 \\n22 \\n23 \\n24 \\n25 \\n26 \\n27 \\n28 \\n \\n \\n– 31 – \\nCOMPLAINT \\n \\nTHIRD CAUSE OF ACTION \\nBreach of Fiduciary Duty  \\nAgainst All Defendants \\n133. \\nPlaintiff realleges and incorporates by reference only paragraphs of this Complaint \\nnecessary for his claim of Breach of Fiduciary Duty. \\n134. \\nUnder California law, Defendants owe fiduciary duties to Plaintiff, including a duty \\nto use Plaintiff’s contributions for the purposes for which they were made. E.g., Cal. Bus. & Prof. \\nCode § 17510.8. Defendants have repeatedly breached their fiduciary duties to Plaintiff, including \\nby:', metadata={'source': 'DataRepository/MuskComplaint.pdf', 'file_path': 'DataRepository/MuskComplaint.pdf', 'page': 30, 'total_pages': 46, 'format': 'PDF 1.7', 'title': '', 'author': '', 'subject': '', 'keywords': '', 'creator': '', 'producer': '', 'creationDate': '', 'modDate': '', 'trapped': ''}), Document(page_content='1 \\n2 \\n3 \\n4 \\n5 \\n6 \\n7 \\n8 \\n9 \\n10 \\n11 \\n12 \\n13 \\n14 \\n15 \\n16 \\n17 \\n18 \\n19 \\n20 \\n21 \\n22 \\n23 \\n24 \\n25 \\n26 \\n27 \\n28 \\n \\n \\n– 33 – \\nCOMPLAINT \\n \\nand by those acting in concert with them arising from these acts of unfair competition and other \\nunfair business practices.  \\n144. \\nPlaintiff is entitled to restitution and/or disgorgement of any and all monies received \\nby Defendants while they engaged in such practices, in addition to prejudgment interest pursuant to \\nBusiness & Professions Code § 17200 et seq. Plaintiff further seeks to enjoin Defendants from \\ncarrying out such activities again in the future, and an order compelling specific performance.   \\nFIFTH CAUSE OF ACTION \\nAccounting', metadata={'source': 'DataRepository/MuskComplaint.pdf', 'file_path': 'DataRepository/MuskComplaint.pdf', 'page': 32, 'total_pages': 46, 'format': 'PDF 1.7', 'title': '', 'author': '', 'subject': '', 'keywords': '', 'creator': '', 'producer': '', 'creationDate': '', 'modDate': '', 'trapped': ''}), Document(page_content='1 \\n2 \\n3 \\n4 \\n5 \\n6 \\n7 \\n8 \\n9 \\n10 \\n11 \\n12 \\n13 \\n14 \\n15 \\n16 \\n17 \\n18 \\n19 \\n20 \\n21 \\n22 \\n23 \\n24 \\n25 \\n26 \\n27 \\n28 \\n \\n \\n– 35 – \\nCOMPLAINT \\n \\nDEMAND FOR JURY TRIAL \\nPlaintiff hereby demands trial by jury as to all issues, claims, and/or causes of action properly \\ntriable before a jury \\n \\nDATED: February 29, 2024 \\nIRELL & MANELLA LLP \\n \\n \\nBy:                                                                 \\nMorgan Chu \\nAlan Heinrich \\nIian Jablon \\nAbigail Sellers \\nJustin Koo \\nHenry White \\n \\nAttorneys for Plaintiff Elon Musk', metadata={'source': 'DataRepository/MuskComplaint.pdf', 'file_path': 'DataRepository/MuskComplaint.pdf', 'page': 34, 'total_pages': 46, 'format': 'PDF 1.7', 'title': '', 'author': '', 'subject': '', 'keywords': '', 'creator': '', 'producer': '', 'creationDate': '', 'modDate': '', 'trapped': ''}), Document(page_content='obligations as a remedy for Defendants’ breaches of fiduciary duty. \\nFOURTH CAUSE OF ACTION \\nUnfair Business Practices - Cal. Bus. & Prof. Code §§ 17200 et seq. \\nAgainst All Defendants \\n137. \\nPlaintiff realleges and incorporates by reference only paragraphs of this Complaint \\nnecessary for his claim of Unfair Business Practices. \\n138. \\nCalifornia Business and Professions Code sections 17200 et seq. provides that any \\nperson or entity that engages, has engaged, or proposes to engage in unfair business practices may \\nbe enjoined. \\n139. \\nDefendants have engaged in unfair competition and other unfair business practices', metadata={'source': 'DataRepository/MuskComplaint.pdf', 'file_path': 'DataRepository/MuskComplaint.pdf', 'page': 31, 'total_pages': 46, 'format': 'PDF 1.7', 'title': '', 'author': '', 'subject': '', 'keywords': '', 'creator': '', 'producer': '', 'creationDate': '', 'modDate': '', 'trapped': ''})]\n"
          ]
        }
      ],
      "source": [
        "question = \"What does this complaint pertain to?\"\n",
        "\n",
        "result = retrieval_augmented_qa_chain.invoke({\"question\" : question})\n",
        "\n",
        "print(result[\"response\"].content)\n",
        "print(result[\"context\"])"
      ]
    },
    {
      "cell_type": "markdown",
      "metadata": {
        "id": "a-XYZueEP42k"
      },
      "source": [
        "We can already see that there are some improvements we could make here.\n",
        "\n",
        "For now, let's switch gears to RAGAS to see how we can leverage that tool to provide us insight into how our pipeline is performing!"
      ]
    },
    {
      "cell_type": "markdown",
      "metadata": {
        "id": "oM4fmAnsBmL2"
      },
      "source": [
        "# 🤝 Breakout Room #2"
      ]
    },
    {
      "cell_type": "markdown",
      "metadata": {
        "id": "EOECHyzHRqDw"
      },
      "source": [
        "## Task 1: Synthetic Dataset Generation for Evaluation using Ragas\n",
        "\n",
        "Ragas is a powerful library that lets us evaluate our RAG pipeline by collecting input/output/context triplets and obtaining metrics relating to a number of different aspects of our RAG pipeline.\n",
        "\n",
        "We'll be evluating on every core metric today, but in order to do that - we'll need to creat a test set. Luckily for us, Ragas can do that directly!"
      ]
    },
    {
      "cell_type": "markdown",
      "metadata": {
        "id": "KqXQ0jweWJOu"
      },
      "source": [
        "### Synthetic Test Set Generation\n",
        "\n",
        "We can leverage Ragas' [`Synthetic Test Data generation`](https://docs.ragas.io/en/stable/concepts/testset_generation.html) functionality to generate our own synthetic QC pairs - as well as a synthetic ground truth - quite easily!\n",
        "\n",
        "> NOTE: This process will use `gpt-3.5-turbo-16k` as the base generator and `gpt-4` as the critic - if you're attempting to create a lot of samples please be aware of cost, as well as rate limits."
      ]
    },
    {
      "cell_type": "code",
      "execution_count": 23,
      "metadata": {
        "id": "nVk5SlU9znXe"
      },
      "outputs": [
        {
          "data": {
            "text/plain": [
              "[Document(page_content='1 \\n2 \\n3 \\n4 \\n5 \\n6 \\n7 \\n8 \\n9 \\n10 \\n11 \\n12 \\n13 \\n14 \\n15 \\n16 \\n17 \\n18 \\n19 \\n20 \\n21 \\n22 \\n23 \\n24 \\n25 \\n26 \\n27 \\n28 \\n \\n \\nCOMPLAINT \\n \\nIRELL & MANELLA LLP \\nMorgan Chu (SBN 70446) \\nAlan Heinrich (SBN 212782) \\nIian Jablon (SBN 205458) \\nAbigail Sellers (SBN 342380) \\nJustin Koo (SBN 351547) \\nHenry White (SBN 351549) \\n1800 Avenue of the Stars, Suite 900 \\nLos Angeles, CA 90067 \\nTelephone: (310) 277-1010 \\nFax: (310) 203-7199 \\nmchu@irell.com \\naheinrich@irell.com  \\nijablon@irell.com \\nasellers@irell.com \\njkoo@irell.com \\nhwhite@irell.com \\n \\n \\nAttorneys for Plaintiff Elon Musk \\nSUPERIOR COURT OF CALIFORNIA \\nIN AND FOR THE COUNTY OF SAN FRANCISCO \\nELON MUSK, an individual, \\nPlaintiff, \\nvs.', metadata={'source': 'DataRepository/MuskComplaint.pdf', 'file_path': 'DataRepository/MuskComplaint.pdf', 'page': 0, 'total_pages': 46, 'format': 'PDF 1.7', 'title': '', 'author': '', 'subject': '', 'keywords': '', 'creator': '', 'producer': '', 'creationDate': '', 'modDate': '', 'trapped': ''}),\n",
              " Document(page_content='ELON MUSK, an individual, \\nPlaintiff, \\nvs. \\nSAMUEL ALTMAN, an individual, GREGORY \\nBROCKMAN, an individual, OPENAI, INC., a \\ncorporation, OPENAI, L.P., a limited \\npartnership, OPENAI, L.L.C., a limited liability \\ncompany, OPENAI GP, L.L.C., a limited \\nliability company, OPENAI OPCO, LLC, a \\nlimited liability company, OPENAI GLOBAL, \\nLLC, a limited liability company, OAI \\nCORPORATION, LLC, a limited liability \\ncompany, OPENAI HOLDINGS, LLC, a limited \\nliability company, and DOES 1 through 100, \\ninclusive, \\nDefendants. \\nCase No.:  \\n[UNLIMITED JURISDICTION] \\n \\nCOMPLAINT FOR (1) BREACH OF \\nCONTRACT, (2) PROMISSORY \\nESTOPPEL, (3) BREACH OF FIDUCIARY \\nDUTY, (4) UNFAIR COMPETITION', metadata={'source': 'DataRepository/MuskComplaint.pdf', 'file_path': 'DataRepository/MuskComplaint.pdf', 'page': 0, 'total_pages': 46, 'format': 'PDF 1.7', 'title': '', 'author': '', 'subject': '', 'keywords': '', 'creator': '', 'producer': '', 'creationDate': '', 'modDate': '', 'trapped': ''}),\n",
              " Document(page_content='DUTY, (4) UNFAIR COMPETITION \\nUNDER CAL. BUS. & PROF. CODE \\n§§ 17200 ET SEQ., AND (5) ACCOUNTING \\n \\n \\nDEMAND FOR JURY TRIAL \\n \\nELECTRONICALLY\\nF I L E D\\nSuperior Court of California,\\nCounty of San Francisco\\n02/29/2024\\nClerk of the Court\\nBY: KEVIN DOUGHERTY\\nDeputy Clerk\\nCGC-24-612746', metadata={'source': 'DataRepository/MuskComplaint.pdf', 'file_path': 'DataRepository/MuskComplaint.pdf', 'page': 0, 'total_pages': 46, 'format': 'PDF 1.7', 'title': '', 'author': '', 'subject': '', 'keywords': '', 'creator': '', 'producer': '', 'creationDate': '', 'modDate': '', 'trapped': ''}),\n",
              " Document(page_content='1 \\n2 \\n3 \\n4 \\n5 \\n6 \\n7 \\n8 \\n9 \\n10 \\n11 \\n12 \\n13 \\n14 \\n15 \\n16 \\n17 \\n18 \\n19 \\n20 \\n21 \\n22 \\n23 \\n24 \\n25 \\n26 \\n27 \\n28 \\n \\n \\n– 2 – \\nCOMPLAINT \\n \\nPlaintiff, ELON MUSK (hereafter “Plaintiff”) alleges the following upon information and \\nbelief: \\nPARTIES \\n1. \\nPrior to 2019, Plaintiff was an individual residing in California. Plaintiff is a resident \\nof Texas since 2019.  \\n2. \\nOn information and belief, Plaintiff alleges that Samuel Altman is a resident of the \\nCounty of San Francisco, State of California. \\n3. \\nOn information and belief, Plaintiff alleges that Gregory Brockman is a resident of \\nthe County of San Francisco, State of California.  \\n4.', metadata={'source': 'DataRepository/MuskComplaint.pdf', 'file_path': 'DataRepository/MuskComplaint.pdf', 'page': 1, 'total_pages': 46, 'format': 'PDF 1.7', 'title': '', 'author': '', 'subject': '', 'keywords': '', 'creator': '', 'producer': '', 'creationDate': '', 'modDate': '', 'trapped': ''}),\n",
              " Document(page_content='4. \\nOpenAI, Inc. is a registered non-profit organization incorporated under the laws of \\nDelaware on December 8, 2015. OpenAI, Inc. is registered as a foreign corporation with the \\nCalifornia Secretary of State and has its principal place of business at 3180 18th Street, San \\nFrancisco, CA 94110.  \\n5. \\nOpenAI, L.P. is a limited partnership formed under the laws of Delaware on \\nSeptember 19, 2018, originally as SummerSafe, L.P. OpenAI, L.P. is registered as a foreign limited \\npartnership with the California Secretary of State and has its principal place of business at 3180 18th \\nStreet, San Francisco, CA 94110.  \\n6.', metadata={'source': 'DataRepository/MuskComplaint.pdf', 'file_path': 'DataRepository/MuskComplaint.pdf', 'page': 1, 'total_pages': 46, 'format': 'PDF 1.7', 'title': '', 'author': '', 'subject': '', 'keywords': '', 'creator': '', 'producer': '', 'creationDate': '', 'modDate': '', 'trapped': ''}),\n",
              " Document(page_content='Street, San Francisco, CA 94110.  \\n6. \\nOpenAI, L.L.C. is a limited liability company formed in Delaware on September 17, \\n2020. OpenAI, L.L.C. maintains its principal place of business in California.  \\n7. \\nOpenAI GP, L.L.C. is a limited liability company formed in Delaware on September \\n19, 2018. OpenAI GP, L.L.C is registered as a foreign limited liability company registered with the \\nCalifornia Secretary of State and has its principal place of business at 3180 18th Street, San \\nFrancisco, CA 94110.  \\n8. \\nOpenAI OpCo, LLC is a limited liability company formed in Delaware on September \\n19, 2018. OpenAI OpCo, LLC is registered as an out-of-state limited liability company with the', metadata={'source': 'DataRepository/MuskComplaint.pdf', 'file_path': 'DataRepository/MuskComplaint.pdf', 'page': 1, 'total_pages': 46, 'format': 'PDF 1.7', 'title': '', 'author': '', 'subject': '', 'keywords': '', 'creator': '', 'producer': '', 'creationDate': '', 'modDate': '', 'trapped': ''}),\n",
              " Document(page_content='California Secretary of State and has it principal place of business at 1960 Bryant Street, San \\nFrancisco, CA 94110.', metadata={'source': 'DataRepository/MuskComplaint.pdf', 'file_path': 'DataRepository/MuskComplaint.pdf', 'page': 1, 'total_pages': 46, 'format': 'PDF 1.7', 'title': '', 'author': '', 'subject': '', 'keywords': '', 'creator': '', 'producer': '', 'creationDate': '', 'modDate': '', 'trapped': ''}),\n",
              " Document(page_content='1 \\n2 \\n3 \\n4 \\n5 \\n6 \\n7 \\n8 \\n9 \\n10 \\n11 \\n12 \\n13 \\n14 \\n15 \\n16 \\n17 \\n18 \\n19 \\n20 \\n21 \\n22 \\n23 \\n24 \\n25 \\n26 \\n27 \\n28 \\n \\n \\n– 3 – \\nCOMPLAINT \\n \\n9. \\nOpenAI Global, LLC is a limited liability company formed in Delaware on \\nDecember 28, 2022. OpenAI Global, LLC is registered as an out-of-state limited liability company \\nwith the California Secretary of State and has it principal place of business at 1960 Bryant Street, \\nSan Francisco, CA 94110.  \\n10. \\nOAI Corporation, LLC is a limited liability company formed in Delaware. OAI \\nCorporation, LLC maintains its principal place of business in California.  \\n11. \\nOpenAI Holdings, LLC is a limited liability company formed in Delaware on March', metadata={'source': 'DataRepository/MuskComplaint.pdf', 'file_path': 'DataRepository/MuskComplaint.pdf', 'page': 2, 'total_pages': 46, 'format': 'PDF 1.7', 'title': '', 'author': '', 'subject': '', 'keywords': '', 'creator': '', 'producer': '', 'creationDate': '', 'modDate': '', 'trapped': ''}),\n",
              " Document(page_content='17, 2023. OpenAI Holdings, LLC is registered as an out-of-state limited liability company with the \\nCalifornia Secretary of State and has it principal place of business at 1960 Bryant Street, San \\nFrancisco, CA 94110.  \\n12. \\nHereinafter, “OpenAI, Inc.” is used solely to refer to the non-profit entity or non-\\nprofit arm, while “OpenAI” is used generally to refer to OpenAI, Inc., OpenAI, L.P., OpenAI, \\nL.L.C., OpenAI GP, L.L.C., OpenAI OpCo, LLC, OpenAI Global, LLC, OAI Corporation, LLC, \\nand/or OpenAI Holdings, LLC.  \\n13. \\nPlaintiff is currently unaware as to the names and identities of Doe 1 through Doe \\n100.  \\nJURISDICTION AND VENUE \\n14.', metadata={'source': 'DataRepository/MuskComplaint.pdf', 'file_path': 'DataRepository/MuskComplaint.pdf', 'page': 2, 'total_pages': 46, 'format': 'PDF 1.7', 'title': '', 'author': '', 'subject': '', 'keywords': '', 'creator': '', 'producer': '', 'creationDate': '', 'modDate': '', 'trapped': ''}),\n",
              " Document(page_content='100.  \\nJURISDICTION AND VENUE \\n14. \\nOn information and belief, Plaintiff alleges that many of the occurrences, \\nrepresentations, and events upon which this action is based took place in County of San Francisco, \\nState of California, where the vast majority of Defendants reside or have their principal place of \\nbusiness, and the vast majority of the occurrences, representations, and events upon which this \\naction is based took place in the State of California.  \\nGENERAL ALLEGATIONS \\nOverview Of The Case \\nA. \\nThe Risk Of Artificial General Intelligence \\n15. \\nOver the course of the 20th century, the United States gradually shifted from a', metadata={'source': 'DataRepository/MuskComplaint.pdf', 'file_path': 'DataRepository/MuskComplaint.pdf', 'page': 2, 'total_pages': 46, 'format': 'PDF 1.7', 'title': '', 'author': '', 'subject': '', 'keywords': '', 'creator': '', 'producer': '', 'creationDate': '', 'modDate': '', 'trapped': ''}),\n",
              " Document(page_content='primarily human labor-based economy to a primarily human knowledge-based economy, with \\neconomic value increasingly created primarily by human intelligence. As the century progressed,', metadata={'source': 'DataRepository/MuskComplaint.pdf', 'file_path': 'DataRepository/MuskComplaint.pdf', 'page': 2, 'total_pages': 46, 'format': 'PDF 1.7', 'title': '', 'author': '', 'subject': '', 'keywords': '', 'creator': '', 'producer': '', 'creationDate': '', 'modDate': '', 'trapped': ''}),\n",
              " Document(page_content='1 \\n2 \\n3 \\n4 \\n5 \\n6 \\n7 \\n8 \\n9 \\n10 \\n11 \\n12 \\n13 \\n14 \\n15 \\n16 \\n17 \\n18 \\n19 \\n20 \\n21 \\n22 \\n23 \\n24 \\n25 \\n26 \\n27 \\n28 \\n \\n \\n– 4 – \\nCOMPLAINT \\n \\nanother paradigm shift was already underway: value creation through artificial intelligence (AI). \\nEarly AI programs were capable of outperforming humans in certain discrete tasks. Almost \\nimmediately after the invention of the programmable computer, AI could show super-human \\nperformance on a highly formalized problem like finding the fastest path through a network of roads. \\nIt took longer for AI to reach superiority for problems requiring more creativity. In 1996, IBM’s \\nDeep Blue AI program beat Gary Kasparov, the then-world champion in chess. These programs,', metadata={'source': 'DataRepository/MuskComplaint.pdf', 'file_path': 'DataRepository/MuskComplaint.pdf', 'page': 3, 'total_pages': 46, 'format': 'PDF 1.7', 'title': '', 'author': '', 'subject': '', 'keywords': '', 'creator': '', 'producer': '', 'creationDate': '', 'modDate': '', 'trapped': ''}),\n",
              " Document(page_content='while useful, were essentially one-trick-ponies—their intelligence was not general. Deep Blue had \\nmassive arrays of processors that could only play chess. Algorithms for path finding could solve a \\nmaze or route a car, but they could not paint a painting.  \\n16. \\nStarting in the late 2000s and early 2010s, an older algorithm called “deep learning” \\nbecame practical to implement on low-cost hardware for the first time. This caused an almost \\novernight revolution in performance across nearly all AI projects. New, top of class algorithms were \\ndeveloped for turning speech into text, translating between languages, and recognizing what kind of', metadata={'source': 'DataRepository/MuskComplaint.pdf', 'file_path': 'DataRepository/MuskComplaint.pdf', 'page': 3, 'total_pages': 46, 'format': 'PDF 1.7', 'title': '', 'author': '', 'subject': '', 'keywords': '', 'creator': '', 'producer': '', 'creationDate': '', 'modDate': '', 'trapped': ''}),\n",
              " Document(page_content='food is shown in a photo. One of the hallmarks of deep learning is that algorithms do not need to be \\ndesigned with significant knowledge of the task at hand. They learn each task from training \\nexamples, essentially programming themselves. This means that they are far more general-purpose \\nthan earlier systems like Deep Blue. \\n17. \\nAs deep learning algorithms became increasingly sophisticated, some of the world’s \\nleading AI researchers set their sights on what has come to be called Artificial General Intelligence \\n(AGI). The basic concept of AGI is a general purpose artificial intelligence system—a machine \\nhaving intelligence for a wide variety of tasks like a human.  \\n18.', metadata={'source': 'DataRepository/MuskComplaint.pdf', 'file_path': 'DataRepository/MuskComplaint.pdf', 'page': 3, 'total_pages': 46, 'format': 'PDF 1.7', 'title': '', 'author': '', 'subject': '', 'keywords': '', 'creator': '', 'producer': '', 'creationDate': '', 'modDate': '', 'trapped': ''}),\n",
              " Document(page_content='18. \\nMr. Musk has long recognized that AGI poses a grave threat to humanity—perhaps \\nthe greatest existential threat we face today. His concerns mirrored those raised before him by \\nluminaries like Stephen Hawking and Sun Microsystems founder Bill Joy. Our entire economy is \\nbased around the fact that humans work together and come up with the best solutions to a hard task. \\nIf a machine can solve nearly any task better than we can, that machine becomes more economically \\nuseful than we are. As Mr. Joy warned, with strong AGI, “the future doesn’t need us.” Mr. Musk', metadata={'source': 'DataRepository/MuskComplaint.pdf', 'file_path': 'DataRepository/MuskComplaint.pdf', 'page': 3, 'total_pages': 46, 'format': 'PDF 1.7', 'title': '', 'author': '', 'subject': '', 'keywords': '', 'creator': '', 'producer': '', 'creationDate': '', 'modDate': '', 'trapped': ''}),\n",
              " Document(page_content='1 \\n2 \\n3 \\n4 \\n5 \\n6 \\n7 \\n8 \\n9 \\n10 \\n11 \\n12 \\n13 \\n14 \\n15 \\n16 \\n17 \\n18 \\n19 \\n20 \\n21 \\n22 \\n23 \\n24 \\n25 \\n26 \\n27 \\n28 \\n \\n \\n– 5 – \\nCOMPLAINT \\n \\npublicly called for a variety of measures to address the dangers of AGI, from voluntary moratoria \\nto regulation, but his calls largely fell on deaf ears.  \\n19. \\nBut where some like Mr. Musk see an existential threat in AGI, others see AGI as a \\nsource of profit and power.  \\n20. \\nIn 2014, Google acquired DeepMind, a research group focused on deep learning. \\nOne of DeepMind’s initial developments was AlphaZero, a chess playing algorithm. Unlike \\nprevious algorithms, however, AlphaZero used “reinforcement learning,” wherein the program', metadata={'source': 'DataRepository/MuskComplaint.pdf', 'file_path': 'DataRepository/MuskComplaint.pdf', 'page': 4, 'total_pages': 46, 'format': 'PDF 1.7', 'title': '', 'author': '', 'subject': '', 'keywords': '', 'creator': '', 'producer': '', 'creationDate': '', 'modDate': '', 'trapped': ''}),\n",
              " Document(page_content='learns to play chess by playing itself with different versions of the software. It starts by playing \\nrandomly, with no understanding of the game’s strategy. When one version of the software wins a \\ngame against another, the winning program’s internal pathways are “reinforced” and the process \\nrepeats.  \\n21. \\nAlphaZero rapidly became the strongest chess playing system in the world. \\nShockingly, it was also announced that the same program was also the strongest in the world for \\nplaying two other extremely difficult games. In Google/DeepMind’s words, “Starting from random \\nplay, and given no domain knowledge except the game rules, AlphaZero achieved within 24 hours', metadata={'source': 'DataRepository/MuskComplaint.pdf', 'file_path': 'DataRepository/MuskComplaint.pdf', 'page': 4, 'total_pages': 46, 'format': 'PDF 1.7', 'title': '', 'author': '', 'subject': '', 'keywords': '', 'creator': '', 'producer': '', 'creationDate': '', 'modDate': '', 'trapped': ''}),\n",
              " Document(page_content='a superhuman level of play in the games of chess and shogi (Japanese chess) as well as Go, and \\nconvincingly defeated a world-champion program in each case.” \\n22. \\nWith the DeepMind team, Google immediately catapulted to the front of the race for \\nAGI. Mr. Musk was deeply troubled by this development. He believed (and still does) that in the \\nhands of a closed, for-profit company like Google, AGI poses a particularly acute and noxious \\ndanger to humanity. In 2014, it was already difficult enough to compete with Google in its core \\nbusinesses. Google had collected a uniquely large set of data from our searches, our emails, and', metadata={'source': 'DataRepository/MuskComplaint.pdf', 'file_path': 'DataRepository/MuskComplaint.pdf', 'page': 4, 'total_pages': 46, 'format': 'PDF 1.7', 'title': '', 'author': '', 'subject': '', 'keywords': '', 'creator': '', 'producer': '', 'creationDate': '', 'modDate': '', 'trapped': ''}),\n",
              " Document(page_content='nearly every book in our libraries. Nevertheless, up to this point, everyone had the potential to \\ncompete with Google through superior human intelligence and hard work. AGI would make \\ncompetition nearly impossible. \\nB. \\nThe Founding Agreement Of OpenAI, Inc. \\n23. \\nMr. Altman purported to share Mr. Musk’s concerns over the threat posed by AGI. \\nIn 2015, Mr. Altman wrote that the “[d]evelopment of superhuman machine intelligence (SMI) is', metadata={'source': 'DataRepository/MuskComplaint.pdf', 'file_path': 'DataRepository/MuskComplaint.pdf', 'page': 4, 'total_pages': 46, 'format': 'PDF 1.7', 'title': '', 'author': '', 'subject': '', 'keywords': '', 'creator': '', 'producer': '', 'creationDate': '', 'modDate': '', 'trapped': ''}),\n",
              " Document(page_content='1 \\n2 \\n3 \\n4 \\n5 \\n6 \\n7 \\n8 \\n9 \\n10 \\n11 \\n12 \\n13 \\n14 \\n15 \\n16 \\n17 \\n18 \\n19 \\n20 \\n21 \\n22 \\n23 \\n24 \\n25 \\n26 \\n27 \\n28 \\n \\n \\n– 6 – \\nCOMPLAINT \\n \\nprobably the greatest threat to the continued existence of humanity. There are other threats that I \\nthink are more certain to happen . . . but are unlikely to destroy every human in the universe in the \\nway that SMI could.” Later that same year, Mr. Altman approached Mr. Musk with a proposal: that \\nthey join forces to form a non-profit AI lab that would try to catch up to Google in the race for AGI, \\nbut it would be the opposite of Google.  \\n24. \\nTogether with Mr. Brockman, the three agreed that this new lab: (a) would be a non-', metadata={'source': 'DataRepository/MuskComplaint.pdf', 'file_path': 'DataRepository/MuskComplaint.pdf', 'page': 5, 'total_pages': 46, 'format': 'PDF 1.7', 'title': '', 'author': '', 'subject': '', 'keywords': '', 'creator': '', 'producer': '', 'creationDate': '', 'modDate': '', 'trapped': ''}),\n",
              " Document(page_content='profit developing AGI for the benefit of humanity, not for a for-profit company seeking to maximize \\nshareholder profits; and (b) would be open-source, balancing only countervailing safety \\nconsiderations, and would not keep its technology closed and secret for proprietary commercial \\nreasons (The “Founding Agreement”). Reflecting the Founding Agreement, Mr. Musk named this \\nnew AI lab “OpenAI,” which would compete with, and serve as a vital counterbalance to, \\nGoogle/DeepMind in the race for AGI, but would do so to benefit humanity, not the shareholders \\nof a private, for-profit company (much less one of the largest technology companies in the world).  \\n25.', metadata={'source': 'DataRepository/MuskComplaint.pdf', 'file_path': 'DataRepository/MuskComplaint.pdf', 'page': 5, 'total_pages': 46, 'format': 'PDF 1.7', 'title': '', 'author': '', 'subject': '', 'keywords': '', 'creator': '', 'producer': '', 'creationDate': '', 'modDate': '', 'trapped': ''}),\n",
              " Document(page_content='25. \\nThe Founding Agreement was also memorialized, among other places, in OpenAI, \\nInc.’s December 8, 2015 Certificate of Incorporation, which affirmed that its “resulting technology \\nwill benefit the public and the corporation will seek to open source technology for the public benefit \\nwhen applicable. The corporation is not organized for the private gain of any person.” Ex. 1 at 1. \\nThe Certificate of Incorporation further affirmed that all of the corporation’s property was \\n“irrevocably dedicated” to these agreed purposes. Id. \\n26. \\nIn reliance on the Founding Agreement, which Mr. Altman, Mr. Brockman, and', metadata={'source': 'DataRepository/MuskComplaint.pdf', 'file_path': 'DataRepository/MuskComplaint.pdf', 'page': 5, 'total_pages': 46, 'format': 'PDF 1.7', 'title': '', 'author': '', 'subject': '', 'keywords': '', 'creator': '', 'producer': '', 'creationDate': '', 'modDate': '', 'trapped': ''}),\n",
              " Document(page_content='OpenAI, Inc. reaffirmed with Mr. Musk on multiple occasions, Mr. Musk was a moving force \\nbehind the creation of OpenAI, Inc. contributing a majority of its funding in its first several years, \\nadvising on research directions, and most importantly, recruiting some of the world’s leading \\nscientists and engineers to work at the non-profit venture, including Chief Scientist Ilya Sutskever. \\nRecruiting for OpenAI, Inc. was a Herculean task in the face of relentless recruiting efforts by \\nGoogle/DeepMind, coupled with the lavish compensation Google/DeepMind offered. There would \\nhave been no OpenAI, Inc. without Mr. Musk’s founding contributions and early leadership. Mr.', metadata={'source': 'DataRepository/MuskComplaint.pdf', 'file_path': 'DataRepository/MuskComplaint.pdf', 'page': 5, 'total_pages': 46, 'format': 'PDF 1.7', 'title': '', 'author': '', 'subject': '', 'keywords': '', 'creator': '', 'producer': '', 'creationDate': '', 'modDate': '', 'trapped': ''}),\n",
              " Document(page_content='1 \\n2 \\n3 \\n4 \\n5 \\n6 \\n7 \\n8 \\n9 \\n10 \\n11 \\n12 \\n13 \\n14 \\n15 \\n16 \\n17 \\n18 \\n19 \\n20 \\n21 \\n22 \\n23 \\n24 \\n25 \\n26 \\n27 \\n28 \\n \\n \\n– 7 – \\nCOMPLAINT \\n \\nMusk continued to make contributions to OpenAI, Inc. from its founding through September 14, \\n2020. \\n27. \\nOpenAI’s initial research was performed in the open, providing free and public \\naccess to designs, models, and code. When OpenAI, Inc. researchers discovered that an algorithm \\ncalled “Transformers,” initially invented by Google, could perform many natural language tasks \\nwithout any explicit training, entire communities sprung up to enhance and extend the models \\nreleased by OpenAI, Inc. These communities spread to open-source, grass-roots efforts and', metadata={'source': 'DataRepository/MuskComplaint.pdf', 'file_path': 'DataRepository/MuskComplaint.pdf', 'page': 6, 'total_pages': 46, 'format': 'PDF 1.7', 'title': '', 'author': '', 'subject': '', 'keywords': '', 'creator': '', 'producer': '', 'creationDate': '', 'modDate': '', 'trapped': ''}),\n",
              " Document(page_content='commercial entities alike.  \\n28. \\nMr. Altman became OpenAI, Inc.’s CEO in 2019. On September 22, 2020, OpenAI \\nentered into an agreement with Microsoft, exclusively licensing to Microsoft its Generative Pre-\\nTrained Transformer (GPT)-3 language model. However, OpenAI published a detailed paper \\ndescribing the internals and training data for GPT-3, enabling the community to create similar \\nmodels themselves. And, most critically, the Microsoft license only applied to OpenAI’s pre-AGI \\ntechnology. Microsoft obtained no rights to AGI. And it was up to OpenAI, Inc.’s non-profit Board, \\nnot Microsoft, to determine when OpenAI attained AGI. \\nC. \\nThe 2023 Breach Of The Founding Agreement \\n29.', metadata={'source': 'DataRepository/MuskComplaint.pdf', 'file_path': 'DataRepository/MuskComplaint.pdf', 'page': 6, 'total_pages': 46, 'format': 'PDF 1.7', 'title': '', 'author': '', 'subject': '', 'keywords': '', 'creator': '', 'producer': '', 'creationDate': '', 'modDate': '', 'trapped': ''}),\n",
              " Document(page_content='The 2023 Breach Of The Founding Agreement \\n29. \\nIn 2023, Defendants Mr. Altman, Mr. Brockman, and OpenAI set the Founding \\nAgreement aflame.  \\n30. \\nIn March 2023, OpenAI released its most powerful language model yet, GPT-4. \\nGPT-4 is not just capable of reasoning. It is better at reasoning than average humans. It scored in \\nthe 90th percentile on the Uniform Bar Exam for lawyers. It scored in the 99th percentile on the \\nGRE Verbal Assessment. It even scored a 77% on the Advanced Sommelier examination. At this \\ntime, Mr. Altman caused OpenAI to radically depart from its original mission and historical practice', metadata={'source': 'DataRepository/MuskComplaint.pdf', 'file_path': 'DataRepository/MuskComplaint.pdf', 'page': 6, 'total_pages': 46, 'format': 'PDF 1.7', 'title': '', 'author': '', 'subject': '', 'keywords': '', 'creator': '', 'producer': '', 'creationDate': '', 'modDate': '', 'trapped': ''}),\n",
              " Document(page_content='of making its technology and knowledge available to the public. GPT-4’s internal design was kept \\nand remains a complete secret except to OpenAI—and, on information and belief, Microsoft. There \\nare no scientific publications describing the design of GPT-4. Instead, there are just press releases \\nbragging about performance. On information and belief, this secrecy is primarily driven by \\ncommercial considerations, not safety. Although developed by OpenAI using contributions from', metadata={'source': 'DataRepository/MuskComplaint.pdf', 'file_path': 'DataRepository/MuskComplaint.pdf', 'page': 6, 'total_pages': 46, 'format': 'PDF 1.7', 'title': '', 'author': '', 'subject': '', 'keywords': '', 'creator': '', 'producer': '', 'creationDate': '', 'modDate': '', 'trapped': ''}),\n",
              " Document(page_content='1 \\n2 \\n3 \\n4 \\n5 \\n6 \\n7 \\n8 \\n9 \\n10 \\n11 \\n12 \\n13 \\n14 \\n15 \\n16 \\n17 \\n18 \\n19 \\n20 \\n21 \\n22 \\n23 \\n24 \\n25 \\n26 \\n27 \\n28 \\n \\n \\n– 8 – \\nCOMPLAINT \\n \\nPlaintiff and others that were intended to benefit the public, GPT-4 is now a de facto Microsoft \\nproprietary algorithm, which it has integrated into its Office software suite.  \\n31. \\nFurthermore, on information and belief, GPT-4 is an AGI algorithm, and hence \\nexpressly outside the scope of Microsoft’s September 2020 exclusive license with OpenAI. In this \\nregard, Microsoft’s own researchers have publicly stated that, “[g]iven the breadth and depth of \\nGPT-4’s capabilities, we believe that it could reasonably be viewed as an early (yet still incomplete)', metadata={'source': 'DataRepository/MuskComplaint.pdf', 'file_path': 'DataRepository/MuskComplaint.pdf', 'page': 7, 'total_pages': 46, 'format': 'PDF 1.7', 'title': '', 'author': '', 'subject': '', 'keywords': '', 'creator': '', 'producer': '', 'creationDate': '', 'modDate': '', 'trapped': ''}),\n",
              " Document(page_content='version of an artificial general intelligence (AGI) system.” Moreover, on information and belief, \\nOpenAI is currently developing a model known as Q* (Q star) that has an even stronger claim to \\nAGI. As noted, Microsoft only has rights to certain of OpenAI’s pre-AGI technology. But for \\npurposes of the Microsoft license, it is up to OpenAI, Inc.’s Board to determine whether OpenAI \\nhas attained AGI, and a Board coup took place in November 2023. On November 17, 2023, OpenAI, \\nInc.’s Board fired Mr. Altman after losing “confidence in his ability to continue leading OpenAI” \\nbecause “he was not consistently candid with the board.” In a series of stunning developments', metadata={'source': 'DataRepository/MuskComplaint.pdf', 'file_path': 'DataRepository/MuskComplaint.pdf', 'page': 7, 'total_pages': 46, 'format': 'PDF 1.7', 'title': '', 'author': '', 'subject': '', 'keywords': '', 'creator': '', 'producer': '', 'creationDate': '', 'modDate': '', 'trapped': ''}),\n",
              " Document(page_content='spanning the next several days, Mr. Altman and Mr. Brockman, in concert with Microsoft, exploited \\nMicrosoft’s significant leverage over OpenAI, Inc. and forced the resignation of a majority of \\nOpenAI, Inc.’s Board members, including Chief Scientist Ilya Sutskever. Mr. Altman was reinstated \\nas CEO of OpenAI, Inc. on November 21. On information and belief, the new Board members were \\nhand-picked by Mr. Altman and blessed by Microsoft. The new Board members lack substantial AI \\nexpertise and, on information and belief, are ill equipped by design to make an independent \\ndetermination of whether and when OpenAI has attained AGI—and hence when it has developed', metadata={'source': 'DataRepository/MuskComplaint.pdf', 'file_path': 'DataRepository/MuskComplaint.pdf', 'page': 7, 'total_pages': 46, 'format': 'PDF 1.7', 'title': '', 'author': '', 'subject': '', 'keywords': '', 'creator': '', 'producer': '', 'creationDate': '', 'modDate': '', 'trapped': ''}),\n",
              " Document(page_content='an algorithm that is outside the scope of Microsoft’s license.  \\n32. \\nThese events of 2023 constitute flagrant breaches of the Founding Agreement, which \\nDefendants have essentially turned on its head. To this day, OpenAI, Inc.’s website continues to \\nprofess that its charter is to ensure that AGI “benefits all of humanity.” In reality, however, OpenAI, \\nInc. has been transformed into a closed-source de facto subsidiary of the largest technology company \\nin the world: Microsoft.1 Under its new Board, it is not just developing but is actually refining an \\nAGI to maximize profits for Microsoft, rather than for the benefit of humanity. Its technology,', metadata={'source': 'DataRepository/MuskComplaint.pdf', 'file_path': 'DataRepository/MuskComplaint.pdf', 'page': 7, 'total_pages': 46, 'format': 'PDF 1.7', 'title': '', 'author': '', 'subject': '', 'keywords': '', 'creator': '', 'producer': '', 'creationDate': '', 'modDate': '', 'trapped': ''}),\n",
              " Document(page_content='1 Microsoft’s market cap as of February 28, 2024 was $3.03 trillion.', metadata={'source': 'DataRepository/MuskComplaint.pdf', 'file_path': 'DataRepository/MuskComplaint.pdf', 'page': 7, 'total_pages': 46, 'format': 'PDF 1.7', 'title': '', 'author': '', 'subject': '', 'keywords': '', 'creator': '', 'producer': '', 'creationDate': '', 'modDate': '', 'trapped': ''}),\n",
              " Document(page_content='1 \\n2 \\n3 \\n4 \\n5 \\n6 \\n7 \\n8 \\n9 \\n10 \\n11 \\n12 \\n13 \\n14 \\n15 \\n16 \\n17 \\n18 \\n19 \\n20 \\n21 \\n22 \\n23 \\n24 \\n25 \\n26 \\n27 \\n28 \\n \\n \\n– 9 – \\nCOMPLAINT \\n \\nincluding GPT-4, is closed-source primarily to serve the proprietary commercial interests of \\nMicrosoft. Indeed, as the November 2023 drama was unfolding, Microsoft’s CEO boasted that it \\nwould not matter “[i]f OpenAI disappeared tomorrow.” He explained that “[w]e have all the IP \\nrights and all the capability.” “We have the people, we have the compute, we have the data, we have \\neverything.” “We are below them, above them, around them.”  \\n33. \\nThis case is filed to compel OpenAI to adhere to the Founding Agreement and return', metadata={'source': 'DataRepository/MuskComplaint.pdf', 'file_path': 'DataRepository/MuskComplaint.pdf', 'page': 8, 'total_pages': 46, 'format': 'PDF 1.7', 'title': '', 'author': '', 'subject': '', 'keywords': '', 'creator': '', 'producer': '', 'creationDate': '', 'modDate': '', 'trapped': ''}),\n",
              " Document(page_content='to its mission to develop AGI for the benefit of humanity, not to personally benefit the individual \\nDefendants and the largest technology company in the world.  \\nDetailed Allegations \\nA. \\nMr. Musk’s Concerns Over AGI Falling Into The Wrong Hands \\n34. \\nIn 2012, Elon Musk met Demis Hassabis, the co-founder of DeepMind, a for-profit \\nartificial intelligence company. On or about this time, Mr. Musk and Mr. Hassabis met at SpaceX’s \\nfactory in Hawthorne, California where Mr. Musk and Mr. Hassabis discussed the greatest threats \\nfacing society. During this conversation, Mr. Hassabis emphasized the potential dangers that the \\nadvancement of AI presents to society.     \\n35.', metadata={'source': 'DataRepository/MuskComplaint.pdf', 'file_path': 'DataRepository/MuskComplaint.pdf', 'page': 8, 'total_pages': 46, 'format': 'PDF 1.7', 'title': '', 'author': '', 'subject': '', 'keywords': '', 'creator': '', 'producer': '', 'creationDate': '', 'modDate': '', 'trapped': ''}),\n",
              " Document(page_content='advancement of AI presents to society.     \\n35. \\nFollowing this conversation with Mr. Hassabis, Mr. Musk became increasingly \\nconcerned about the potential of AI to become super-intelligent, surpass human intelligence, and \\nthreaten humanity. Indeed, Mr. Musk was not the only person afraid about the dangers of AI and \\nthe research being conducted at DeepMind. It has been reported that following a meeting with Mr. \\nHassabis and investors in DeepMind, one of the investors remarked that the best thing he could have \\ndone for the human race was shoot Mr. Hassabis then and there. \\n36. \\nMr. Musk began discussing AI and DeepMind with those in his orbit, such as Larry', metadata={'source': 'DataRepository/MuskComplaint.pdf', 'file_path': 'DataRepository/MuskComplaint.pdf', 'page': 8, 'total_pages': 46, 'format': 'PDF 1.7', 'title': '', 'author': '', 'subject': '', 'keywords': '', 'creator': '', 'producer': '', 'creationDate': '', 'modDate': '', 'trapped': ''}),\n",
              " Document(page_content='Page, then-CEO of Google’s parent company Alphabet, Inc. Mr. Musk would frequently raise the \\ndangers of AI in his conversations with Mr. Page, but to Mr. Musk’s shock, Mr. Page was \\nunconcerned. For example, in 2013, Mr. Musk had a passionate exchange with Mr. Page about the \\ndangers of AI. He warned that unless safeguards were put in place, “artificial intelligence-systems \\nmight replace humans, making our species irrelevant or even extinct.” Mr. Page responded that \\nwould merely “be the next stage of evolution,” and claimed Mr. Musk was being a “specist”—that', metadata={'source': 'DataRepository/MuskComplaint.pdf', 'file_path': 'DataRepository/MuskComplaint.pdf', 'page': 8, 'total_pages': 46, 'format': 'PDF 1.7', 'title': '', 'author': '', 'subject': '', 'keywords': '', 'creator': '', 'producer': '', 'creationDate': '', 'modDate': '', 'trapped': ''}),\n",
              " Document(page_content='1 \\n2 \\n3 \\n4 \\n5 \\n6 \\n7 \\n8 \\n9 \\n10 \\n11 \\n12 \\n13 \\n14 \\n15 \\n16 \\n17 \\n18 \\n19 \\n20 \\n21 \\n22 \\n23 \\n24 \\n25 \\n26 \\n27 \\n28 \\n \\n \\n– 10 – \\nCOMPLAINT \\n \\nhe favored the human species over intelligent machines. Mr. Musk responded, “Well, yes, I am pro-\\nhuman.” \\n37. \\nAt the end of 2013, Mr. Musk learned to his grave concern that Google was planning \\nto acquire DeepMind. At the time, DeepMind was one of the most advanced AI companies in the \\nindustry. Thus, Mr. Musk was deeply concerned that DeepMind’s AI technology would be in the \\nhands of someone who viewed it and its power so cavalierly, and could hide its design and \\ncapabilities behind closed doors.  \\n38.', metadata={'source': 'DataRepository/MuskComplaint.pdf', 'file_path': 'DataRepository/MuskComplaint.pdf', 'page': 9, 'total_pages': 46, 'format': 'PDF 1.7', 'title': '', 'author': '', 'subject': '', 'keywords': '', 'creator': '', 'producer': '', 'creationDate': '', 'modDate': '', 'trapped': ''}),\n",
              " Document(page_content='capabilities behind closed doors.  \\n38. \\nIn an effort to prevent this powerful technology from falling into Google’s hands, \\nMr. Musk and Luke Nosek, a co-founder of PayPal, attempted to put together funding to buy \\nDeepMind. This effort culminated in an hour-long call wherein Mr. Musk and Mr. Nosek made one \\nlast effort to convince Mr. Hassabis not to sell DeepMind to Google. Mr. Musk told Mr. Hassabis \\nthat “[t]he future of AI should not be controlled by Larry [Page].”  \\n39. \\nMr. Musk and Mr. Nosek’s effort was unsuccessful. It was reported in January 2014 \\nthat DeepMind would be acquired by Google. However, this did not deter Mr. Musk from continuing', metadata={'source': 'DataRepository/MuskComplaint.pdf', 'file_path': 'DataRepository/MuskComplaint.pdf', 'page': 9, 'total_pages': 46, 'format': 'PDF 1.7', 'title': '', 'author': '', 'subject': '', 'keywords': '', 'creator': '', 'producer': '', 'creationDate': '', 'modDate': '', 'trapped': ''}),\n",
              " Document(page_content='to ensure that AI was developed and practiced safely. \\n40. \\nFollowing Google’s acquisition of DeepMind, Mr. Musk began “hosting his own \\nseries of dinner discussions on ways to counter Google and promote AI safety.” Mr. Musk also \\nreached out to President Barack Obama to discuss AI and AI safety. In 2015, Mr. Musk and \\nPresident Obama had a meeting during which Mr. Musk explained the dangers of AI and advocated \\nfor regulation. Mr. Musk felt that President Obama understood the dangers of AI, but regulation \\nnever came. \\n41. \\nDespite these setbacks, Mr. Musk continued to advocate for safe AI practices. In', metadata={'source': 'DataRepository/MuskComplaint.pdf', 'file_path': 'DataRepository/MuskComplaint.pdf', 'page': 9, 'total_pages': 46, 'format': 'PDF 1.7', 'title': '', 'author': '', 'subject': '', 'keywords': '', 'creator': '', 'producer': '', 'creationDate': '', 'modDate': '', 'trapped': ''}),\n",
              " Document(page_content='2015, it appeared that Mr. Musk may have found someone who understood his concerns about AI \\nand his desire to keep the first AGI out of the hands of a private company like Google: Defendant \\nSam Altman.   \\n42. \\nAt this time, Mr. Altman was the president of Y Combinator, a start-up accelerator \\nin Silicon Valley. Before that, Mr. Altman had been involved in various startup ventures.', metadata={'source': 'DataRepository/MuskComplaint.pdf', 'file_path': 'DataRepository/MuskComplaint.pdf', 'page': 9, 'total_pages': 46, 'format': 'PDF 1.7', 'title': '', 'author': '', 'subject': '', 'keywords': '', 'creator': '', 'producer': '', 'creationDate': '', 'modDate': '', 'trapped': ''}),\n",
              " Document(page_content='1 \\n2 \\n3 \\n4 \\n5 \\n6 \\n7 \\n8 \\n9 \\n10 \\n11 \\n12 \\n13 \\n14 \\n15 \\n16 \\n17 \\n18 \\n19 \\n20 \\n21 \\n22 \\n23 \\n24 \\n25 \\n26 \\n27 \\n28 \\n \\n \\n– 11 – \\nCOMPLAINT \\n \\n43. \\nMr. Altman appeared to share Mr. Musk’s concerns surrounding AI. In public blog \\nposts dating back to 2014, Mr. Altman stated that AGI, if made, would “be the biggest development \\nin technology ever.” Mr. Altman pointed out that there are many companies making strides towards \\nachieving AGI, but acknowledged the unfortunate reality that the “good ones are very secretive \\nabout it.” \\n44. \\nOn February 25, 2015, Mr. Altman also expressed his concern surrounding the \\ndevelopment of what he referred to as “superhuman machine intelligence” which he identified as', metadata={'source': 'DataRepository/MuskComplaint.pdf', 'file_path': 'DataRepository/MuskComplaint.pdf', 'page': 10, 'total_pages': 46, 'format': 'PDF 1.7', 'title': '', 'author': '', 'subject': '', 'keywords': '', 'creator': '', 'producer': '', 'creationDate': '', 'modDate': '', 'trapped': ''}),\n",
              " Document(page_content='“probably the greatest threat to the continued existence of humanity” and emphasized that “as a \\nhuman programmed to survive and reproduce, I feel we should fight it.” Further, Mr. Altman \\ncriticized those who believed that “superhuman machine intelligence” was dangerous but dismissed \\nit as “never going to happen or definitely very far off.” He accused them of engaging in “sloppy, \\ndangerous thinking.” \\n45. \\nIndeed, in early March 2015, Mr. Altman extolled the importance of government \\nregulation as a means to ensure AI is created safely and suggested that “a group of very smart people \\nwith a lot of resources” likely involving “US companies in some way” would be the most probable', metadata={'source': 'DataRepository/MuskComplaint.pdf', 'file_path': 'DataRepository/MuskComplaint.pdf', 'page': 10, 'total_pages': 46, 'format': 'PDF 1.7', 'title': '', 'author': '', 'subject': '', 'keywords': '', 'creator': '', 'producer': '', 'creationDate': '', 'modDate': '', 'trapped': ''}),\n",
              " Document(page_content='group to achieve “superhuman machine intelligence” first. \\n46. \\nLater that month, Mr. Altman reached out to Mr. Musk to inquire whether he would \\nbe interested in drafting an open letter to the United States Government regarding AI. The two began \\npreparing a letter and approaching those of influence in the technology and AI sectors about signing. \\nIt did not take long before those across the industry heard rumors of the letter.  \\n47. \\nFor example, in April of 2015, Mr. Hassabis reached out to Mr. Musk stating that he \\nhad heard from multiple sources that Mr. Musk was drafting a letter addressed to the President', metadata={'source': 'DataRepository/MuskComplaint.pdf', 'file_path': 'DataRepository/MuskComplaint.pdf', 'page': 10, 'total_pages': 46, 'format': 'PDF 1.7', 'title': '', 'author': '', 'subject': '', 'keywords': '', 'creator': '', 'producer': '', 'creationDate': '', 'modDate': '', 'trapped': ''}),\n",
              " Document(page_content='calling for regulation of AI. Mr. Musk defended the idea of the regulation of AI to Mr. Hassabis, \\nstating: “If done well, it may very well accelerate AI in the long term. Without the public comfort \\nthat regulatory oversight provides, there could very well be a situation where an AI causes great \\nharm and thereafter AI research is banned as dangerous to public safety.” \\n48. \\nFive days after Mr. Hassabis reached out to Mr. Musk about the open letter regarding \\nAI, Mr. Hassabis announced the first meeting of the Google DeepMind AI Ethics Board, a board', metadata={'source': 'DataRepository/MuskComplaint.pdf', 'file_path': 'DataRepository/MuskComplaint.pdf', 'page': 10, 'total_pages': 46, 'format': 'PDF 1.7', 'title': '', 'author': '', 'subject': '', 'keywords': '', 'creator': '', 'producer': '', 'creationDate': '', 'modDate': '', 'trapped': ''}),\n",
              " Document(page_content='1 \\n2 \\n3 \\n4 \\n5 \\n6 \\n7 \\n8 \\n9 \\n10 \\n11 \\n12 \\n13 \\n14 \\n15 \\n16 \\n17 \\n18 \\n19 \\n20 \\n21 \\n22 \\n23 \\n24 \\n25 \\n26 \\n27 \\n28 \\n \\n \\n– 12 – \\nCOMPLAINT \\n \\nthat Google and DeepMind promised to establish two years earlier when Google acquired \\nDeepMind. Mr. Musk was asked to be a member of the board and offered for the first meeting to be \\nhosted at SpaceX in Hawthorne, California. It became clear to Mr. Musk after the first meeting that \\nthis board was not a serious endeavor, but was rather a façade to try to slow down any regulation \\nof AI.  \\n49. \\nThe Open Letter was later published on October 28, 2015, and signed by over eleven \\nthousand individuals, including Mr. Musk, Stephen Hawking, and Steve Wozniak. \\nB.', metadata={'source': 'DataRepository/MuskComplaint.pdf', 'file_path': 'DataRepository/MuskComplaint.pdf', 'page': 11, 'total_pages': 46, 'format': 'PDF 1.7', 'title': '', 'author': '', 'subject': '', 'keywords': '', 'creator': '', 'producer': '', 'creationDate': '', 'modDate': '', 'trapped': ''}),\n",
              " Document(page_content='B. \\nOpenAI, Inc.’s Founding Agreement \\n50. \\nOn May 25, 2015, Mr. Altman emailed Mr. Musk, writing that he had “[b]een \\nthinking a lot about whether it’s possible to stop humanity from developing AI. I think the answer \\nis almost definitely not. If it’s going to happen, it seems like it would be good for someone other \\nthan Google to do it first.” Mr. Altman had an idea: that Y Combinator start a “Manhattan Project” \\nfor AI. (Unfortunately, it turns out that the “Manhattan Project” is a moniker that may be all too \\napt.) He proposed that “we could structure it so that the tech belongs to the world via some sort of', metadata={'source': 'DataRepository/MuskComplaint.pdf', 'file_path': 'DataRepository/MuskComplaint.pdf', 'page': 11, 'total_pages': 46, 'format': 'PDF 1.7', 'title': '', 'author': '', 'subject': '', 'keywords': '', 'creator': '', 'producer': '', 'creationDate': '', 'modDate': '', 'trapped': ''}),\n",
              " Document(page_content='nonprofit but the people working on it get startup-like compensation if it works. Obviously we’d \\ncomply with/aggressively support all regulation.” Mr. Musk responded, “Probably worth a \\nconversation.” \\n51. \\nAfter further communications, Mr. Altman emailed Mr. Musk on June 24, 2015 with \\na detailed proposal for this new “AI lab.” “The mission would be to create the first general AI and \\nuse it for individual empowerment—ie, the distributed version of the future that seems the safest. \\nMore generally, safety should be a first-class requirement.” “The technology would be owned by \\nthe foundation and used ‘for the good of the world’[.]” He proposed that they start with a group of', metadata={'source': 'DataRepository/MuskComplaint.pdf', 'file_path': 'DataRepository/MuskComplaint.pdf', 'page': 11, 'total_pages': 46, 'format': 'PDF 1.7', 'title': '', 'author': '', 'subject': '', 'keywords': '', 'creator': '', 'producer': '', 'creationDate': '', 'modDate': '', 'trapped': ''}),\n",
              " Document(page_content='7-10 people and expand from there. He also proposed a governance structure. Mr. Musk responded, \\n“Agree on all.” Ex. 2 at 1.  \\n52. \\nSoon thereafter, Mr. Altman began recruiting others to help with the development of \\nthe project. Notably, Mr. Altman approached Gregory Brockman to help with the project.  \\n53. \\nIn November 2015, Mr. Altman put Mr. Brockman in communication with Mr. Musk \\nvia email. Regarding the project, Mr. Brockman told Mr. Musk, “I hope for us to enter the field as', metadata={'source': 'DataRepository/MuskComplaint.pdf', 'file_path': 'DataRepository/MuskComplaint.pdf', 'page': 11, 'total_pages': 46, 'format': 'PDF 1.7', 'title': '', 'author': '', 'subject': '', 'keywords': '', 'creator': '', 'producer': '', 'creationDate': '', 'modDate': '', 'trapped': ''}),\n",
              " Document(page_content='1 \\n2 \\n3 \\n4 \\n5 \\n6 \\n7 \\n8 \\n9 \\n10 \\n11 \\n12 \\n13 \\n14 \\n15 \\n16 \\n17 \\n18 \\n19 \\n20 \\n21 \\n22 \\n23 \\n24 \\n25 \\n26 \\n27 \\n28 \\n \\n \\n– 13 – \\nCOMPLAINT \\n \\na neutral group looking to collaborate widely and shift the dialog towards being about humanity \\nwinning rather than any particular group or company. (I think that’s the best way to bootstrap \\nourselves into being a leading research institution.).” Optimistic about the possibility of a neutral AI \\nresearch group focused on humanity rather than profit for any particular individual or group, \\nMr. Musk told Mr. Brockman that he would commit funding. \\n54. \\nMr. Musk came up with the name of the new lab, a name reflecting the Founding', metadata={'source': 'DataRepository/MuskComplaint.pdf', 'file_path': 'DataRepository/MuskComplaint.pdf', 'page': 12, 'total_pages': 46, 'format': 'PDF 1.7', 'title': '', 'author': '', 'subject': '', 'keywords': '', 'creator': '', 'producer': '', 'creationDate': '', 'modDate': '', 'trapped': ''}),\n",
              " Document(page_content='Agreement: “Open AI Institute,” or simply, “OpenAI.”  \\n55. \\nWith these principles of the Founding Agreement in mind, Mr. Musk joined forces \\nwith Mr. Altman and Mr. Brockman to formalize and launch the project. Mr. Musk was actively \\ninvolved in the project, even prior to it being publicly announced. For example, Mr. Musk advised \\nMr. Brockman on compensation packages for employees, sharing with Mr. Brockman his strategies \\nfor compensation and retaining talent.  \\n56. \\nOn December 8, 2015, a Certificate of Incorporation for OpenAI, Inc. was filed with \\nthe Delaware Secretary of State. The Certificate memorialized in writing the Founding Agreement:', metadata={'source': 'DataRepository/MuskComplaint.pdf', 'file_path': 'DataRepository/MuskComplaint.pdf', 'page': 12, 'total_pages': 46, 'format': 'PDF 1.7', 'title': '', 'author': '', 'subject': '', 'keywords': '', 'creator': '', 'producer': '', 'creationDate': '', 'modDate': '', 'trapped': ''}),\n",
              " Document(page_content='THIRD: This Corporation shall be a nonprofit corporation organized exclusively for \\ncharitable and/or educational purposes within the meaning of section 501(c)(3) of \\nthe Internal Revenue Code of 1986, as amended, or the corresponding provision of \\nany future United States Internal Revenue law. The specific purpose of this \\ncorporation is to provide funding for research, development and distribution of \\ntechnology related to artificial intelligence. The resulting technology will benefit the \\npublic and the corporation will seek to open source technology for the public benefit \\nwhen applicable. The corporation is not organized for the private gain of any \\nperson. . . .', metadata={'source': 'DataRepository/MuskComplaint.pdf', 'file_path': 'DataRepository/MuskComplaint.pdf', 'page': 12, 'total_pages': 46, 'format': 'PDF 1.7', 'title': '', 'author': '', 'subject': '', 'keywords': '', 'creator': '', 'producer': '', 'creationDate': '', 'modDate': '', 'trapped': ''}),\n",
              " Document(page_content='person. . . . \\nFIFTH: The property of this corporation is irrevocably dedicated to the purposes in \\nArticle THREE hereof and no part of the net income or assets of this corporation \\nshall ever inure to the benefit of any director, officer or member thereof or to the \\nbenefit of any private person. Upon the dissolution or winding up of this corporation, \\nits assets remaining after payment, or provision for payment, of all debts and \\nliabilities of this corporation shall be distributed to a nonprofit fund, foundation, or \\ncorporation which is organized and operated exclusively for charitable, educational \\nand/or religious purposes and which has established its tax exempt status under', metadata={'source': 'DataRepository/MuskComplaint.pdf', 'file_path': 'DataRepository/MuskComplaint.pdf', 'page': 12, 'total_pages': 46, 'format': 'PDF 1.7', 'title': '', 'author': '', 'subject': '', 'keywords': '', 'creator': '', 'producer': '', 'creationDate': '', 'modDate': '', 'trapped': ''}),\n",
              " Document(page_content='Internal Revenue Code section 501(c)(3), or the corresponding section of any future \\nfederal tax code, or shall be distributed to the federal government, or to a state or \\nlocal government, for a public purpose.', metadata={'source': 'DataRepository/MuskComplaint.pdf', 'file_path': 'DataRepository/MuskComplaint.pdf', 'page': 12, 'total_pages': 46, 'format': 'PDF 1.7', 'title': '', 'author': '', 'subject': '', 'keywords': '', 'creator': '', 'producer': '', 'creationDate': '', 'modDate': '', 'trapped': ''}),\n",
              " Document(page_content='1 \\n2 \\n3 \\n4 \\n5 \\n6 \\n7 \\n8 \\n9 \\n10 \\n11 \\n12 \\n13 \\n14 \\n15 \\n16 \\n17 \\n18 \\n19 \\n20 \\n21 \\n22 \\n23 \\n24 \\n25 \\n26 \\n27 \\n28 \\n \\n \\n– 14 – \\nCOMPLAINT \\n \\n57. \\nOpenAI, Inc. was publicly announced on December 11, 2015. In the announcement, \\nMr. Musk and Mr. Altman were named as co-chairs and Mr. Brockman was named as the CTO. The \\nannouncement emphasized that OpenAI was designed to “benefit humanity,” and its research would \\nbe “free from financial obligation”: \\nOpenAI is a non-profit artificial intelligence research company. Our goal is to \\nadvance digital intelligence in the way that is most likely to benefit humanity as a \\nwhole, unconstrained by a need to generate financial return. Since our research is', metadata={'source': 'DataRepository/MuskComplaint.pdf', 'file_path': 'DataRepository/MuskComplaint.pdf', 'page': 13, 'total_pages': 46, 'format': 'PDF 1.7', 'title': '', 'author': '', 'subject': '', 'keywords': '', 'creator': '', 'producer': '', 'creationDate': '', 'modDate': '', 'trapped': ''}),\n",
              " Document(page_content='free from financial obligations, we can better focus on a positive human impact.  \\nEx. 3 at 1. \\nC. \\nMr. Musk’s Crucial Role In Getting OpenAI, Inc. Off The Ground \\n58. \\nIn an email on the day of the public announcement, Mr. Musk wrote that “[o]ur most \\nimportant consideration is recruitment of the best people.” He pledged that helping with the \\nrecruiting effort would be his “absolute top priority 24/7.” He acknowledged that “[w]e are \\noutmanned and outgunned by a ridiculous margin by organizations you know well, but we have \\nright on our side and that counts for a lot. I like the odds.” Mr. Musk brought to bear his connections,', metadata={'source': 'DataRepository/MuskComplaint.pdf', 'file_path': 'DataRepository/MuskComplaint.pdf', 'page': 13, 'total_pages': 46, 'format': 'PDF 1.7', 'title': '', 'author': '', 'subject': '', 'keywords': '', 'creator': '', 'producer': '', 'creationDate': '', 'modDate': '', 'trapped': ''}),\n",
              " Document(page_content='stature and clout in the effort. The fact that OpenAI, Inc. was an Elon Musk-sponsored initiative, \\nand that Mr. Musk served as co-chair, was instrumental to OpenAI, Inc.’s recruiting efforts, \\nparticularly in the face of Google/DeepMind’s counter-recruiting. Without Mr. Musk’s involvement \\nand substantial supporting efforts and resources—his consideration for the Founding Agreement—\\nit is highly likely that OpenAI, Inc. would never have gotten off the ground. \\n59. \\nOne of the most important initial hires was for the role of Chief Scientist. Mr. \\nAltman, Mr. Brockman, and Mr. Musk all wanted Ilya Sutskever, then a research scientist at Google,', metadata={'source': 'DataRepository/MuskComplaint.pdf', 'file_path': 'DataRepository/MuskComplaint.pdf', 'page': 13, 'total_pages': 46, 'format': 'PDF 1.7', 'title': '', 'author': '', 'subject': '', 'keywords': '', 'creator': '', 'producer': '', 'creationDate': '', 'modDate': '', 'trapped': ''}),\n",
              " Document(page_content='in that role. Dr. Sutskever went back and forth on whether to leave Google and join the project, but \\nit was ultimately a call from Mr. Musk on the day OpenAI, Inc. was publicly announced that \\nconvinced Dr. Sutskever to commit to joining the project as OpenAI, Inc.’s Chief Scientist.  \\n60. \\nMr. Musk actively recruited for OpenAI, Inc. over the next several months. \\nGoogle/DeepMind made increasingly lavish counter-offers to OpenAI, Inc. recruits in an attempt to \\nkill the new venture. In late February, Mr. Musk emailed Mr. Brockman and Mr. Altman, reiterating \\nthat “[w]e need to do what it takes to get the top talent. Let’s go higher. If, at some point, we need', metadata={'source': 'DataRepository/MuskComplaint.pdf', 'file_path': 'DataRepository/MuskComplaint.pdf', 'page': 13, 'total_pages': 46, 'format': 'PDF 1.7', 'title': '', 'author': '', 'subject': '', 'keywords': '', 'creator': '', 'producer': '', 'creationDate': '', 'modDate': '', 'trapped': ''}),\n",
              " Document(page_content='1 \\n2 \\n3 \\n4 \\n5 \\n6 \\n7 \\n8 \\n9 \\n10 \\n11 \\n12 \\n13 \\n14 \\n15 \\n16 \\n17 \\n18 \\n19 \\n20 \\n21 \\n22 \\n23 \\n24 \\n25 \\n26 \\n27 \\n28 \\n \\n \\n– 15 – \\nCOMPLAINT \\n \\nto revisit what existing people are getting paid, that’s fine. Either we get the best people in the world \\nor we will get whipped by Deepmind. Whatever it takes to bring on ace talent is fin[e] by me. \\nDeepmind is causing me extreme mental stress. If they win, it will be really bad news with their one \\nmind to rule the world philosophy. They are obviously making major progress and well they should, \\ngiven the talent level over there.” \\n61. \\nMr. Musk was not just using his connections and clout to recruit on behalf of OpenAI,', metadata={'source': 'DataRepository/MuskComplaint.pdf', 'file_path': 'DataRepository/MuskComplaint.pdf', 'page': 14, 'total_pages': 46, 'format': 'PDF 1.7', 'title': '', 'author': '', 'subject': '', 'keywords': '', 'creator': '', 'producer': '', 'creationDate': '', 'modDate': '', 'trapped': ''}),\n",
              " Document(page_content='Inc. When he told Mr. Brockman and Mr. Altman to go “higher” in their offers and “do what it takes \\nto get the top talent,” he was the one funding those higher offers. In 2016 alone, Mr. Musk \\ncontributed over $15 million dollars to OpenAI, Inc., more than any other donor. The funding he \\nprovided enabled OpenAI, Inc. to assemble a team of top talent. Similarly, in 2017, Mr. Musk \\ncontributed nearly $20 million dollars to OpenAI, Inc., again, more than any other donor. All told, \\nMr. Musk contributed more than $44 million to OpenAI, Inc. between 2016 and September 2020.  \\n62. \\nIn addition, through Musk Industries LLC, Mr. Musk leased OpenAI, Inc.’s initial', metadata={'source': 'DataRepository/MuskComplaint.pdf', 'file_path': 'DataRepository/MuskComplaint.pdf', 'page': 14, 'total_pages': 46, 'format': 'PDF 1.7', 'title': '', 'author': '', 'subject': '', 'keywords': '', 'creator': '', 'producer': '', 'creationDate': '', 'modDate': '', 'trapped': ''}),\n",
              " Document(page_content='office space in the Pioneer Building in San Francisco and paid the monthly rental expenses. Mr. \\nMusk regularly visited OpenAI, Inc., and was present for important company milestones, such as \\nwhen the first DGX-1 AI supercomputer was donated to OpenAI, Inc. in 2016. Mr. Musk would \\nreceive updates on OpenAI, Inc.’s progress and would provide his feedback and advice. \\nD. \\nMr. Altman And Mr. Brockman Repeatedly Reaffirm The Founding Agreement \\n63. \\nIn 2017, Mr. Brockman and others suggested transforming OpenAI, Inc. from a non-\\nprofit to a for-profit corporation. After a series of communications over several weeks, Mr. Musk', metadata={'source': 'DataRepository/MuskComplaint.pdf', 'file_path': 'DataRepository/MuskComplaint.pdf', 'page': 14, 'total_pages': 46, 'format': 'PDF 1.7', 'title': '', 'author': '', 'subject': '', 'keywords': '', 'creator': '', 'producer': '', 'creationDate': '', 'modDate': '', 'trapped': ''}),\n",
              " Document(page_content='told Mr. Brockman, Dr. Sutskever, and Mr. Altman “[e]ither go do something on your own or \\ncontinue with OpenAI as a nonprofit. I will no longer fund OpenAI until you have made a firm \\ncommitment to stay or I’m just being a fool who is essentially providing free funding to a startup. \\nDiscussions are over.”  \\n64. \\nIn response, Mr. Altman told Mr. Musk “[I] remain enthusiastic about the non-profit \\nstructure!” Ultimately, Mr. Brockman and Mr. Sustkever conveyed to Mr. Musk that they, too, were \\nresolved to continuing the non-profit structure, and that they would spend the next year committed \\nto fundraising to support the non-profit.', metadata={'source': 'DataRepository/MuskComplaint.pdf', 'file_path': 'DataRepository/MuskComplaint.pdf', 'page': 14, 'total_pages': 46, 'format': 'PDF 1.7', 'title': '', 'author': '', 'subject': '', 'keywords': '', 'creator': '', 'producer': '', 'creationDate': '', 'modDate': '', 'trapped': ''}),\n",
              " Document(page_content='1 \\n2 \\n3 \\n4 \\n5 \\n6 \\n7 \\n8 \\n9 \\n10 \\n11 \\n12 \\n13 \\n14 \\n15 \\n16 \\n17 \\n18 \\n19 \\n20 \\n21 \\n22 \\n23 \\n24 \\n25 \\n26 \\n27 \\n28 \\n \\n \\n– 16 – \\nCOMPLAINT \\n \\n65. \\nOn February 21, 2018, Mr. Musk stepped down as a co-chair of OpenAI, Inc. \\nNevertheless, Mr. Musk continued making contributions to OpenAI, Inc. relying on, and in \\nfurtherance of, the Founding Agreement. For example, in 2018, Mr. Musk donated approximately \\n$3.5 million to OpenAI, Inc. He also continued receiving updates about OpenAI, Inc. from Mr. \\nBrockman, Dr. Sutskever, and Mr. Altman.  \\n66. \\nIn April 2018, Mr. Altman sent Mr. Musk a draft OpenAI Charter and solicited his', metadata={'source': 'DataRepository/MuskComplaint.pdf', 'file_path': 'DataRepository/MuskComplaint.pdf', 'page': 15, 'total_pages': 46, 'format': 'PDF 1.7', 'title': '', 'author': '', 'subject': '', 'keywords': '', 'creator': '', 'producer': '', 'creationDate': '', 'modDate': '', 'trapped': ''}),\n",
              " Document(page_content='feedback. The draft charter described OpenAI’s mission as to ensure that AGI “benefits all of \\nhumanity.” It stated, “We commit to use any influence we obtain over AGI’s deployment to ensure \\nit is used for the benefit of all, and to avoid enabling uses of AI or AGI that harm humanity or unduly \\nconcentrate power. Our primary fiduciary duty is to humanity. We anticipate needing to marshal \\nsubstantial resources to fulfill our mission, but will always assiduously act to minimize conflicts of \\ninterest . . . that could compromise broad benefit.” \\n67. \\nOn March 11, 2019, OpenAI, Inc. announced that it would be creating a for-profit', metadata={'source': 'DataRepository/MuskComplaint.pdf', 'file_path': 'DataRepository/MuskComplaint.pdf', 'page': 15, 'total_pages': 46, 'format': 'PDF 1.7', 'title': '', 'author': '', 'subject': '', 'keywords': '', 'creator': '', 'producer': '', 'creationDate': '', 'modDate': '', 'trapped': ''}),\n",
              " Document(page_content='subsidiary: OpenAI, L.P. Prospective investors were notified of an “important warning” at the top \\nof the summary term sheet that the for-profit entity “exists to advance OpenAI Inc.’s [the non-\\nprofit’s] mission of ensuring that safe artificial general intelligence is developed and benefits all of \\nhumanity. The General Partner’s duty to this mission and the principles advanced in the OpenAI \\nInc. Charter take precedence over any obligation to generate a profit.” Accordingly, investors were \\nexpressly advised that “[i]t would be wise to view any investment in OpenAI LP in the spirit of a \\ndonation.”  \\n68. \\nFollowing the announcement, Mr. Musk reached out to Mr. Altman asking him to', metadata={'source': 'DataRepository/MuskComplaint.pdf', 'file_path': 'DataRepository/MuskComplaint.pdf', 'page': 15, 'total_pages': 46, 'format': 'PDF 1.7', 'title': '', 'author': '', 'subject': '', 'keywords': '', 'creator': '', 'producer': '', 'creationDate': '', 'modDate': '', 'trapped': ''}),\n",
              " Document(page_content='“be explicit that I have no financial interest in the for-profit arm of OpenAI.” However, Mr. Musk \\ncontinued to support OpenAI, Inc., the non-profit, donating an additional $3.48 million in 2019.  \\n69. \\nOn September 22, 2020, OpenAI announced that it exclusively licensed certain of its \\npre-AGI technology to Microsoft. Consistent with the Founding Agreement, OpenAI’s website \\nstates that AGI, which it describes as “a highly autonomous system that outperforms humans at most \\neconomically valuable work” “is excluded from IP licenses and other commercial terms with', metadata={'source': 'DataRepository/MuskComplaint.pdf', 'file_path': 'DataRepository/MuskComplaint.pdf', 'page': 15, 'total_pages': 46, 'format': 'PDF 1.7', 'title': '', 'author': '', 'subject': '', 'keywords': '', 'creator': '', 'producer': '', 'creationDate': '', 'modDate': '', 'trapped': ''}),\n",
              " Document(page_content='1 \\n2 \\n3 \\n4 \\n5 \\n6 \\n7 \\n8 \\n9 \\n10 \\n11 \\n12 \\n13 \\n14 \\n15 \\n16 \\n17 \\n18 \\n19 \\n20 \\n21 \\n22 \\n23 \\n24 \\n25 \\n26 \\n27 \\n28 \\n \\n \\n– 17 – \\nCOMPLAINT \\n \\nMicrosoft, which only apply to pre-AGI technology.” However, OpenAI’s Board “determines when \\nwe’ve attained AGI.”  \\nE. \\nOpenAI’s Shifting Corporate Structure \\n70. \\nIn the years following the announcement of the OpenAI, L.P., OpenAI’s corporate \\nstructure became increasingly complex. OpenAI, L.L.C. was formed in Delaware on September 17, \\n2020. OpenAI, L.L.C.’s sole member is OpenAI OpCo, LLC.  \\n71. \\nOpenAI OpCo, LLC was formed in Delaware on September 19, 2018, and its sole \\nmember is OpenAI Global, LLC.  \\n72.', metadata={'source': 'DataRepository/MuskComplaint.pdf', 'file_path': 'DataRepository/MuskComplaint.pdf', 'page': 16, 'total_pages': 46, 'format': 'PDF 1.7', 'title': '', 'author': '', 'subject': '', 'keywords': '', 'creator': '', 'producer': '', 'creationDate': '', 'modDate': '', 'trapped': ''}),\n",
              " Document(page_content='member is OpenAI Global, LLC.  \\n72. \\nOpenAI Global, LLC was formed in Delaware on December 28, 2022. On \\ninformation and belief, OpenAI Global, LLC, like OpenAI, L.P., is a capped for-profit entity. \\nOpenAI Global, LLC has two members: Microsoft Corporation and OAI Corporation, LLC.  \\n73. \\nOAI Corporation, LLC is a limited liability company formed in Delaware. The sole \\nmember of OAI Corporation, LLC is OpenAI Holdings, LLC.  \\n74. \\nOpenAI Holdings, LLC was formed in Delaware on March 17, 2023, and has \\nmultiple members including OpenAI, Inc., Aestas, LLC, and various individual members.  \\n75. \\nOn information and belief, OpenAI, Inc. manages OpenAI, L.P. and OpenAI Global,', metadata={'source': 'DataRepository/MuskComplaint.pdf', 'file_path': 'DataRepository/MuskComplaint.pdf', 'page': 16, 'total_pages': 46, 'format': 'PDF 1.7', 'title': '', 'author': '', 'subject': '', 'keywords': '', 'creator': '', 'producer': '', 'creationDate': '', 'modDate': '', 'trapped': ''}),\n",
              " Document(page_content='LLC through its general partner, OpenAI GP, L.L.C., which was registered as a limited liability \\ncompany in Delaware on September 19, 2018. OpenAI GP, L.L.C. is wholly owned by OpenAI, \\nInc. (the non-profit), and is controlled by the non-profit’s Board of Directors. Under OpenAI’s \\ncharter, the Board has no fiduciary duties to shareholders; rather, its sole fiduciary duty is to \\nhumanity.  \\n76. \\nOn information and belief, at least OpenAI, L.P. and OpenAI GP LLC were initially \\nestablished to facilitate and fund OpenAI, Inc.’s non-profit mission as set forth in the Founding \\nAgreement.   \\nF. \\nThe Development Of OpenAI’s Technology—From AI To AGI \\n77.', metadata={'source': 'DataRepository/MuskComplaint.pdf', 'file_path': 'DataRepository/MuskComplaint.pdf', 'page': 16, 'total_pages': 46, 'format': 'PDF 1.7', 'title': '', 'author': '', 'subject': '', 'keywords': '', 'creator': '', 'producer': '', 'creationDate': '', 'modDate': '', 'trapped': ''}),\n",
              " Document(page_content='77. \\nInitial work at OpenAI followed much in the footsteps of DeepMind. OpenAI used \\nreinforcement learning to play a game. Instead of playing chess, however, OpenAI competed in \\nDota 2, a strategy video game with far more moving pieces than chess. OpenAI’s team quickly', metadata={'source': 'DataRepository/MuskComplaint.pdf', 'file_path': 'DataRepository/MuskComplaint.pdf', 'page': 16, 'total_pages': 46, 'format': 'PDF 1.7', 'title': '', 'author': '', 'subject': '', 'keywords': '', 'creator': '', 'producer': '', 'creationDate': '', 'modDate': '', 'trapped': ''}),\n",
              " Document(page_content='1 \\n2 \\n3 \\n4 \\n5 \\n6 \\n7 \\n8 \\n9 \\n10 \\n11 \\n12 \\n13 \\n14 \\n15 \\n16 \\n17 \\n18 \\n19 \\n20 \\n21 \\n22 \\n23 \\n24 \\n25 \\n26 \\n27 \\n28 \\n \\n \\n– 18 – \\nCOMPLAINT \\n \\nconstructed a new model that beat the reigning world champion team, demonstrating “that self-play \\nreinforcement learning can achieve superhuman performance on a difficult task.” \\n78. \\nMeanwhile, at Google, an algorithm called the Transformer was created that solved \\nmany of the issues deep learning had faced in understanding long sequences of text. This algorithm, \\nan example of a “large-language model,” was developed to translate text from one language to \\nanother and works by forming connections between words in the source language and mapping', metadata={'source': 'DataRepository/MuskComplaint.pdf', 'file_path': 'DataRepository/MuskComplaint.pdf', 'page': 17, 'total_pages': 46, 'format': 'PDF 1.7', 'title': '', 'author': '', 'subject': '', 'keywords': '', 'creator': '', 'producer': '', 'creationDate': '', 'modDate': '', 'trapped': ''}),\n",
              " Document(page_content='those connections to the target language. \\n79. \\nResearchers at OpenAI continued this research and quickly produced yet another \\nstartling result: by using the first half of Google’s Transformer architecture, a deep neural network \\ncould be pre-trained on a large corpus of text and used to generate new text. In January 2018, \\nOpenAI released the source code and trained model for this Generative Pre-Trained Transformer \\n(GPT) along with a detailed paper describing the model and its capabilities  \\n80. \\nIn 2019, OpenAI released a second-generation model, GPT-2. The release was again \\naccompanied by a detailed paper describing the model and noting that unlike previous models,', metadata={'source': 'DataRepository/MuskComplaint.pdf', 'file_path': 'DataRepository/MuskComplaint.pdf', 'page': 17, 'total_pages': 46, 'format': 'PDF 1.7', 'title': '', 'author': '', 'subject': '', 'keywords': '', 'creator': '', 'producer': '', 'creationDate': '', 'modDate': '', 'trapped': ''}),\n",
              " Document(page_content='which needed to be trained on a specific task, “[w]hen a large language model is trained on a \\nsufficiently large and diverse dataset it is able to perform well across many domains and datasets.” \\nThese models were proving themselves to be very different from previous AI systems. Instead of \\ntraining the system to perform a particular task, they could be simply “asked” to perform a new task \\nin natural language.   \\n81. \\nAs contemplated by the Founding Agreement, OpenAI publicly released the full \\nversion of GPT-2. Notably, it did so despite the fact that “humans find GPT-2 outputs convincing,” \\nthat “GPT-2 can be fine-tuned for misuse,” and that “detection [of GPT generated text] is', metadata={'source': 'DataRepository/MuskComplaint.pdf', 'file_path': 'DataRepository/MuskComplaint.pdf', 'page': 17, 'total_pages': 46, 'format': 'PDF 1.7', 'title': '', 'author': '', 'subject': '', 'keywords': '', 'creator': '', 'producer': '', 'creationDate': '', 'modDate': '', 'trapped': ''}),\n",
              " Document(page_content='challenging.” At the time, OpenAI stated that it was releasing the full, open version with the hope \\nthat it “will be useful to developers of future powerful models.” This release was accompanied by a \\ndetailed paper co-authored by OpenAI scientists as well as independent social and technical \\nscientists. This paper explained just some of the many benefits that came from releasing models \\npublically as opposed to keeping them closed.', metadata={'source': 'DataRepository/MuskComplaint.pdf', 'file_path': 'DataRepository/MuskComplaint.pdf', 'page': 17, 'total_pages': 46, 'format': 'PDF 1.7', 'title': '', 'author': '', 'subject': '', 'keywords': '', 'creator': '', 'producer': '', 'creationDate': '', 'modDate': '', 'trapped': ''}),\n",
              " Document(page_content='1 \\n2 \\n3 \\n4 \\n5 \\n6 \\n7 \\n8 \\n9 \\n10 \\n11 \\n12 \\n13 \\n14 \\n15 \\n16 \\n17 \\n18 \\n19 \\n20 \\n21 \\n22 \\n23 \\n24 \\n25 \\n26 \\n27 \\n28 \\n \\n \\n– 19 – \\nCOMPLAINT \\n \\n82. \\nTheir publication did prove to be useful to the developers of future, powerful models. \\nEntire communities sprung up to enhance and extend the models released by OpenAI. These \\ncommunities spread to open-source, grass-roots efforts and commercial entities alike. \\n83. \\nIn 2020, OpenAI announced a third version of its model, GPT-3. It used “175 billion \\nparameters, 10x more than any previous non-sparse language model.” Again, OpenAI announced \\nthe development of this model with the publication of a research paper describing its complete', metadata={'source': 'DataRepository/MuskComplaint.pdf', 'file_path': 'DataRepository/MuskComplaint.pdf', 'page': 18, 'total_pages': 46, 'format': 'PDF 1.7', 'title': '', 'author': '', 'subject': '', 'keywords': '', 'creator': '', 'producer': '', 'creationDate': '', 'modDate': '', 'trapped': ''}),\n",
              " Document(page_content='implementation for others to build on. \\n84. \\nIn 2022, researchers at Google took these results and showed that a small change \\ncalled chain-of-thought prompting could enable “large language models to perform complex \\nreasoning.” Researchers at the University of Tokyo and Google quickly expanded on Google’s \\nresults and showed that OpenAI’s GPT-3 could reason about an entirely new problem in a step-by-\\nstep manner, like a human, “by simply adding ‘Let’s think step by step’ before each answer.”  \\n85. \\nA path to Artificial Generative Intelligence could be seen. And the timeline to it was \\ndramatically compressing. \\n86.', metadata={'source': 'DataRepository/MuskComplaint.pdf', 'file_path': 'DataRepository/MuskComplaint.pdf', 'page': 18, 'total_pages': 46, 'format': 'PDF 1.7', 'title': '', 'author': '', 'subject': '', 'keywords': '', 'creator': '', 'producer': '', 'creationDate': '', 'modDate': '', 'trapped': ''}),\n",
              " Document(page_content='dramatically compressing. \\n86. \\nOn March 14, 2023, OpenAI released a new generation of its model, GPT-4. This \\ngeneration was not just capable of reasoning but was better at reasoning than average humans. \\nGPT-4 scored in the 90th percentile on the Uniform Bar Exam. It scored in the 99th percentile on \\nthe GRE Verbal Assessment. It even scored a 77% on the Advanced Sommelier examination. By \\nOpenAI’s own objective measures, GPT-4 is already capable of intelligence that is superior to \\nhumans on a wide variety of economically valuable tasks. \\n87. \\nThis development was not lost on the research community. In a detailed analysis', metadata={'source': 'DataRepository/MuskComplaint.pdf', 'file_path': 'DataRepository/MuskComplaint.pdf', 'page': 18, 'total_pages': 46, 'format': 'PDF 1.7', 'title': '', 'author': '', 'subject': '', 'keywords': '', 'creator': '', 'producer': '', 'creationDate': '', 'modDate': '', 'trapped': ''}),\n",
              " Document(page_content='titled “Sparks of Artificial General Intelligence: Early experiments with GPT-4,” Microsoft \\nresearchers note that “GPT-4 can solve novel and difficult tasks that span mathematics, coding, \\nvision, medicine, law, psychology and more, without needing any special prompting. Moreover, in \\nall of these tasks, GPT-4’s performance is strikingly close to human-level performance, and often \\nvastly surpasses prior models such as [GPT-3.5 based] ChatGPT.”    \\n88. \\nThey compared the performance of GPT-4 with the performance of GPT-3 based \\nsystems and found that “there is no comparison with the outputs from GPT-4.” On mathematical', metadata={'source': 'DataRepository/MuskComplaint.pdf', 'file_path': 'DataRepository/MuskComplaint.pdf', 'page': 18, 'total_pages': 46, 'format': 'PDF 1.7', 'title': '', 'author': '', 'subject': '', 'keywords': '', 'creator': '', 'producer': '', 'creationDate': '', 'modDate': '', 'trapped': ''}),\n",
              " Document(page_content='1 \\n2 \\n3 \\n4 \\n5 \\n6 \\n7 \\n8 \\n9 \\n10 \\n11 \\n12 \\n13 \\n14 \\n15 \\n16 \\n17 \\n18 \\n19 \\n20 \\n21 \\n22 \\n23 \\n24 \\n25 \\n26 \\n27 \\n28 \\n \\n \\n– 20 – \\nCOMPLAINT \\n \\nproblems, they show that “[t]he solution given by GPT-4 is correct and the argument is sound, while \\nChatGPT [based on GPT-3] produces an incorrect solution which (in the case of a human) would \\nreflect a lack of understanding of the concept of function inversion.” On another example, they show \\nthat “GPT-4 gives a correct solution while ChatGPT begins by rearranging the terms without any \\nclear direction or purpose, and ends up with an incorrect solution.” \\n89. \\nMicrosoft’s own scientists acknowledge that GPT-4 “attains a form of general', metadata={'source': 'DataRepository/MuskComplaint.pdf', 'file_path': 'DataRepository/MuskComplaint.pdf', 'page': 19, 'total_pages': 46, 'format': 'PDF 1.7', 'title': '', 'author': '', 'subject': '', 'keywords': '', 'creator': '', 'producer': '', 'creationDate': '', 'modDate': '', 'trapped': ''}),\n",
              " Document(page_content='intelligence” and that “[g]iven the breadth and depth of GPT-4’s capabilities, we believe that it could \\nreasonably be viewed as an early (yet still incomplete) version of an artificial general intelligence \\n(AGI) system.” \\nG. \\nThe Founding Agreement Is Breached In 2023 \\n90. \\nHaving reached the threshold of AGI, which under the Founding Agreement they \\nwere to develop for the benefit of humanity rather than for any for-profit company or personal profit, \\nDefendants instead radically departed from their mission in breach of the Founding Agreement. \\nGPT-4 is an entirely closed model. The internal design of GPT-4 remains a secret and no code has', metadata={'source': 'DataRepository/MuskComplaint.pdf', 'file_path': 'DataRepository/MuskComplaint.pdf', 'page': 19, 'total_pages': 46, 'format': 'PDF 1.7', 'title': '', 'author': '', 'subject': '', 'keywords': '', 'creator': '', 'producer': '', 'creationDate': '', 'modDate': '', 'trapped': ''}),\n",
              " Document(page_content='been released. OpenAI has not published a paper describing any aspect of its internal design; it has \\nsimply issued press releases boasting about its performance. The internal details of GPT-4 are \\nknown only to OpenAI and, on information and belief, to Microsoft. GPT-4 is hence the opposite \\nof “open AI.” And it is closed for propriety commercial reasons: Microsoft stands to make a fortune \\nselling GPT-4 to the public, which would not be possible if OpenAI—as it is required to do—makes \\nthe technology freely available to the public. Contrary to the Founding Agreement, Defendants have \\nchosen to use GPT-4 not for the benefit of humanity, but as proprietary technology to maximize', metadata={'source': 'DataRepository/MuskComplaint.pdf', 'file_path': 'DataRepository/MuskComplaint.pdf', 'page': 19, 'total_pages': 46, 'format': 'PDF 1.7', 'title': '', 'author': '', 'subject': '', 'keywords': '', 'creator': '', 'producer': '', 'creationDate': '', 'modDate': '', 'trapped': ''}),\n",
              " Document(page_content='profits for literally the largest company in the world. Further, OpenAI’s entire development is now \\nveiled in secrecy and the public only has rumors and isolated fragments of communications to \\nunderstand what may be released next.  \\n91. \\nResearchers have pointed out that one of the remaining limitations of GPT \\narchitecture-based AIs is that they generate their output a piece at a time and cannot “backtrack.” \\nThese issues have been seen before in artificial intelligence research and have been largely solved \\nfor other applications. In path and maze finding, AI must be able to find the right path despite the', metadata={'source': 'DataRepository/MuskComplaint.pdf', 'file_path': 'DataRepository/MuskComplaint.pdf', 'page': 19, 'total_pages': 46, 'format': 'PDF 1.7', 'title': '', 'author': '', 'subject': '', 'keywords': '', 'creator': '', 'producer': '', 'creationDate': '', 'modDate': '', 'trapped': ''}),\n",
              " Document(page_content='1 \\n2 \\n3 \\n4 \\n5 \\n6 \\n7 \\n8 \\n9 \\n10 \\n11 \\n12 \\n13 \\n14 \\n15 \\n16 \\n17 \\n18 \\n19 \\n20 \\n21 \\n22 \\n23 \\n24 \\n25 \\n26 \\n27 \\n28 \\n \\n \\n– 21 – \\nCOMPLAINT \\n \\nexistence of dead-ends along the way. The standard algorithm to perform this is called “A*” \\n(pronounced A-star). \\n92. \\nReuters has reported that OpenAI is developing a secretive algorithm called Q*. \\nWhile it is not clear what Q* is, Reuters has reported that several OpenAI staff members wrote a \\nletter warning about the potential power of Q*. It appears Q* may now or in the future be a part of \\nan even clearer and more striking example of artificial general intelligence that has been developed', metadata={'source': 'DataRepository/MuskComplaint.pdf', 'file_path': 'DataRepository/MuskComplaint.pdf', 'page': 20, 'total_pages': 46, 'format': 'PDF 1.7', 'title': '', 'author': '', 'subject': '', 'keywords': '', 'creator': '', 'producer': '', 'creationDate': '', 'modDate': '', 'trapped': ''}),\n",
              " Document(page_content='by OpenAI. As an AGI, it would be explicitly outside the scope of OpenAI’s license with Microsoft, \\nand must be made available for the benefit of the public at large. \\n93. \\nFor purposes of the license with Microsoft, OpenAI, Inc.’s Board determines whether \\nOpenAI has attained AGI, and in a series of shocking developments described in more detail below, \\na majority of OpenAI, Inc.’s Board was forced to resign on November 22, 2023, and their \\nreplacements were, on information and belief, handpicked by Mr. Altman and Microsoft. \\n94. \\nOn November 17, 2023, OpenAI, Inc.’s Board dismissed Mr. Altman. OpenAI', metadata={'source': 'DataRepository/MuskComplaint.pdf', 'file_path': 'DataRepository/MuskComplaint.pdf', 'page': 20, 'total_pages': 46, 'format': 'PDF 1.7', 'title': '', 'author': '', 'subject': '', 'keywords': '', 'creator': '', 'producer': '', 'creationDate': '', 'modDate': '', 'trapped': ''}),\n",
              " Document(page_content='announced in a blog post that Mr. Altman had been fired and his “departure follows a deliberative \\nreview process by the board, which concluded that he was not consistently candid in his \\ncommunications with the board, hindering its ability to exercise its responsibilities. The board no \\nlonger has confidence in his ability to continue leading OpenAI.”  \\n95. \\nMr. Brockman was also removed from the Board but was told he would retain his \\nrole at OpenAI.  \\n96. \\nAt the time, the Board consisted of Helen Toner, Adam D’Angelo, Tasha McCauley, \\nDr. Sutskever, Mr. Brockman, and Mr. Altman. In addition to serving on the Board, Ms. Toner is a', metadata={'source': 'DataRepository/MuskComplaint.pdf', 'file_path': 'DataRepository/MuskComplaint.pdf', 'page': 20, 'total_pages': 46, 'format': 'PDF 1.7', 'title': '', 'author': '', 'subject': '', 'keywords': '', 'creator': '', 'producer': '', 'creationDate': '', 'modDate': '', 'trapped': ''}),\n",
              " Document(page_content='researcher and advisor for the Center for the Governance of AI (GovAI) and the Director of Strategy \\nat Georgetown’s Center for Security and Emerging Technology. Ms. McCauley is a Senior \\nManagement Scientist at RAND Corporation, a nonprofit which specializes in public policy \\ndecision making. She is also an advisor for GovAI. Mr. D’Angelo—the only board member to \\nremain after Mr. Altman’s reinstatement—is a tech CEO and entrepreneur.  \\n97. \\nThe choice to include on OpenAI, Inc.’s Board multiple academics and public policy \\nexperts with deep AI policy experience, most of whom had no financial stake in the company, was', metadata={'source': 'DataRepository/MuskComplaint.pdf', 'file_path': 'DataRepository/MuskComplaint.pdf', 'page': 20, 'total_pages': 46, 'format': 'PDF 1.7', 'title': '', 'author': '', 'subject': '', 'keywords': '', 'creator': '', 'producer': '', 'creationDate': '', 'modDate': '', 'trapped': ''}),\n",
              " Document(page_content='1 \\n2 \\n3 \\n4 \\n5 \\n6 \\n7 \\n8 \\n9 \\n10 \\n11 \\n12 \\n13 \\n14 \\n15 \\n16 \\n17 \\n18 \\n19 \\n20 \\n21 \\n22 \\n23 \\n24 \\n25 \\n26 \\n27 \\n28 \\n \\n \\n– 22 – \\nCOMPLAINT \\n \\ndeliberate. This composition of financially disinterested Board members with strong records of \\npublic service ensured that the Board would put the nonprofit’s principal beneficiary—humanity—\\nbefore financial success. This safeguard was put in place for the Board in furtherance of OpenAI, \\nInc.’s non-profit mission and the Founding Agreement: to safely create AGI which would benefit \\nhumanity, not the pecuniary interests of a for-profit company.  \\n98. \\nOn information and belief, Mr. Altman’s firing was due in part to OpenAI’s', metadata={'source': 'DataRepository/MuskComplaint.pdf', 'file_path': 'DataRepository/MuskComplaint.pdf', 'page': 21, 'total_pages': 46, 'format': 'PDF 1.7', 'title': '', 'author': '', 'subject': '', 'keywords': '', 'creator': '', 'producer': '', 'creationDate': '', 'modDate': '', 'trapped': ''}),\n",
              " Document(page_content='breakthrough in realizing AGI. In fact, news reports suggested that there was a rift among OpenAI \\nBoard members and executives regarding safety concerns and the potential threat posed by \\nOpenAI’s next generation Q*. \\n99. \\nNews of Mr. Altman’s ouster spread rapidly. Following the Board’s announcement \\nthat Mr. Altman was fired, Mr. Brockman announced he would be leaving OpenAI with Mr. Altman.  \\n100. \\nWhen Microsoft CEO Satya Nadella learned of Mr. Altman’s firing, he was \\nreportedly furious. As a 49% shareholder in OpenAI’s for-profit arm, Mr. Nadella felt that Microsoft \\nshould have been consulted before Mr. Altman’s firing. However, at this time, outside of Mr.', metadata={'source': 'DataRepository/MuskComplaint.pdf', 'file_path': 'DataRepository/MuskComplaint.pdf', 'page': 21, 'total_pages': 46, 'format': 'PDF 1.7', 'title': '', 'author': '', 'subject': '', 'keywords': '', 'creator': '', 'producer': '', 'creationDate': '', 'modDate': '', 'trapped': ''}),\n",
              " Document(page_content='Altman, OpenAI, Inc.’s Board had no ties to Microsoft, and no fiduciary duty to investors in the for-\\nprofit arm. Rather, on information and belief, Mr. Altman was the primary liaison between \\nMicrosoft and OpenAI, Inc.  \\n101. \\nMr. Nadella invited Mr. Altman and Mr. Brockman to lead a new Microsoft AI \\nresearch lab, unbound by the constraints of OpenAI, Inc.’s humanitarian mission. Nadella made it \\nclear that employees who left OpenAI would be welcome at Microsoft’s new lab with the same \\nsalary. \\n102. \\nMicrosoft was confident that, through its substantial ownership in OpenAI’s for-\\nprofit arm, it could completely sequester OpenAI, Inc.’s research should the company cease to exist.', metadata={'source': 'DataRepository/MuskComplaint.pdf', 'file_path': 'DataRepository/MuskComplaint.pdf', 'page': 21, 'total_pages': 46, 'format': 'PDF 1.7', 'title': '', 'author': '', 'subject': '', 'keywords': '', 'creator': '', 'producer': '', 'creationDate': '', 'modDate': '', 'trapped': ''}),\n",
              " Document(page_content='Indeed, during an interview shortly after Mr. Altman’s firing, Mr. Nadella stated: \\n[W]e were very confident in our own ability. We have all the IP rights and all the \\ncapability. If OpenAI disappeared tomorrow, I don’t want any customer of ours to \\nbe worried about it quite honestly, because we have all of the rights to continue the \\ninnovation. Not just to serve the product, but we can go and just do what we were \\ndoing in partnership ourselves. We have the people, we have the compute, we have \\nthe data, we have everything.', metadata={'source': 'DataRepository/MuskComplaint.pdf', 'file_path': 'DataRepository/MuskComplaint.pdf', 'page': 21, 'total_pages': 46, 'format': 'PDF 1.7', 'title': '', 'author': '', 'subject': '', 'keywords': '', 'creator': '', 'producer': '', 'creationDate': '', 'modDate': '', 'trapped': ''}),\n",
              " Document(page_content='1 \\n2 \\n3 \\n4 \\n5 \\n6 \\n7 \\n8 \\n9 \\n10 \\n11 \\n12 \\n13 \\n14 \\n15 \\n16 \\n17 \\n18 \\n19 \\n20 \\n21 \\n22 \\n23 \\n24 \\n25 \\n26 \\n27 \\n28 \\n \\n \\n– 23 – \\nCOMPLAINT \\n \\n103. \\nDespite Microsoft’s statements regarding their capability to function without \\nOpenAI, Microsoft never abandoned its plan to secure the reinstatement of Mr. Altman as OpenAI, \\nInc.’s CEO. In the days following Mr. Altman’s firing, OpenAI, Inc.’s Board was faced with \\nmounting pressure from lawyers and major shareholders, including Microsoft, to reinstate Mr. \\nAltman. \\n104. \\nMs. Toner was specifically targeted in efforts to reinstate Mr. Altman. During these \\nefforts, a lawyer for OpenAI told Ms. Toner that she and the Board could face claims for breach of', metadata={'source': 'DataRepository/MuskComplaint.pdf', 'file_path': 'DataRepository/MuskComplaint.pdf', 'page': 22, 'total_pages': 46, 'format': 'PDF 1.7', 'title': '', 'author': '', 'subject': '', 'keywords': '', 'creator': '', 'producer': '', 'creationDate': '', 'modDate': '', 'trapped': ''}),\n",
              " Document(page_content='their fiduciary duties to investors should OpenAI fail due to Mr. Altman’s firing.  \\n105. \\nHowever, the OpenAI, Inc. Board has never had a fiduciary duty to investors. In fact, \\nall investors in the for-profit arm are told that the company’s duty to its mission takes precedence \\nover its duty to its investors, and OpenAI, Inc.’s website clearly indicates it only holds a fiduciary \\nduty to humanity.  \\n106. \\nMs. Toner, who described the lawyer’s actions as an intimidation tactic, opined that \\nMr. Altman’s continued removal would in fact advance the company’s mission by promoting the \\nsafety of humanity over profit. However, none of this dissuaded the shareholders and Mr. Altman', metadata={'source': 'DataRepository/MuskComplaint.pdf', 'file_path': 'DataRepository/MuskComplaint.pdf', 'page': 22, 'total_pages': 46, 'format': 'PDF 1.7', 'title': '', 'author': '', 'subject': '', 'keywords': '', 'creator': '', 'producer': '', 'creationDate': '', 'modDate': '', 'trapped': ''}),\n",
              " Document(page_content='from pushing for his reinstatement.  \\n107. \\nFurther, Microsoft had substantial coercive power over OpenAI, Inc. and its Board. \\nDuring the period of Mr. Altman’s firing, CEO Nadella said the following of Microsoft’s \\nrelationship with OpenAI: \\nWe are in there. We are below them, above them, around them. We do the kernel \\noptimizations, we build tools, we build the infrastructure. So that’s why I think a lot of \\nthe industrial analysts are saying, “Oh wow, it’s really a joint project between Microsoft \\nand OpenAI.” The reality is we are, as I said, very self-sufficient in all of this. \\n108. \\nMoreover, at the time of the firing, Microsoft had only paid a fraction of a $10 billion', metadata={'source': 'DataRepository/MuskComplaint.pdf', 'file_path': 'DataRepository/MuskComplaint.pdf', 'page': 22, 'total_pages': 46, 'format': 'PDF 1.7', 'title': '', 'author': '', 'subject': '', 'keywords': '', 'creator': '', 'producer': '', 'creationDate': '', 'modDate': '', 'trapped': ''}),\n",
              " Document(page_content='investment commitment it had made to OpenAI, giving Microsoft serious leverage over the \\n“independent” non-profit Board. Additionally, if Microsoft withheld its cloud computing system on \\nwhich OpenAI was reliant, the company would be incapacitated.  \\n109. \\nThe pressure on the Board from Mr. Altman and Microsoft continued until \\nNovember 21, when Mr. Altman was reinstated as the CEO of OpenAI, Inc. and Mr. Brockman re-', metadata={'source': 'DataRepository/MuskComplaint.pdf', 'file_path': 'DataRepository/MuskComplaint.pdf', 'page': 22, 'total_pages': 46, 'format': 'PDF 1.7', 'title': '', 'author': '', 'subject': '', 'keywords': '', 'creator': '', 'producer': '', 'creationDate': '', 'modDate': '', 'trapped': ''}),\n",
              " Document(page_content='1 \\n2 \\n3 \\n4 \\n5 \\n6 \\n7 \\n8 \\n9 \\n10 \\n11 \\n12 \\n13 \\n14 \\n15 \\n16 \\n17 \\n18 \\n19 \\n20 \\n21 \\n22 \\n23 \\n24 \\n25 \\n26 \\n27 \\n28 \\n \\n \\n– 24 – \\nCOMPLAINT \\n \\njoined as President. One of Mr. Altman’s conditions upon return was that Ms. Toner, Ms. McCauley, \\nand Dr. Sutskever resign from the Board. \\n110. \\nOn information and belief, following his return, Mr. Altman hand-picked a new \\nBoard that lacks similar technical expertise or any substantial background in AI governance, which \\nthe previous board had by design. Mr. D’Angelo, a tech CEO and entrepreneur, was the only \\nmember of the previous board to remain after Mr. Altman’s return. The new Board consisted of', metadata={'source': 'DataRepository/MuskComplaint.pdf', 'file_path': 'DataRepository/MuskComplaint.pdf', 'page': 23, 'total_pages': 46, 'format': 'PDF 1.7', 'title': '', 'author': '', 'subject': '', 'keywords': '', 'creator': '', 'producer': '', 'creationDate': '', 'modDate': '', 'trapped': ''}),\n",
              " Document(page_content='members with more experience in profit-centric enterprises or politics than in AI ethics and \\ngovernance. They were also reportedly “big fans of Altman.” Two of the new board members were \\nBret Taylor and Larry Summers. Mr. Taylor is no stranger to Silicon Valley, and has been heavily \\ninvolved in various Bay Area profit-driven ventures. On February 14, 2024, Mr. Taylor and ex-\\nGoogle executive Clay Bavor launched a startup focused on building AI chatbots for businesses. \\nDr. Summers is an economist who, on information and belief, had no experience working in artificial \\nintelligence-based ventures prior to November 2023. Microsoft also obtained an observer seat on', metadata={'source': 'DataRepository/MuskComplaint.pdf', 'file_path': 'DataRepository/MuskComplaint.pdf', 'page': 23, 'total_pages': 46, 'format': 'PDF 1.7', 'title': '', 'author': '', 'subject': '', 'keywords': '', 'creator': '', 'producer': '', 'creationDate': '', 'modDate': '', 'trapped': ''}),\n",
              " Document(page_content='the Board from which it could keep a close eye on its ostensibly non-profit golden goose. \\n111. \\nWith the reinstatement of Mr. Altman and the restructuring of the Board, OpenAI’s \\ncorporate structure that had been designed as a system of checks and balances between the non-\\nprofit arm, for-profit arm, the Board, and the CEO to ensure the non-profit mission was being carried \\nout, collapsed overnight. OpenAI, Inc.’s once carefully crafted non-profit structure was replaced by \\na purely profit-driven CEO and a Board with inferior technical expertise in AGI and AI public \\npolicy. The Board now has an observer seat reserved solely for Microsoft. With this restructuring,', metadata={'source': 'DataRepository/MuskComplaint.pdf', 'file_path': 'DataRepository/MuskComplaint.pdf', 'page': 23, 'total_pages': 46, 'format': 'PDF 1.7', 'title': '', 'author': '', 'subject': '', 'keywords': '', 'creator': '', 'producer': '', 'creationDate': '', 'modDate': '', 'trapped': ''}),\n",
              " Document(page_content='OpenAI, Inc. abandoned its non-profit mission of developing AGI for the benefit of humanity \\nbroadly, thereby keeping it out of the hands of a large for-profit corporation in which vast power \\nwould be unduly concentrated. \\n112. \\nThe OpenAI, Inc. Board’s technical expertise in AI, neutrality, and commitment to \\nOpenAI, Inc.’s nonprofit mission are particularly essential to OpenAI, Inc.’s mission as it is the \\nBoard that determines whether OpenAI has attained AGI for purposes of its license agreement with \\nMicrosoft. This means that the Board is tasked with determining whether OpenAI’s most powerful', metadata={'source': 'DataRepository/MuskComplaint.pdf', 'file_path': 'DataRepository/MuskComplaint.pdf', 'page': 23, 'total_pages': 46, 'format': 'PDF 1.7', 'title': '', 'author': '', 'subject': '', 'keywords': '', 'creator': '', 'producer': '', 'creationDate': '', 'modDate': '', 'trapped': ''}),\n",
              " Document(page_content='and advanced technology is actually excluded from the scope of Microsoft’s exclusive license.', metadata={'source': 'DataRepository/MuskComplaint.pdf', 'file_path': 'DataRepository/MuskComplaint.pdf', 'page': 23, 'total_pages': 46, 'format': 'PDF 1.7', 'title': '', 'author': '', 'subject': '', 'keywords': '', 'creator': '', 'producer': '', 'creationDate': '', 'modDate': '', 'trapped': ''}),\n",
              " Document(page_content='1 \\n2 \\n3 \\n4 \\n5 \\n6 \\n7 \\n8 \\n9 \\n10 \\n11 \\n12 \\n13 \\n14 \\n15 \\n16 \\n17 \\n18 \\n19 \\n20 \\n21 \\n22 \\n23 \\n24 \\n25 \\n26 \\n27 \\n28 \\n \\n \\n– 25 – \\nCOMPLAINT \\n \\nGiven Microsoft’s enormous financial interest in keeping the gate closed to the public, OpenAI, \\nInc.’s new captured, conflicted, and compliant Board will have every reason to delay ever making \\na finding that OpenAI has attained AGI. To the contrary, OpenAI’s attainment of AGI, like \\n“Tomorrow” in Annie, will always be a day away, ensuring that Microsoft will be licensed to \\nOpenAI’s latest technology and the public will be shut out, precisely the opposite of the Founding \\nAgreement. \\n113.', metadata={'source': 'DataRepository/MuskComplaint.pdf', 'file_path': 'DataRepository/MuskComplaint.pdf', 'page': 24, 'total_pages': 46, 'format': 'PDF 1.7', 'title': '', 'author': '', 'subject': '', 'keywords': '', 'creator': '', 'producer': '', 'creationDate': '', 'modDate': '', 'trapped': ''}),\n",
              " Document(page_content='Agreement. \\n113. \\nOpenAI’s conduct could have seismic implications for Silicon Valley and, if allowed \\nto stand, could represent a paradigm shift for technology start-ups. It is important to reflect on what \\nhas transpired here: a non-profit startup has collected tens of millions of dollars in contributions for \\nthe express purpose of developing AGI technology for public benefit, and shortly before achieving \\nthe very milestone that the company was created to achieve, the company has become a closed, for-\\nprofit partner of the world’s largest corporation, thereby personally enriching the Defendants. If this', metadata={'source': 'DataRepository/MuskComplaint.pdf', 'file_path': 'DataRepository/MuskComplaint.pdf', 'page': 24, 'total_pages': 46, 'format': 'PDF 1.7', 'title': '', 'author': '', 'subject': '', 'keywords': '', 'creator': '', 'producer': '', 'creationDate': '', 'modDate': '', 'trapped': ''}),\n",
              " Document(page_content='business model were valid, it would radically redefine how venture capitalism is practiced in \\nCalifornia and beyond. Rather than start out as a for-profit entity from the outset, “smart” investors \\nwould establish non-profits, use pre-tax donations to fund research and development, and then once \\ntheir technology had been developed and proven, would slide the resulting IP assets into a new for-\\nprofit venture to enrich themselves and their profit-maximizing corporate partners. That is not \\nsupposed to be how the law works in California or anywhere else in this country, and this should \\nnot be the first Court to hold otherwise. \\n114.', metadata={'source': 'DataRepository/MuskComplaint.pdf', 'file_path': 'DataRepository/MuskComplaint.pdf', 'page': 24, 'total_pages': 46, 'format': 'PDF 1.7', 'title': '', 'author': '', 'subject': '', 'keywords': '', 'creator': '', 'producer': '', 'creationDate': '', 'modDate': '', 'trapped': ''}),\n",
              " Document(page_content='not be the first Court to hold otherwise. \\n114. \\nTo further understand why this is important, if OpenAI’s new business model is \\nvalid, for every dollar that an investor “invests” by contributing to a non-profit, that investor gets \\napproximately 50 cents back from the state and federal governments in the form of reduced income \\ntaxes, so the net cost to them of each $1 of investment is only 50 cents. However, with OpenAI’s \\nnew business model, they get the same “for profit” upside as those who invest the conventional way \\nin for-profit corporations and thus do not get an immediate tax write off, financed by the government', metadata={'source': 'DataRepository/MuskComplaint.pdf', 'file_path': 'DataRepository/MuskComplaint.pdf', 'page': 24, 'total_pages': 46, 'format': 'PDF 1.7', 'title': '', 'author': '', 'subject': '', 'keywords': '', 'creator': '', 'producer': '', 'creationDate': '', 'modDate': '', 'trapped': ''}),\n",
              " Document(page_content='and, ultimately, the public. From an investment perspective, competing against an entity employing \\nthe new OpenAI business model would be like playing a game of basketball where the other team’s \\nbaskets are worth twice as many points. If this Court validates OpenAI’s conduct here, any start-up', metadata={'source': 'DataRepository/MuskComplaint.pdf', 'file_path': 'DataRepository/MuskComplaint.pdf', 'page': 24, 'total_pages': 46, 'format': 'PDF 1.7', 'title': '', 'author': '', 'subject': '', 'keywords': '', 'creator': '', 'producer': '', 'creationDate': '', 'modDate': '', 'trapped': ''}),\n",
              " Document(page_content='1 \\n2 \\n3 \\n4 \\n5 \\n6 \\n7 \\n8 \\n9 \\n10 \\n11 \\n12 \\n13 \\n14 \\n15 \\n16 \\n17 \\n18 \\n19 \\n20 \\n21 \\n22 \\n23 \\n24 \\n25 \\n26 \\n27 \\n28 \\n \\n \\n– 26 – \\nCOMPLAINT \\n \\nseeking to remain competitive in Silicon Valley would essentially be required to follow this OpenAI \\nplaybook, which would become standard operating procedure for start-ups to the detriment of \\nlegitimate non-profits, the government’s tax coffers, and ultimately the people of California and \\nbeyond. Notably, OpenAI’s for-profit arm was recently valued at nearly $80 billion. \\nH. \\nNovember 2023 To Present: Altman’s OpenAI \\n115. \\nThe public is still in the dark regarding what exactly the Board’s “deliberative review', metadata={'source': 'DataRepository/MuskComplaint.pdf', 'file_path': 'DataRepository/MuskComplaint.pdf', 'page': 25, 'total_pages': 46, 'format': 'PDF 1.7', 'title': '', 'author': '', 'subject': '', 'keywords': '', 'creator': '', 'producer': '', 'creationDate': '', 'modDate': '', 'trapped': ''}),\n",
              " Document(page_content='process” revealed that resulted in the initial firing of Mr. Altman. However, one thing is clear to Mr. \\nMusk and the public at large: OpenAI has abandoned its “irrevocable” non-profit mission in the \\npursuit of profit. Numerous leaders and intellectuals have publicly commented on the irony and \\ntragedy of OpenAI becoming “Closed, For-Profit AI.” \\n116. \\nFor example, on November 29, 2023, MIT economists wrote an opinion in the L.A. \\nTimes expressing concern with OpenAI’s new profit-driven directive. In their words, “[d]isruption \\nand uncontrolled growth have become religion for the tech industry, and Altman has been one of its', metadata={'source': 'DataRepository/MuskComplaint.pdf', 'file_path': 'DataRepository/MuskComplaint.pdf', 'page': 25, 'total_pages': 46, 'format': 'PDF 1.7', 'title': '', 'author': '', 'subject': '', 'keywords': '', 'creator': '', 'producer': '', 'creationDate': '', 'modDate': '', 'trapped': ''}),\n",
              " Document(page_content='most dedicated high priests.” The economists emphasized the new Board is far more likely to allow \\nMr. Altman to scale up OpenAI as quickly as possible, no matter the severity of societal costs.  \\n117. \\nThe president of Public Citizen, a non-profit consumer advocacy organization, wrote \\nan open letter to California Attorney General Rob Bonta earlier this year raising concerns about \\nwhether OpenAI’s for-profit subsidiary is exerting inappropriate control over the non-profit, or \\nwhether the non-profit’s purpose had shifted to profit-making under Mr. Altman and Microsoft. The \\nletter suggested that should the non-profit abandon its original mission, it should be dissolved with', metadata={'source': 'DataRepository/MuskComplaint.pdf', 'file_path': 'DataRepository/MuskComplaint.pdf', 'page': 25, 'total_pages': 46, 'format': 'PDF 1.7', 'title': '', 'author': '', 'subject': '', 'keywords': '', 'creator': '', 'producer': '', 'creationDate': '', 'modDate': '', 'trapped': ''}),\n",
              " Document(page_content='proceeds going to another charitable enterprise.  \\n118. \\nA WIRED investigation from January 2024 found that OpenAI has also recently \\nshuttered the public’s access to previously available “key documents.” In line with OpenAI’s \\noriginal promise of transparency, OpenAI’s IRS documents have indicated since its founding that \\nany member of the public may view copies of its governing documents, financial statements, and \\nconflict of interest rules. However, when WIRED requested these documents, OpenAI indicated it \\nhad changed its policy. Thus, while OpenAI has long touted its commitment to transparency,', metadata={'source': 'DataRepository/MuskComplaint.pdf', 'file_path': 'DataRepository/MuskComplaint.pdf', 'page': 25, 'total_pages': 46, 'format': 'PDF 1.7', 'title': '', 'author': '', 'subject': '', 'keywords': '', 'creator': '', 'producer': '', 'creationDate': '', 'modDate': '', 'trapped': ''}),\n",
              " Document(page_content='1 \\n2 \\n3 \\n4 \\n5 \\n6 \\n7 \\n8 \\n9 \\n10 \\n11 \\n12 \\n13 \\n14 \\n15 \\n16 \\n17 \\n18 \\n19 \\n20 \\n21 \\n22 \\n23 \\n24 \\n25 \\n26 \\n27 \\n28 \\n \\n \\n– 27 – \\nCOMPLAINT \\n \\nmembers of the public are unable to obtain information shedding light on the incidents of November \\n2023.  \\n119. \\nAccess to OpenAI’s documents could inform the public whether it has changed its \\ngovernance to appease Microsoft and other shareholders. At the very least, changes had to be made \\nto accommodate Microsoft’s seat on the Board, and now Mr. Altman is reportedly in discussions \\nwith Middle Eastern investors to raise up to $7 trillion in an effort develop a global network of AI', metadata={'source': 'DataRepository/MuskComplaint.pdf', 'file_path': 'DataRepository/MuskComplaint.pdf', 'page': 26, 'total_pages': 46, 'format': 'PDF 1.7', 'title': '', 'author': '', 'subject': '', 'keywords': '', 'creator': '', 'producer': '', 'creationDate': '', 'modDate': '', 'trapped': ''}),\n",
              " Document(page_content='chip fabrication plants. If $10 billion from Microsoft was enough to get it a seat on the Board, one \\ncan only imagine how much influence over OpenAI, Inc. these new potential investments could \\nconfer on the investors. This is especially troubling when one potential donor is the national security \\nadvisor of the United Arab Emirates, and United States officials are concerned due to the United \\nArab Emirates’ ties to China. Moreover, Mr. Altman has been quoted discussing the possibility of \\nmaking the United Arab Emirates a “regulatory sandbox” where AI technologies are tested.  \\n120. \\nFurther, access to OpenAI’s conflict-of-interest policy is important to shed light on', metadata={'source': 'DataRepository/MuskComplaint.pdf', 'file_path': 'DataRepository/MuskComplaint.pdf', 'page': 26, 'total_pages': 46, 'format': 'PDF 1.7', 'title': '', 'author': '', 'subject': '', 'keywords': '', 'creator': '', 'producer': '', 'creationDate': '', 'modDate': '', 'trapped': ''}),\n",
              " Document(page_content='the Board’s ability to control Mr. Altman’s use of OpenAI to advance his own economic interests, \\nwhich so far appear to have gone unchecked. For example, in 2019 when Mr. Altman was CEO, \\nOpenAI signed a letter of intent to buy $51 million worth of chips from a start-up in which Mr. \\nAltman was heavily invested. \\n121. \\nWhile OpenAI, Inc. was once a pioneer of safe, responsible development of AGI \\nbased on open communication with the public, it has now shut its doors, brought the biggest investor \\nof its for-profit subsidiary onto a Board which owes its only fiduciary duty to humanity, and \\ncontinues in secrecy towards a profit-centric future with possible calamitous implications for', metadata={'source': 'DataRepository/MuskComplaint.pdf', 'file_path': 'DataRepository/MuskComplaint.pdf', 'page': 26, 'total_pages': 46, 'format': 'PDF 1.7', 'title': '', 'author': '', 'subject': '', 'keywords': '', 'creator': '', 'producer': '', 'creationDate': '', 'modDate': '', 'trapped': ''}),\n",
              " Document(page_content='humanity.  \\n122. \\nMr. Musk founded and funded OpenAI, Inc. with Mr. Altman and Mr. Brockman in \\nexchange for and relying on the Founding Agreement to ensure that AGI would benefit humanity, \\nnot for-profit corporations. As events turned out in 2023, his contributions to OpenAI, Inc. have \\nbeen twisted to benefit the Defendants and the biggest company in the world. This was a stark \\nbetrayal of the Founding Agreement, turning that Agreement on its head and perverting OpenAI, \\nInc.’s mission. Imagine donating to a non-profit whose asserted mission is to protect the Amazon', metadata={'source': 'DataRepository/MuskComplaint.pdf', 'file_path': 'DataRepository/MuskComplaint.pdf', 'page': 26, 'total_pages': 46, 'format': 'PDF 1.7', 'title': '', 'author': '', 'subject': '', 'keywords': '', 'creator': '', 'producer': '', 'creationDate': '', 'modDate': '', 'trapped': ''}),\n",
              " Document(page_content='1 \\n2 \\n3 \\n4 \\n5 \\n6 \\n7 \\n8 \\n9 \\n10 \\n11 \\n12 \\n13 \\n14 \\n15 \\n16 \\n17 \\n18 \\n19 \\n20 \\n21 \\n22 \\n23 \\n24 \\n25 \\n26 \\n27 \\n28 \\n \\n \\n– 28 – \\nCOMPLAINT \\n \\nrainforest, but then the non-profit creates a for-profit Amazonian logging company that uses the \\nfruits of the donations to clear the rainforest. That is the story of OpenAI, Inc.  \\nFIRST CAUSE OF ACTION \\nBreach of Contract  \\nAgainst All Defendants \\n123. \\nPlaintiff realleges and incorporates by reference only paragraphs of this Complaint \\nnecessary for his claim of Breach of Contract.  \\n124. \\nFrom OpenAI, Inc.’s founding in 2015 through September 2020, Plaintiff \\ncontributed tens of millions of dollars, provided integral advice on research directions, and played', metadata={'source': 'DataRepository/MuskComplaint.pdf', 'file_path': 'DataRepository/MuskComplaint.pdf', 'page': 27, 'total_pages': 46, 'format': 'PDF 1.7', 'title': '', 'author': '', 'subject': '', 'keywords': '', 'creator': '', 'producer': '', 'creationDate': '', 'modDate': '', 'trapped': ''}),\n",
              " Document(page_content='a key role in recruiting world-class talent to OpenAI, Inc. in exchange and as consideration for the \\nFounding Agreement, namely, that: OpenAI, Inc. (a) would be a non-profit developing AGI for the \\nbenefit of humanity, not for a for-profit company seeking to maximize shareholder profits; and \\n(b) would be open-source, balancing only countervailing safety considerations, and would not keep \\nits technology closed and secret for proprietary commercial reasons. This Founding Agreement is \\nmemorialized in, among other places, OpenAI, Inc.’s founding Articles of Incorporation and in \\nnumerous written communications between Plaintiff and Defendants over a multi-year period, \\nsuch as:', metadata={'source': 'DataRepository/MuskComplaint.pdf', 'file_path': 'DataRepository/MuskComplaint.pdf', 'page': 27, 'total_pages': 46, 'format': 'PDF 1.7', 'title': '', 'author': '', 'subject': '', 'keywords': '', 'creator': '', 'producer': '', 'creationDate': '', 'modDate': '', 'trapped': ''}),\n",
              " Document(page_content='such as: \\na. “The specific purpose of this corporation is to provide funding for research, \\ndevelopment and distribution of technology related to artificial intelligence. The \\nresulting technology will benefit the public and the corporation will seek to open \\nsource technology for the public benefit when applicable. The corporation is not \\norganized for the private gain of any person.” Ex. 1 at 1. \\nb. Mr. Altman stated: “The mission would be to create the first general AI and use it \\nfor individual empowerment—ie, the distributed version of the future that seems the \\nsafest. More generally, safety should be a first-class requirement. . . . The technology', metadata={'source': 'DataRepository/MuskComplaint.pdf', 'file_path': 'DataRepository/MuskComplaint.pdf', 'page': 27, 'total_pages': 46, 'format': 'PDF 1.7', 'title': '', 'author': '', 'subject': '', 'keywords': '', 'creator': '', 'producer': '', 'creationDate': '', 'modDate': '', 'trapped': ''}),\n",
              " Document(page_content='would be owned by the foundation and used ‘for the good of the world’[.]” Plaintiff \\nreplied: “Agree on all.” Ex. 2 at 1.', metadata={'source': 'DataRepository/MuskComplaint.pdf', 'file_path': 'DataRepository/MuskComplaint.pdf', 'page': 27, 'total_pages': 46, 'format': 'PDF 1.7', 'title': '', 'author': '', 'subject': '', 'keywords': '', 'creator': '', 'producer': '', 'creationDate': '', 'modDate': '', 'trapped': ''}),\n",
              " Document(page_content='1 \\n2 \\n3 \\n4 \\n5 \\n6 \\n7 \\n8 \\n9 \\n10 \\n11 \\n12 \\n13 \\n14 \\n15 \\n16 \\n17 \\n18 \\n19 \\n20 \\n21 \\n22 \\n23 \\n24 \\n25 \\n26 \\n27 \\n28 \\n \\n \\n– 29 – \\nCOMPLAINT \\n \\n125. \\nDefendants have breached the Founding Agreement in multiple separate and \\nindependent ways, including at least by: \\na. Licensing GPT-4, which Microsoft’s own scientists have written can “reasonably \\nbe viewed as an early (yet still incomplete) version of an artificial general \\nintelligence (AGI) system,” exclusively to Microsoft, despite agreeing that OpenAI \\nwould develop AGI for the benefit of humanity, not for the private commercial gain \\nof a for-profit company seeking to maximize shareholder profits, much less the \\nlargest corporation in the world.', metadata={'source': 'DataRepository/MuskComplaint.pdf', 'file_path': 'DataRepository/MuskComplaint.pdf', 'page': 28, 'total_pages': 46, 'format': 'PDF 1.7', 'title': '', 'author': '', 'subject': '', 'keywords': '', 'creator': '', 'producer': '', 'creationDate': '', 'modDate': '', 'trapped': ''}),\n",
              " Document(page_content='largest corporation in the world. \\nb. Failing to disclose to the public, among other things, details on GPT-4’s \\narchitecture, hardware, training method, and training computation, and further by \\nerecting a “paywall” between the public and GPT-4, requiring per-token payment \\nfor usage, in order to advance Defendants and Microsoft’s own private commercial \\ninterests, despite agreeing that OpenAI’s technology would be open-source, \\nbalancing only countervailing safety considerations. \\nc. Permitting Microsoft, a publicly traded for-profit corporation, to occupy a seat on \\nOpenAI, Inc.’s Board of Directors and exert undue influence and control over', metadata={'source': 'DataRepository/MuskComplaint.pdf', 'file_path': 'DataRepository/MuskComplaint.pdf', 'page': 28, 'total_pages': 46, 'format': 'PDF 1.7', 'title': '', 'author': '', 'subject': '', 'keywords': '', 'creator': '', 'producer': '', 'creationDate': '', 'modDate': '', 'trapped': ''}),\n",
              " Document(page_content='OpenAI’s non-profit activities including, for example, the determination of whether \\nand to what extent to make OpenAI, Inc.’s technology freely available and open to \\nthe public and the determination of whether OpenAI has attained AGI. \\n126. \\nAs a direct and proximate result of Defendants’ breaches, Plaintiff has suffered \\ndamages in an amount that is presently unknown, but that substantially exceeds this Court’s \\njurisdictional minimum of $35,000, and, if necessary, will be proven at trial.  \\n127. \\nPlaintiff also seeks and is entitled to specific performance of Defendant’s contractual \\nobligations.', metadata={'source': 'DataRepository/MuskComplaint.pdf', 'file_path': 'DataRepository/MuskComplaint.pdf', 'page': 28, 'total_pages': 46, 'format': 'PDF 1.7', 'title': '', 'author': '', 'subject': '', 'keywords': '', 'creator': '', 'producer': '', 'creationDate': '', 'modDate': '', 'trapped': ''}),\n",
              " Document(page_content='1 \\n2 \\n3 \\n4 \\n5 \\n6 \\n7 \\n8 \\n9 \\n10 \\n11 \\n12 \\n13 \\n14 \\n15 \\n16 \\n17 \\n18 \\n19 \\n20 \\n21 \\n22 \\n23 \\n24 \\n25 \\n26 \\n27 \\n28 \\n \\n \\n– 30 – \\nCOMPLAINT \\n \\nSECOND CAUSE OF ACTION \\nPromissory Estoppel  \\nAgainst All Defendants \\n128. \\nPlaintiff realleges and incorporates by reference only paragraphs of this Complaint \\nnecessary for his claim of Promissory Estoppel.  \\n129. \\nIn order to induce Plaintiff to make millions of dollars in contributions to OpenAI, \\nInc. over a period of years, and to induce him to provide substantial time and other resources to get \\nOpenAI, Inc. off the ground as alleged herein, Defendants repeatedly promised Plaintiff, including', metadata={'source': 'DataRepository/MuskComplaint.pdf', 'file_path': 'DataRepository/MuskComplaint.pdf', 'page': 29, 'total_pages': 46, 'format': 'PDF 1.7', 'title': '', 'author': '', 'subject': '', 'keywords': '', 'creator': '', 'producer': '', 'creationDate': '', 'modDate': '', 'trapped': ''}),\n",
              " Document(page_content='in writing, that OpenAI (a) would be a non-profit developing AGI for the benefit of humanity, not \\nfor a for-profit company seeking to maximize shareholder profits; and (b) would be open-source, \\nbalancing only countervailing safety considerations, and would not keep its technology closed and \\nsecret for proprietary commercial reasons.  \\n130. \\nIn doing so, Defendants reasonably expected that Plaintiff would (as he did) rely on \\ntheir promises and provide funding, time and other resources to OpenAI, Inc. \\n131. \\nPlaintiff reasonably relied on Defendants’ false promises to his detriment, ultimately', metadata={'source': 'DataRepository/MuskComplaint.pdf', 'file_path': 'DataRepository/MuskComplaint.pdf', 'page': 29, 'total_pages': 46, 'format': 'PDF 1.7', 'title': '', 'author': '', 'subject': '', 'keywords': '', 'creator': '', 'producer': '', 'creationDate': '', 'modDate': '', 'trapped': ''}),\n",
              " Document(page_content='providing tens of millions of dollars of funding to OpenAI, Inc., as well as his time and other \\nresources, on the condition that OpenAI would remain a non-profit irrevocably dedicated to creating \\nsafe, open-source AGI for public benefit, only to then have OpenAI abandon its “irrevocable” non-\\nprofit mission, stop providing basic information to the public, and instead exclusively dedicate and \\nlicense its AGI algorithms to the largest for-profit company in the world, precisely the opposite of \\nthe promises Defendants made to Plaintiff.  \\n132. \\nInjustice can only be avoided through the enforcement of Defendants’ repeated', metadata={'source': 'DataRepository/MuskComplaint.pdf', 'file_path': 'DataRepository/MuskComplaint.pdf', 'page': 29, 'total_pages': 46, 'format': 'PDF 1.7', 'title': '', 'author': '', 'subject': '', 'keywords': '', 'creator': '', 'producer': '', 'creationDate': '', 'modDate': '', 'trapped': ''}),\n",
              " Document(page_content='promises. If specific enforcement is not awarded, then Defendants must at minimum make \\nrestitution in an amount equal to Plaintiffs’ contributions that have been misappropriated and by the \\namount that the intended third-party beneficiaries of the Founding Agreement have been damaged, \\nwhich is an amount presently unknown, and if necessary, will be proven at trial, but that substantially \\nexceeds this Court’s jurisdictional minimum of $35,000.', metadata={'source': 'DataRepository/MuskComplaint.pdf', 'file_path': 'DataRepository/MuskComplaint.pdf', 'page': 29, 'total_pages': 46, 'format': 'PDF 1.7', 'title': '', 'author': '', 'subject': '', 'keywords': '', 'creator': '', 'producer': '', 'creationDate': '', 'modDate': '', 'trapped': ''}),\n",
              " Document(page_content='1 \\n2 \\n3 \\n4 \\n5 \\n6 \\n7 \\n8 \\n9 \\n10 \\n11 \\n12 \\n13 \\n14 \\n15 \\n16 \\n17 \\n18 \\n19 \\n20 \\n21 \\n22 \\n23 \\n24 \\n25 \\n26 \\n27 \\n28 \\n \\n \\n– 31 – \\nCOMPLAINT \\n \\nTHIRD CAUSE OF ACTION \\nBreach of Fiduciary Duty  \\nAgainst All Defendants \\n133. \\nPlaintiff realleges and incorporates by reference only paragraphs of this Complaint \\nnecessary for his claim of Breach of Fiduciary Duty. \\n134. \\nUnder California law, Defendants owe fiduciary duties to Plaintiff, including a duty \\nto use Plaintiff’s contributions for the purposes for which they were made. E.g., Cal. Bus. & Prof. \\nCode § 17510.8. Defendants have repeatedly breached their fiduciary duties to Plaintiff, including \\nby:', metadata={'source': 'DataRepository/MuskComplaint.pdf', 'file_path': 'DataRepository/MuskComplaint.pdf', 'page': 30, 'total_pages': 46, 'format': 'PDF 1.7', 'title': '', 'author': '', 'subject': '', 'keywords': '', 'creator': '', 'producer': '', 'creationDate': '', 'modDate': '', 'trapped': ''}),\n",
              " Document(page_content='by:  \\na. Using monies received from Plaintiff, and by using intellectual property and \\nderivative works funded by those monies, for “for-profit” purposes that directly \\ncontravene both the letter and the express intent of the parties’ agreement, thereby \\nbreaching Defendants’ contractual promises to Plaintiff, and also breaching \\nDefendants’ promises to the express intended third-party beneficiaries of the \\nparties’ agreement, i.e., the public. For example, Defendants caused GPT-4, which \\nMicrosoft’s own scientists have written can “reasonably be viewed as an early (yet \\nstill incomplete) version of an artificial general intelligence (AGI) system,” to be', metadata={'source': 'DataRepository/MuskComplaint.pdf', 'file_path': 'DataRepository/MuskComplaint.pdf', 'page': 30, 'total_pages': 46, 'format': 'PDF 1.7', 'title': '', 'author': '', 'subject': '', 'keywords': '', 'creator': '', 'producer': '', 'creationDate': '', 'modDate': '', 'trapped': ''}),\n",
              " Document(page_content='exclusively licensed to Microsoft, in derogation of OpenAI, Inc.’s irrevocable non-\\nprofit mission to develop AGI for the benefit of humanity.  \\nb. Failing to disclose to the public, among other things, details on GPT-4’s \\narchitecture, hardware, training method, and training computation, and further by \\nerecting a “paywall” between the public and GPT-4, requiring per-token payment \\nfor usage, in order to advance Defendants and Microsoft’s own private commercial \\ninterests, despite agreeing that OpenAI’s technology would be open-source, \\nbalancing only countervailing safety considerations. \\nc. Permitting Microsoft, a publicly traded for-profit corporation, to occupy a seat on', metadata={'source': 'DataRepository/MuskComplaint.pdf', 'file_path': 'DataRepository/MuskComplaint.pdf', 'page': 30, 'total_pages': 46, 'format': 'PDF 1.7', 'title': '', 'author': '', 'subject': '', 'keywords': '', 'creator': '', 'producer': '', 'creationDate': '', 'modDate': '', 'trapped': ''}),\n",
              " Document(page_content='OpenAI, Inc.’s Board of Directors and exert undue influence and control over \\nOpenAI, Inc.’s non-profit activities including, for example, the determination of', metadata={'source': 'DataRepository/MuskComplaint.pdf', 'file_path': 'DataRepository/MuskComplaint.pdf', 'page': 30, 'total_pages': 46, 'format': 'PDF 1.7', 'title': '', 'author': '', 'subject': '', 'keywords': '', 'creator': '', 'producer': '', 'creationDate': '', 'modDate': '', 'trapped': ''}),\n",
              " Document(page_content='1 \\n2 \\n3 \\n4 \\n5 \\n6 \\n7 \\n8 \\n9 \\n10 \\n11 \\n12 \\n13 \\n14 \\n15 \\n16 \\n17 \\n18 \\n19 \\n20 \\n21 \\n22 \\n23 \\n24 \\n25 \\n26 \\n27 \\n28 \\n \\n \\n– 32 – \\nCOMPLAINT \\n \\nwhether and to what extent to make OpenAI’s technology freely available to the \\npublic.  \\n135. \\nAs a direct and proximate result of Defendants’ breaches of fiduciary duty, Plaintiff \\nand the express intended third-party beneficiaries of the Founding Agreement have suffered \\ndamages in an amount that is presently unknown, but substantially exceeds this Court’s \\njurisdictional minimum of $35,000, and if necessary, will be proven at trial.  \\n136. \\nPlaintiff seeks and is entitled to specific performance of Defendant’s contractual', metadata={'source': 'DataRepository/MuskComplaint.pdf', 'file_path': 'DataRepository/MuskComplaint.pdf', 'page': 31, 'total_pages': 46, 'format': 'PDF 1.7', 'title': '', 'author': '', 'subject': '', 'keywords': '', 'creator': '', 'producer': '', 'creationDate': '', 'modDate': '', 'trapped': ''}),\n",
              " Document(page_content='obligations as a remedy for Defendants’ breaches of fiduciary duty. \\nFOURTH CAUSE OF ACTION \\nUnfair Business Practices - Cal. Bus. & Prof. Code §§ 17200 et seq. \\nAgainst All Defendants \\n137. \\nPlaintiff realleges and incorporates by reference only paragraphs of this Complaint \\nnecessary for his claim of Unfair Business Practices. \\n138. \\nCalifornia Business and Professions Code sections 17200 et seq. provides that any \\nperson or entity that engages, has engaged, or proposes to engage in unfair business practices may \\nbe enjoined. \\n139. \\nDefendants have engaged in unfair competition and other unfair business practices', metadata={'source': 'DataRepository/MuskComplaint.pdf', 'file_path': 'DataRepository/MuskComplaint.pdf', 'page': 31, 'total_pages': 46, 'format': 'PDF 1.7', 'title': '', 'author': '', 'subject': '', 'keywords': '', 'creator': '', 'producer': '', 'creationDate': '', 'modDate': '', 'trapped': ''}),\n",
              " Document(page_content='by soliciting donations from Plaintiff and others under the false pretense that all such funds would \\nbe used for the Fundamental Purposes articulated in the Founding Agreement.   \\n140. \\nBut for Defendants’ unfair competition and other unfair business practices, Plaintiff \\nwould not have made his donations or other contributions to OpenAI, Inc. \\n141. \\nAs a result of Defendants’ conduct, Plaintiff has been deceived and other members \\nof the public are likely to be deceived. \\n142. \\nIn engaging in the acts of unfair competition, as alleged above, Defendants violated \\nat least Cal. Bus. & Prof. Code § 17510.8. \\n143.', metadata={'source': 'DataRepository/MuskComplaint.pdf', 'file_path': 'DataRepository/MuskComplaint.pdf', 'page': 31, 'total_pages': 46, 'format': 'PDF 1.7', 'title': '', 'author': '', 'subject': '', 'keywords': '', 'creator': '', 'producer': '', 'creationDate': '', 'modDate': '', 'trapped': ''}),\n",
              " Document(page_content='at least Cal. Bus. & Prof. Code § 17510.8. \\n143. \\nAs a direct and proximate result of these and other acts of Defendants, Plaintiff has \\nsuffered damages and is entitled to recover all proceeds and compensation received by Defendants', metadata={'source': 'DataRepository/MuskComplaint.pdf', 'file_path': 'DataRepository/MuskComplaint.pdf', 'page': 31, 'total_pages': 46, 'format': 'PDF 1.7', 'title': '', 'author': '', 'subject': '', 'keywords': '', 'creator': '', 'producer': '', 'creationDate': '', 'modDate': '', 'trapped': ''}),\n",
              " Document(page_content='1 \\n2 \\n3 \\n4 \\n5 \\n6 \\n7 \\n8 \\n9 \\n10 \\n11 \\n12 \\n13 \\n14 \\n15 \\n16 \\n17 \\n18 \\n19 \\n20 \\n21 \\n22 \\n23 \\n24 \\n25 \\n26 \\n27 \\n28 \\n \\n \\n– 33 – \\nCOMPLAINT \\n \\nand by those acting in concert with them arising from these acts of unfair competition and other \\nunfair business practices.  \\n144. \\nPlaintiff is entitled to restitution and/or disgorgement of any and all monies received \\nby Defendants while they engaged in such practices, in addition to prejudgment interest pursuant to \\nBusiness & Professions Code § 17200 et seq. Plaintiff further seeks to enjoin Defendants from \\ncarrying out such activities again in the future, and an order compelling specific performance.   \\nFIFTH CAUSE OF ACTION \\nAccounting', metadata={'source': 'DataRepository/MuskComplaint.pdf', 'file_path': 'DataRepository/MuskComplaint.pdf', 'page': 32, 'total_pages': 46, 'format': 'PDF 1.7', 'title': '', 'author': '', 'subject': '', 'keywords': '', 'creator': '', 'producer': '', 'creationDate': '', 'modDate': '', 'trapped': ''}),\n",
              " Document(page_content='FIFTH CAUSE OF ACTION \\nAccounting  \\nAgainst All Defendants \\n145. \\nPlaintiff realleges and incorporates by reference only paragraphs of this Complaint \\nnecessary for his claim of Accounting. \\n146. As discussed above, over the course of multiple years, Defendants solicited tens of \\nmillions of dollars in donations from Plaintiff with representations and assurances that OpenAI, Inc. \\nwould remain a non-profit irrevocably dedicated to creating safe AGI for public benefit, and that all \\ndonated funds would be used in accordance with that “irrevocable” mandate. On information and \\nbelief, Defendants also solicited tens of millions of dollars in donations from others based on the', metadata={'source': 'DataRepository/MuskComplaint.pdf', 'file_path': 'DataRepository/MuskComplaint.pdf', 'page': 32, 'total_pages': 46, 'format': 'PDF 1.7', 'title': '', 'author': '', 'subject': '', 'keywords': '', 'creator': '', 'producer': '', 'creationDate': '', 'modDate': '', 'trapped': ''}),\n",
              " Document(page_content='same representations.   \\n147. \\nContrary to the express purpose for which Plaintiff’s funds were contributed, as set \\nforth herein, Defendants used monies received from Plaintiff, and intellectual property and \\nderivative works funded by those monies, for “for-profit” purposes, including for the benefit of \\nprivate individuals and likely of the individual Defendants themselves, that directly contravene both \\nthe letter and the express intent of the parties’ agreement.   \\n148. \\nBecause Defendants are in possession of financial information relating to the use of \\nthe charitable contributions that Plaintiff and others made to OpenAI, Inc. and the intellectual', metadata={'source': 'DataRepository/MuskComplaint.pdf', 'file_path': 'DataRepository/MuskComplaint.pdf', 'page': 32, 'total_pages': 46, 'format': 'PDF 1.7', 'title': '', 'author': '', 'subject': '', 'keywords': '', 'creator': '', 'producer': '', 'creationDate': '', 'modDate': '', 'trapped': ''}),\n",
              " Document(page_content='property and derivative works funded by those monies, Plaintiff is presently unable to ascertain his \\ninterest in or the use, allocation, or distribution of assets without an accounting. Plaintiff is therefore \\nentitled to an accounting.', metadata={'source': 'DataRepository/MuskComplaint.pdf', 'file_path': 'DataRepository/MuskComplaint.pdf', 'page': 32, 'total_pages': 46, 'format': 'PDF 1.7', 'title': '', 'author': '', 'subject': '', 'keywords': '', 'creator': '', 'producer': '', 'creationDate': '', 'modDate': '', 'trapped': ''}),\n",
              " Document(page_content='1 \\n2 \\n3 \\n4 \\n5 \\n6 \\n7 \\n8 \\n9 \\n10 \\n11 \\n12 \\n13 \\n14 \\n15 \\n16 \\n17 \\n18 \\n19 \\n20 \\n21 \\n22 \\n23 \\n24 \\n25 \\n26 \\n27 \\n28 \\n \\n \\n– 34 – \\nCOMPLAINT \\n \\nPRAYER FOR RELIEF \\nWHEREFORE, Plaintiff prays for judgment against Defendants as follows: \\nA. For an order compelling specific performance of Defendants’ repeated contractual \\npromises including, without limitation,  \\ni. \\nAn order requiring that Defendants continue to follow OpenAI’s long-\\nstanding practice of making AI research and technology developed at \\nOpenAI available to the public, and \\nii. \\nAn order prohibiting Defendants from utilizing OpenAI, Inc. or its assets \\nfor the financial benefit of the individual Defendants, Microsoft, or any', metadata={'source': 'DataRepository/MuskComplaint.pdf', 'file_path': 'DataRepository/MuskComplaint.pdf', 'page': 33, 'total_pages': 46, 'format': 'PDF 1.7', 'title': '', 'author': '', 'subject': '', 'keywords': '', 'creator': '', 'producer': '', 'creationDate': '', 'modDate': '', 'trapped': ''}),\n",
              " Document(page_content='other particular person or entity; \\nB. For a judicial determination that GPT-4 constitutes Artificial General Intelligence \\nand is thereby outside the scope of OpenAI’s license to Microsoft; \\nC. For a judicial determination that Q* and/or other OpenAI next generation large \\nlanguage models in development constitute(s) Artificial General Intelligence and \\nis/are outside the scope of OpenAI’s license to Microsoft; \\nD. Injunctive relief consistent with and to effectuate items A through C above; \\nE. For an award of restitution and/or disgorgement of any and all monies received by \\nDefendants while they engaged in the unfair and improper practices described', metadata={'source': 'DataRepository/MuskComplaint.pdf', 'file_path': 'DataRepository/MuskComplaint.pdf', 'page': 33, 'total_pages': 46, 'format': 'PDF 1.7', 'title': '', 'author': '', 'subject': '', 'keywords': '', 'creator': '', 'producer': '', 'creationDate': '', 'modDate': '', 'trapped': ''}),\n",
              " Document(page_content='herein, in addition to prejudgment interest and penalties, pursuant to Business & \\nProfessions Code § 17200 et seq.; \\nF. For an accounting of funds donated by Plaintiffs and others to OpenAI, Inc., and of \\nintellectual property or derivative works funded by same, and of Defendants’ use \\nof the same for personal benefit or the benefit of any individual or third-party entity; \\nG. For general, compensatory, and punitive damages to be proven at trial, each of \\nwhich Plaintiff will contribute to a non-profit or charity; \\nH. For attorneys’ fees pursuant to California Code of Civil Procedure § 1021.5; \\nI. For pre-judgment and post-judgment interest at the maximum legal rate; and', metadata={'source': 'DataRepository/MuskComplaint.pdf', 'file_path': 'DataRepository/MuskComplaint.pdf', 'page': 33, 'total_pages': 46, 'format': 'PDF 1.7', 'title': '', 'author': '', 'subject': '', 'keywords': '', 'creator': '', 'producer': '', 'creationDate': '', 'modDate': '', 'trapped': ''}),\n",
              " Document(page_content='J. For such other and further relief as the Court may deem just and proper.', metadata={'source': 'DataRepository/MuskComplaint.pdf', 'file_path': 'DataRepository/MuskComplaint.pdf', 'page': 33, 'total_pages': 46, 'format': 'PDF 1.7', 'title': '', 'author': '', 'subject': '', 'keywords': '', 'creator': '', 'producer': '', 'creationDate': '', 'modDate': '', 'trapped': ''}),\n",
              " Document(page_content='1 \\n2 \\n3 \\n4 \\n5 \\n6 \\n7 \\n8 \\n9 \\n10 \\n11 \\n12 \\n13 \\n14 \\n15 \\n16 \\n17 \\n18 \\n19 \\n20 \\n21 \\n22 \\n23 \\n24 \\n25 \\n26 \\n27 \\n28 \\n \\n \\n– 35 – \\nCOMPLAINT \\n \\nDEMAND FOR JURY TRIAL \\nPlaintiff hereby demands trial by jury as to all issues, claims, and/or causes of action properly \\ntriable before a jury \\n \\nDATED: February 29, 2024 \\nIRELL & MANELLA LLP \\n \\n \\nBy:                                                                 \\nMorgan Chu \\nAlan Heinrich \\nIian Jablon \\nAbigail Sellers \\nJustin Koo \\nHenry White \\n \\nAttorneys for Plaintiff Elon Musk', metadata={'source': 'DataRepository/MuskComplaint.pdf', 'file_path': 'DataRepository/MuskComplaint.pdf', 'page': 34, 'total_pages': 46, 'format': 'PDF 1.7', 'title': '', 'author': '', 'subject': '', 'keywords': '', 'creator': '', 'producer': '', 'creationDate': '', 'modDate': '', 'trapped': ''}),\n",
              " Document(page_content='Exhibit 1', metadata={'source': 'DataRepository/MuskComplaint.pdf', 'file_path': 'DataRepository/MuskComplaint.pdf', 'page': 35, 'total_pages': 46, 'format': 'PDF 1.7', 'title': '', 'author': '', 'subject': '', 'keywords': '', 'creator': '', 'producer': '', 'creationDate': '', 'modDate': '', 'trapped': ''}),\n",
              " Document(page_content='(9 12/08/2015 11:21 AM \\n14154847068 \\n+ 13027393812 \\nState of Delaware \\nSecretary of State \\nDivision of Corporations \\nDelivered 02:22 PM 12/08/2015 \\nFILED 02:22 PM 12/08/2015 \\nSR 20151247198 - FileNumber 5902936 \\nCERTIFICATE OF INCORPORATION OF \\nA NON-STOCK CORPORATION \\nOPENAI, INC. \\nFIRST: The name of the Corporation is \"OpenAI, Inc.\" (the \"Corporation\"). \\nSECOND: The address of the Corporation\\'s registered office in the State of Delaware is 2711 \\nCenterviJle Road, Suite 400, Wilmington, New Castle County, Delaware 19808. The name of its \\nregistered agent at such address is Corporation Service Company.', metadata={'source': 'DataRepository/MuskComplaint.pdf', 'file_path': 'DataRepository/MuskComplaint.pdf', 'page': 36, 'total_pages': 46, 'format': 'PDF 1.7', 'title': '', 'author': '', 'subject': '', 'keywords': '', 'creator': '', 'producer': '', 'creationDate': '', 'modDate': '', 'trapped': ''}),\n",
              " Document(page_content='THIRD: This Corporation shall be a nonprofit corporation organized exclusively for charitable \\nand/or educational purposes within the meaning of section 501(c){3) of the Internal Revenue \\nCode of 1986, as amended, or the corresponding provision of any future United States Internal \\nRevenue law. The specific purpose of this corporation is to provide funding for research, \\ndevelopment and distribution of technology related to artificial intelligence. The resulting \\ntechnology will benefit the public and the corporation will seek to open source technology for \\nthe public benefit when applicable. The corporation is not organized for the private gain of any', metadata={'source': 'DataRepository/MuskComplaint.pdf', 'file_path': 'DataRepository/MuskComplaint.pdf', 'page': 36, 'total_pages': 46, 'format': 'PDF 1.7', 'title': '', 'author': '', 'subject': '', 'keywords': '', 'creator': '', 'producer': '', 'creationDate': '', 'modDate': '', 'trapped': ''}),\n",
              " Document(page_content='person. In furtherance of its purposes, the corporation shall engage in any lawful act of activity \\nfor which nonprofit corporations may be organized under the General Coiporation Law of \\nDelaware. \\nFOUR TH: This corporation is organized and operated exclusively for purposes set forth in \\nArticle THIRD hereof within the meaning of the Internal Revenue Code section 501(c)(3). No \\nsubstantial part of the activities of this corporation shall consist of carrying on propaganda, or \\notherwise attempting to influence legislation and this corporation shall not participate or \\nintervene in any political campaign (including the publishing or distribution of statements) on', metadata={'source': 'DataRepository/MuskComplaint.pdf', 'file_path': 'DataRepository/MuskComplaint.pdf', 'page': 36, 'total_pages': 46, 'format': 'PDF 1.7', 'title': '', 'author': '', 'subject': '', 'keywords': '', 'creator': '', 'producer': '', 'creationDate': '', 'modDate': '', 'trapped': ''}),\n",
              " Document(page_content='behalf on any candidate for public office. Notwithstanding any other provision of these articles, \\nthe corporation shall not carry on any other activities not pennitted to be carried on (a) by a \\ncorporation/organization exempt from Federal income tax under section 501(c){3) of the Internal \\nRevenue Code, or the corresponding section of any future federal tax code, or (b) by a \\ncorporation/organization, contributions to which are deductible under section 170( c )(2) of the \\nInternal Revenue Code, or the corresponding section of any future federal tax code. \\nFIFTH: The property of this corporation is irrevocably dedicated to the purposes in Article', metadata={'source': 'DataRepository/MuskComplaint.pdf', 'file_path': 'DataRepository/MuskComplaint.pdf', 'page': 36, 'total_pages': 46, 'format': 'PDF 1.7', 'title': '', 'author': '', 'subject': '', 'keywords': '', 'creator': '', 'producer': '', 'creationDate': '', 'modDate': '', 'trapped': ''}),\n",
              " Document(page_content='THREE hereof and no part of the net income or assets of this corporation shall ever inure to the \\nbenefit of any director, officer or member thereof or to the benefit of any private person. Upon \\nthe dissolution or winding up of this corporation, its assets remaining after payment, or provision \\nfor payment, of all debts and liabilities of this corporation shall be distributed to a nonprofit fund, \\nfoundation, or corporation which is organized and operated exclusively for charitable, \\neducational and/or religious purposes and which has established its tax exempt status under \\nInternal Revenue Code section 50l(c)(3), or the corresponding section of any future federal tax', metadata={'source': 'DataRepository/MuskComplaint.pdf', 'file_path': 'DataRepository/MuskComplaint.pdf', 'page': 36, 'total_pages': 46, 'format': 'PDF 1.7', 'title': '', 'author': '', 'subject': '', 'keywords': '', 'creator': '', 'producer': '', 'creationDate': '', 'modDate': '', 'trapped': ''}),\n",
              " Document(page_content='code, or shall be distributed to the federal government, or to a state or local government, for a \\npublic purpose. \\nSIXTH: The corporation shall not have any capital stock. \\nD 3', metadata={'source': 'DataRepository/MuskComplaint.pdf', 'file_path': 'DataRepository/MuskComplaint.pdf', 'page': 36, 'total_pages': 46, 'format': 'PDF 1.7', 'title': '', 'author': '', 'subject': '', 'keywords': '', 'creator': '', 'producer': '', 'creationDate': '', 'modDate': '', 'trapped': ''}),\n",
              " Document(page_content='~ 12/08/2015 11:21 AM \\n14154847068 \\n-) 13027393812 \\nSEVENTH: The corporation shall not have any members. \\nEIGHTH: The name and mailing address of the incorporator are as follows: \\nJonathan Levy \\n335 Pioneer Way \\nMountain View, CA 94041 \\nI, Jonathan Levy, for the purpose of forming a corporation under the laws of the State of \\nDelaware, do make, file and record this Certificate, and do certify that the facts herein stated are \\ntrue, and I have accordingly hereunto set my hand this \\nExecuted on December 8, 2015. \\nAUTHORIZED OFFICER \\nls/Jonathan Levy \\nJonathan Levy \\n0 4', metadata={'source': 'DataRepository/MuskComplaint.pdf', 'file_path': 'DataRepository/MuskComplaint.pdf', 'page': 37, 'total_pages': 46, 'format': 'PDF 1.7', 'title': '', 'author': '', 'subject': '', 'keywords': '', 'creator': '', 'producer': '', 'creationDate': '', 'modDate': '', 'trapped': ''}),\n",
              " Document(page_content='Exhibit 2', metadata={'source': 'DataRepository/MuskComplaint.pdf', 'file_path': 'DataRepository/MuskComplaint.pdf', 'page': 38, 'total_pages': 46, 'format': 'PDF 1.7', 'title': '', 'author': '', 'subject': '', 'keywords': '', 'creator': '', 'producer': '', 'creationDate': '', 'modDate': '', 'trapped': ''}),\n",
              " Document(page_content='Exhibit 3', metadata={'source': 'DataRepository/MuskComplaint.pdf', 'file_path': 'DataRepository/MuskComplaint.pdf', 'page': 40, 'total_pages': 46, 'format': 'PDF 1.7', 'title': '', 'author': '', 'subject': '', 'keywords': '', 'creator': '', 'producer': '', 'creationDate': '', 'modDate': '', 'trapped': ''}),\n",
              " Document(page_content='\\x00\\x0b\\x0c\\r\\x0e\\x0f\\x10\\x11\\x12\\x13\\x0c\\x14\\x06\\x15\\x16\\x17\\x0c\\x18\\x0b\\n\\x19\\r\\r\\x16\\x1a\\x07\\x01\\x01\\x0f\\x16\\x17\\x0c\\x1b\\x13\\x1c\\x12\\x0f\\x1d\\x01\\x1e\\x1f\\x0f\\x14\\x01\\x13\\x0c\\r\\x0e\\x0f\\x10\\x11\\x12\\x13\\x0c\\x14 \\x0f\\x16\\x17\\x0c\\x1b\\x13\\n!\\x015\\n\"#$%&\\')*+%,%-#.,/)0\\x06+.0)/)1)+2\\n)%0$22)3$%1$.$*$+.14\\x061,5#+%67\\x06\"8.\\n3,+2)*0,+9:+%1$9)3)0+2\\x06)%0$22)3$%1$\\n)%04$;+604+0)*5,*02)<$260,\\n=$%$/)0485+%)06+*+;4,2$>\\n8%1,%*0.+)%$9=6+%$$90,3$%$.+0$\\n/)%+%1)+2.$08.%7?)%1$,8..$*$+.14)*\\n/.$$/.,5/)%+%1)+2,=2)3+0),%*>;$\\n1+%=$00$./,18*,%+#,*)0):$\\n485+%)5#+107\\n\\'%0.,981)%3\\n\"#$%&\\'\\n@2,3\\nA$%8', metadata={'source': 'DataRepository/MuskComplaint.pdf', 'file_path': 'DataRepository/MuskComplaint.pdf', 'page': 41, 'total_pages': 46, 'format': 'PDF 1.7', 'title': '', 'author': '', 'subject': '', 'keywords': '', 'creator': '', 'producer': '', 'creationDate': '', 'modDate': '', 'trapped': ''}),\n",
              " Document(page_content='\\x0e\\x0f\\x10\\x11\\x12\\x13\\x0c\\x14\\x06\\x15\\x16\\x17\\x0c\\x18\\x0b\\n\\x19\\r\\r\\x16\\x1a\\x07\\x01\\x01\\x0f\\x16\\x17\\x0c\\x1b\\x13\\x1c\\x12\\x0f\\x1d\\x01\\x1e\\x1f\\x0f\\x14\\x01\\x13\\x0c\\r\\x0e\\x0f\\x10\\x11\\x12\\x13\\x0c\\x14 \\x0f\\x16\\x17\\x0c\\x1b\\x13\\n\\x00\\x015\\n!\"#\"$%\"&(()*+(,\\n-./0123\\n455678&98:;<=\\x06?678:<\\x06?9@\\x06A9<B\\nC&\"B\\x06D&;#E$9<\\n45@9\\x06F687E\"G\"&\\nHI\"<J4\\nJ<<;6<#\"$\"<87\\nHI\"<J4:79<;<KI&;L:8\\x069&8:L:#:95\\x06:<8\"55:B\"<#\"\\x06&\"7\"9&#M\\x06#;$I9<@N\\x06H6&\\x06B;95\\x06:7\\x068;\\x069OG9<#\"\\nO:B:895:<8\"55:B\"<#\"\\x06:<\\x068M\"\\x06P9@\\x068M98\\x06:7\\x06$;78\\x065:E\"5@\\x068;\\x06%\"<\"L:8\\x06M6$9<:8@\\x0697\\x069\\x06PM;5\")\\n6<#;<78&9:<\"O%@\\x069\\x06<\"\"O\\x068;\\x06B\"<\"&98\"\\x06L:<9<#:95\\x06&\"86&<N\\x06F:<#\"\\x06;6&\\x06&\"7\"9&#M\\x06:7\\x06L&\"\"\\x06L&;$\\nL:<9<#:95;%5:B98:;<7)\\x06P\"\\x06#9<\\x06%\"88\"&\\x06L;#67\\x06;<\\x069\\x06I;7:8:G\"\\x06M6$9<\\x06:$I9#8N\\nA\"%\"5:\"G\"J47M;65O\\x06%\"\\x069<\\x06\"Q8\"<7:;<\\x06;L\\x06:<O:G:O695\\x06M6$9<\\x06P:557\\x069<O)\\x06:<\\x068M\"\\x067I:&:8\\x06;L\\x065:%\"&8@)\\n97%&;9O5@9<O\"G\"<5@\\x06O:78&:%68\"O\\x0697\\x06I;77:%5\"N\\x06RM\"\\x06;68#;$\"\\x06;L\\x068M:7\\x06G\"<86&\"\\x06:7\\x066<#\"&89:<\\x069<O', metadata={'source': 'DataRepository/MuskComplaint.pdf', 'file_path': 'DataRepository/MuskComplaint.pdf', 'page': 42, 'total_pages': 46, 'format': 'PDF 1.7', 'title': '', 'author': '', 'subject': '', 'keywords': '', 'creator': '', 'producer': '', 'creationDate': '', 'modDate': '', 'trapped': ''}),\n",
              " Document(page_content='8M\"P;&E:7O:LL:#658)\\x06%68\\x06P\"\\x06%\"5:\"G\"\\x068M\"\\x06B;95\\x069<O\\x068M\"\\x0678&6#86&\"\\x069&\"\\x06&:BM8N\\x06A\"\\x06M;I\"\\x068M:7\\x06:7\\nPM98$988\"&7$;78\\x068;\\x068M\"\\x06%\"78\\x06:<\\x068M\"\\x06L:\"5ON\\nSTUVW21.XY', metadata={'source': 'DataRepository/MuskComplaint.pdf', 'file_path': 'DataRepository/MuskComplaint.pdf', 'page': 42, 'total_pages': 46, 'format': 'PDF 1.7', 'title': '', 'author': '', 'subject': '', 'keywords': '', 'creator': '', 'producer': '', 'creationDate': '', 'modDate': '', 'trapped': ''}),\n",
              " Document(page_content='\\x00\\x01\\x00\\x02\\x01\\x00\\x03\\x04\\x06\\x07\\x06\\x08\\t\\n\\x0b\\x0c\\r\\x0e\\x0f\\x10\\x11\\x12\\x13\\x0c\\x14\\x06\\x15\\x16\\x17\\x0c\\x18\\x0b\\n\\x19\\r\\r\\x16\\x1a\\x07\\x01\\x01\\x0f\\x16\\x17\\x0c\\x1b\\x13\\x1c\\x12\\x0f\\x1d\\x01\\x1e\\x1f\\x0f\\x14\\x01\\x13\\x0c\\r\\x0e\\x0f\\x10\\x11\\x12\\x13\\x0c\\x14 \\x0f\\x16\\x17\\x0c\\x1b\\x13\\n\\x06\\x015\\n!\"#$%$&$\\'($*#+(($,+*&+\\x06-\\'.\\x06\\'(/\\'0.\\x061++*\\x06\\'\\x06.2\"3\"$.$*,\\x06%$+(45\\x066*\\x06#-+\\x06+\\'\"(0\\x064\\'0.7\\x063+83(+\\x06#-82,-#\\n#-\\'#.8(9$*,&+\"#\\'$*\\x06#\\'.:.\\x06;.2&-\\x06\\'.\\x06&-+..<\\x06/82(4\\x06(+\\'4\\x062.\\x06#8\\x064$.&89+\"\\x06-2=\\'*>(+9+(\\n$*#+(($,+*&+\\'(,8\"$#-=.5\\x06?8/+9+\"7\\x06#-+\\x06.8(2#$8*\\x06#8\\x06+\\'&-\\x06#\\'.:\\x06#2\"*+4\\x0682#\\x06#8\\x061+\\x06=2&-\\x06(+..\\n,+*+\"\\'(#-\\'*3+83(+\\x06/+\"+\\x06-83$*,\\x06;.2&-\\x06\\'.\\x0648$*,\\x06\\'\\x06.+\\'\"&-\\x0689+\"\\x06\\'\\x06-2,+\\x06*2=1+\"\\x068%\\x06=89+.<5\\nA-+3\\'.#%+/0+\\'\".\\x06-\\'9+\\x06-+(4\\x06\\'*8#-+\"\\x06%(\\'98\"\\x068%\\x06.2\"3\"$.+5\\x06!*\\x06!6\\x06#+&-*$B2+\\x06+C3(8\"+4\\x06%8\"\\n4+&\\'4+.74++3(+\\'\"*$*,7\\x06.#\\'\"#+4\\x06\\'&-$+9$*,\\x06.#\\'#+>8%>#-+>\\'\"#\\x06\"+.2(#.\\x06$*\\x06\\'\\x06/$4+\\x069\\'\"$+#0\\x068%\\n3\"81(+=48=\\'$*.5\\x066*\\x064++3\\x06(+\\'\"*$*,7\\x06\"\\'#-+\"\\x06#-\\'*\\x06-\\'*4>&84+\\x06\\'\\x06*+/\\x06\\'(,8\"$#-=\\x06%8\"\\x06+\\'&-', metadata={'source': 'DataRepository/MuskComplaint.pdf', 'file_path': 'DataRepository/MuskComplaint.pdf', 'page': 43, 'total_pages': 46, 'format': 'PDF 1.7', 'title': '', 'author': '', 'subject': '', 'keywords': '', 'creator': '', 'producer': '', 'creationDate': '', 'modDate': '', 'trapped': ''}),\n",
              " Document(page_content='3\"81(+=70824+.$,*\\x06\\'\"&-$#+&#2\"+.\\x06#-\\'#\\x06&\\'*\\x06#/$.#\\x06#-+=.+(9+.\\x06$*#8\\x06\\'\\x06/$4+\\x06\"\\'*,+\\x068%\\n\\'(,8\"$#-=.1\\'.+4\\x068*\\x06#-+\\x064\\'#\\'\\x06082\\x06%++4\\x06#-+=5\\nA-$.\\'33\"8\\'&--\\'.\\x060$+(4+4\\x0682#.#\\'*4$*,\\x06\"+.2(#.\\x068*\\x063\\'##+\"*\\x06\"+&8,*$#$8*\\x063\"81(+=.7\\x06.2&-\\x06\\'.\\n\"+&8,*$D$*,81E+&#.\\x06$*\\x06$=\\',+.7\\x06=\\'&-$*+\\x06#\"\\'*.(\\'#$8*7\\x06\\'*4\\x06.3++&-\\x06\"+&8,*$#$8*5\\x06F2#\\x06/+G\\n9+\\x06\\'(.8\\n.#\\'\"#+4#8.++/-\\'#\\x06$#\\x06=$,-#\\x061+\\x06($:+\\x06%8\"\\x06&8=32#+\".\\x06#8\\x061+\\x06\\n7\\x06#8\\x06\\n7\\x06\\'*4\\n#8\\n5\\n&\"+\\'#$9+\\n4\"+\\'=\\n+C3+\"$+*&+#-+\\x06/8\"(4\\nHIIJKLMOIPQRPS\\n!6.0.#+=.#84\\'0\\x06-\\'9+\\x06$=3\"+..$9+\\x0612#\\x06*\\'\"\"8/\\x06&\\'3\\'1$($#$+.5\\x066#\\x06.++=.\\x06#-\\'#\\x06/+G\\n((\\x06:++3\\x06/-$##($*,\\n\\'/\\'0\\'##-+$\"&8*.#\"\\'$*#.7\\x06\\'*4\\x06$*\\x06#-+\\x06+C#\"+=+\\x06&\\'.+\\x06#-+0\\x06/$((\\x06\"+\\'&-\\x06-2=\\'*\\x063+\"%8\"=\\'*&+\\x068*\\n9$\"#2\\'((0+9+\"0$*#+((+&#2\\'(\\x06#\\'.:5\\x066#G\\n.\\x06-\\'\"4\\x06#8\\x06%\\'#-8=\\x06-8/\\x06=2&-\\x06-2=\\'*>(+9+(\\x06!6\\x06&82(4\\x061+*+%$#', metadata={'source': 'DataRepository/MuskComplaint.pdf', 'file_path': 'DataRepository/MuskComplaint.pdf', 'page': 43, 'total_pages': 46, 'format': 'PDF 1.7', 'title': '', 'author': '', 'subject': '', 'keywords': '', 'creator': '', 'producer': '', 'creationDate': '', 'modDate': '', 'trapped': ''}),\n",
              " Document(page_content='.8&$+#07\\'*4$#G\\n.+B2\\'((0\\x06-\\'\"4\\x06#8\\x06$=\\',$*+\\x06-8/\\x06=2&-\\x06$#\\x06&82(4\\x064\\'=\\',+\\x06.8&$+#0\\x06$%\\x0612$(#\\x068\"\\n2.+4$*&8\"\"+&#(05\\nTUVLWX', metadata={'source': 'DataRepository/MuskComplaint.pdf', 'file_path': 'DataRepository/MuskComplaint.pdf', 'page': 43, 'total_pages': 46, 'format': 'PDF 1.7', 'title': '', 'author': '', 'subject': '', 'keywords': '', 'creator': '', 'producer': '', 'creationDate': '', 'modDate': '', 'trapped': ''}),\n",
              " Document(page_content='\\x00\\x01\\x00\\x02\\x01\\x00\\x03\\x04\\x06\\x07\\x06\\x08\\t\\n\\x0b\\x0c\\r\\x0e\\x0f\\x10\\x11\\x12\\x13\\x0c\\x14\\x06\\x15\\x16\\x17\\x0c\\x18\\x0b\\n\\x19\\r\\r\\x16\\x1a\\x07\\x01\\x01\\x0f\\x16\\x17\\x0c\\x1b\\x13\\x1c\\x12\\x0f\\x1d\\x01\\x1e\\x1f\\x0f\\x14\\x01\\x13\\x0c\\r\\x0e\\x0f\\x10\\x11\\x12\\x13\\x0c\\x14 \\x0f\\x16\\x17\\x0c\\x1b\\x13\\n\\x03\\x015\\n!\"#$%&\\'\\n(&)*,&%-./01\\n23405\"#\\'.)6)&\\n789:<==<>?8@=9A\\n789:<==<>?8@=9A\\nB9@<CA9DEFGH\\nAAC>I>8A8JK\\x06L8A?D>MN\\x068?H\\nA\\x06L<>O\\x06?D\\x06I>9O8@?\\x06:L9J\\x06LCP<JQ=9R9=\\x06FG\\x06P8KL?\\x06@DP9\\n:8?L8J>9<@LSTL9J\\x068?\\x06OD9AN\\x068?H\\n==\\x06U9\\x068PID>?<J?\\x06?D\\x06L<R9\\x06<\\x06=9<O8JK\\x06>9A9<>@L\\x068JA?8?C?8DJ\\x06:L8@L\\n@<JI>8D>8?8V9<KDDO\\x06DC?@DP9\\x06ED>\\x06<==\\x06DR9>\\x068?A\\x06D:J\\x06A9=EQ8J?9>9A?S\\nT9H\\n>9LDI8JK?DK>D:\\x06XI9JFG\\x068J?D\\x06AC@L\\x06<J\\x068JA?8?C?8DJS\\x06FA\\x06<\\x06JDJQI>DE8?N\\x06DC>\\x06<8P\\x068A\\x06?D\\x06UC8=O\\nR<=C9ED>9R9>MDJ9\\x06><?L9>\\x06?L<J\\x06AL<>9LD=O9>AS\\x06Y9A9<>@L9>A\\x06:8==\\x06U9\\x06A?>DJK=M\\x069J@DC><K9O\\x06?D\\nICU=8AL?L98>:D>ZN\\x06:L9?L9>\\x06<A\\x06I<I9>AN\\x06U=DK\\x06IDA?AN\\x06D>\\x06@DO9N\\x06<JO\\x06DC>\\x06I<?9J?A\\x06[8E\\x06<JM\\\\\\x06:8==\\x06U9\\nAL<>9O:8?L?L9:D>=OS\\x06T9H', metadata={'source': 'DataRepository/MuskComplaint.pdf', 'file_path': 'DataRepository/MuskComplaint.pdf', 'page': 44, 'total_pages': 46, 'format': 'PDF 1.7', 'title': '', 'author': '', 'subject': '', 'keywords': '', 'creator': '', 'producer': '', 'creationDate': '', 'modDate': '', 'trapped': ''}),\n",
              " Document(page_content='AL<>9O:8?L?L9:D>=OS\\x06T9H\\n==\\x06E>99=M\\x06@D==<UD><?9\\x06:8?L\\x06D?L9>A\\x06<@>DAA\\x06P<JM\\x068JA?8?C?8DJA\\x06<JO\\n9]I9@??D:D>Z:8?L\\x06@DPI<J89A\\x06?D\\x06>9A9<>@L\\x06<JO\\x06O9I=DM\\x06J9:\\x06?9@LJD=DK89AS\\nXI9JFGH\\nA>9A9<>@L\\x06O8>9@?D>\\x068A\\x06\\nN\\x06DJ9\\x06DE\\x06?L9\\x06:D>=O\\x069]I9>?A\\x068J\\x06P<@L8J9\\x06=9<>J8JKS\\nXC>^_X8A\\nN\\x06ED>P9>=M\\x06?L9\\x06^_X\\x06DE\\x06`?>8I9S\\x06_L9\\x06K>DCIH\\nA\\x06D?L9>\\x06EDCJO8JK\\nP9PU9>A<>9:D>=OQ@=<AA\\x06>9A9<>@L\\x069JK8J99>A\\x06<JO\\x06A@89J?8A?Aa\\x06\\nN\\x06\\nN\\nN\\x06\\nN\\x06\\nN\\x06\\nN\\x06<JO\\x06\\nSb89?9>\\x06FUU99=N\\x06cDALC<\\x06B9JK8DN\\x06F=<J\\x06d<MN\\x06`9>K9M\\x06e9R8J9N\\x06<JO\\x0678AL<=\\x06`8ZZ<\\x06<>9\\n<OR8AD>A?D?L9K>DCIS\\x06XI9JFGH\\nA\\x06@DQ@L<8>A\\x06<>9\\x06`<P\\x06F=?P<J\\x06<JO\\x06f=DJ\\x06gCAZS\\n`<PNh>9KNf=DJN\\x06Y98O\\x06iDEEP<JN\\x06j9AA8@<\\x06e8R8JKA?DJN\\x06b9?9>\\x06_L89=N\\x06FP<VDJ\\x06T9U\\x06`9>R8@9A\\n[FT`\\\\NGJEDAMAN<JO\\x06\\n\\x06<>9\\x06ODJ<?8JK\\x06?D\\x06ACIID>?\\x06XI9JFGS\\x06GJ\\x06?D?<=N\\x06?L9A9\\x06ECJO9>A', metadata={'source': 'DataRepository/MuskComplaint.pdf', 'file_path': 'DataRepository/MuskComplaint.pdf', 'page': 44, 'total_pages': 46, 'format': 'PDF 1.7', 'title': '', 'author': '', 'subject': '', 'keywords': '', 'creator': '', 'producer': '', 'creationDate': '', 'modDate': '', 'trapped': ''}),\n",
              " Document(page_content='L<R9@DPP8??9O\\x06kl\\x06U8==8DJN\\x06<=?LDCKL\\x06:9\\x069]I9@?\\x06?D\\x06DJ=M\\x06AI9JO\\x06<\\x06?8JM\\x06E><@?8DJ\\x06DE\\x06?L8A\\x068J\\x06?L9\\nJ9]?E9:M9<>AS\\ncDC@<JED==D:CA\\x06DJ\\x06_:8??9>\\x06<?\\x06\\nS\\nG=M<\\x06`C?AZ9R9>\\nh>9K\\x06B>D@ZP<J\\n_>9RD>\\x06B=<@Z:9==78@Z8\\n^L9CJKFJO>9md<>I<?LMnC>Z\\x06d8JKP<jDLJ\\x06`@LC=P<Jb<P9=<\\x067<K<?<\\nTDm@89@L\\no<>9PU<\\nc^\\x06Y9A9<>@L\\npXI9JFG', metadata={'source': 'DataRepository/MuskComplaint.pdf', 'file_path': 'DataRepository/MuskComplaint.pdf', 'page': 44, 'total_pages': 46, 'format': 'PDF 1.7', 'title': '', 'author': '', 'subject': '', 'keywords': '', 'creator': '', 'producer': '', 'creationDate': '', 'modDate': '', 'trapped': ''}),\n",
              " Document(page_content='\\x00\\x0b\\x0c\\r\\x0e\\x0f\\x10\\x11\\x12\\x13\\x0c\\x14\\x06\\x15\\x16\\x17\\x0c\\x18\\x0b\\n\\x19\\r\\r\\x16\\x1a\\x07\\x01\\x01\\x0f\\x16\\x17\\x0c\\x1b\\x13\\x1c\\x12\\x0f\\x1d\\x01\\x1e\\x1f\\x0f\\x14\\x01\\x13\\x0c\\r\\x0e\\x0f\\x10\\x11\\x12\\x13\\x0c\\x14 \\x0f\\x16\\x17\\x0c\\x1b\\x13\\n!\\x015\\n\"#$%&#\\')#*#%)+,\\n-./012\\n3456\\x06899\\x068:;4<95=\\n3456\\x06899\\x06:5=58:<>', metadata={'source': 'DataRepository/MuskComplaint.pdf', 'file_path': 'DataRepository/MuskComplaint.pdf', 'page': 45, 'total_pages': 46, 'format': 'PDF 1.7', 'title': '', 'author': '', 'subject': '', 'keywords': '', 'creator': '', 'producer': '', 'creationDate': '', 'modDate': '', 'trapped': ''})]"
            ]
          },
          "execution_count": 23,
          "metadata": {},
          "output_type": "execute_result"
        }
      ],
      "source": [
        "eval_documents = documents\n",
        "\n",
        "text_splitter = RecursiveCharacterTextSplitter(\n",
        "    chunk_size = 1500,\n",
        "    chunk_overlap = 400\n",
        ")\n",
        "\n",
        "eval_documents = text_splitter.split_documents(eval_documents)\n",
        "\n",
        "eval_documents"
      ]
    },
    {
      "cell_type": "markdown",
      "metadata": {
        "id": "K7rOQkxhzrq3"
      },
      "source": [
        "####❓ Question #2:\n",
        "\n",
        "Why is it important to split our documents using different parameters when creating our synthetic data?\n",
        "\n",
        "Answer: it's important to have a great chunking strategy due to reasons like transforming actual query into different queries that are more complex as we will see in question 3 on simple, reasoning and multi_context for creating syntetic data. If we have very small chunks it will make it more difficult to make syntetic data based on multi context.\n",
        "\n",
        "Also thinking of chunking as a form of hyperparameter is not a bad idea. \n",
        "\n",
        "Evol unstruct (wizardlm) paper will further describe a great strategy which RAGAS makes use of!\n"
      ]
    },
    {
      "cell_type": "code",
      "execution_count": 24,
      "metadata": {
        "colab": {
          "base_uri": "https://localhost:8080/"
        },
        "id": "hiAPYw-hz-zo",
        "outputId": "0942c5d1-d151-44af-ad1f-c1373ef3e634"
      },
      "outputs": [
        {
          "data": {
            "text/plain": [
              "159"
            ]
          },
          "execution_count": 24,
          "metadata": {},
          "output_type": "execute_result"
        }
      ],
      "source": [
        "len(documents)"
      ]
    },
    {
      "cell_type": "code",
      "execution_count": 25,
      "metadata": {
        "colab": {
          "base_uri": "https://localhost:8080/",
          "height": 66,
          "referenced_widgets": [
            "8b4c1aafe67048798cdadd46207b4b84",
            "83e3f8bf55454600b299fe63b608852a",
            "4818628434aa4a0e8d7826f152c0da99",
            "c3e047dfd4ec4a859e0274a54ace1432",
            "1b3b9e3adf85473a81055265d9a5b89f",
            "2a4b2b14a02b46c1ac67fc1581133523",
            "decd5f4c69a845cc8fad4c21524c2fd9",
            "e44a47a5a2184c2780ac27e16ace0f7f",
            "317a7d84efc74420abea8e311137f272",
            "611021c94b8a42c58897925acb8b3c5e",
            "ba72a1f57074488da5e34f8d02e748f8",
            "6de6fb8ef2974573b50bad678620f2d1",
            "09ce5c2f37fb469683ed7cf3bd7566f6",
            "58d7c8b4640249df89b60e9eef4d2328",
            "394fb069eb3c4269bb3c970cc04369a9",
            "2235baa0358a4b8cad60508d5d1d8380",
            "570a1f9809e143ef8d858e1c5dc9837d",
            "42c4905b54d8482588d57485c563ee78",
            "26ee70b94d75449cbe7b7ce40ebc1049",
            "bc3b3593ad1e4c5bad6057a3d3872bb4",
            "c5651973a0534d3da51d0a18b13deff3",
            "8745b8f8f8ec46869c66758c4bc6b2e0"
          ]
        },
        "id": "IXc6sMglSej_",
        "outputId": "b97b381f-ecd0-441d-924d-09e6d2187954"
      },
      "outputs": [
        {
          "data": {
            "application/vnd.jupyter.widget-view+json": {
              "model_id": "7bc33dc67bd24172a74130d2f18e8f8c",
              "version_major": 2,
              "version_minor": 0
            },
            "text/plain": [
              "embedding nodes:   0%|          | 0/318 [00:00<?, ?it/s]"
            ]
          },
          "metadata": {},
          "output_type": "display_data"
        },
        {
          "name": "stderr",
          "output_type": "stream",
          "text": [
            "Filename and doc_id are the same for all nodes.\n"
          ]
        },
        {
          "data": {
            "application/vnd.jupyter.widget-view+json": {
              "model_id": "9ae230adb06a4017a99ff848ea9e24b6",
              "version_major": 2,
              "version_minor": 0
            },
            "text/plain": [
              "Generating:   0%|          | 0/10 [00:00<?, ?it/s]"
            ]
          },
          "metadata": {},
          "output_type": "display_data"
        }
      ],
      "source": [
        "from ragas.testset.generator import TestsetGenerator\n",
        "from ragas.testset.evolutions import simple, reasoning, multi_context\n",
        "\n",
        "generator = TestsetGenerator.with_openai()\n",
        "\n",
        "testset = generator.generate_with_langchain_docs(documents, test_size=10, distributions={simple: 0.25, reasoning: 0.25, multi_context: 0.5})"
      ]
    },
    {
      "cell_type": "markdown",
      "metadata": {
        "id": "GOIGT0XLz8ze"
      },
      "source": [
        "####❓ Question #3:\n",
        "\n",
        "`{simple: 0.5, reasoning: 0.25, multi_context: 0.25}`\n",
        "\n",
        "What exactly does this mapping refer to?\n",
        "\n",
        "This mapping refers to how Ragas should focus on when creating the syntetic data - in that particular example\n",
        "we make 50 % simple, 25 % with reasoning and 25 % with multicontext.\n",
        "\n",
        "1) simple  - convert simple questions into more complex question\n",
        "2) reasoning - how it should rewrite questions in a way that answers more effectely through reasoning.\n",
        "3) multi-context - rewrite questions so it takes multiple related parts of chunks to formulate an answer\n",
        "\n",
        "> NOTE: Check out the Ragas documentation on this generation process [here](https://docs.ragas.io/en/stable/concepts/testset_generation.html)."
      ]
    },
    {
      "cell_type": "markdown",
      "metadata": {
        "id": "MemL406rUzBu"
      },
      "source": [
        "Let's look at the output and see what we can learn about it!"
      ]
    },
    {
      "cell_type": "code",
      "execution_count": 32,
      "metadata": {
        "colab": {
          "base_uri": "https://localhost:8080/"
        },
        "id": "RaCDdImVU15s",
        "outputId": "a8e95364-f3e4-4f20-da3d-05f6f971afdc"
      },
      "outputs": [
        {
          "data": {
            "text/plain": [
              "DataRow(question=\"What were Mr. Musk's concerns about AI that he discussed with Mr. Page?\", contexts=['Page, then-CEO of Google’s parent company Alphabet, Inc. Mr. Musk would frequently raise the \\ndangers of AI in his conversations with Mr. Page, but to Mr. Musk’s shock, Mr. Page was \\nunconcerned. For example, in 2013, Mr. Musk had a passionate exchange with Mr. Page about the \\ndangers of AI. He warned that unless safeguards were put in place, “artificial intelligence-systems \\nmight replace humans, making our species irrelevant or even extinct.” Mr. Page responded that \\nwould merely “be the next stage of evolution,” and claimed Mr. Musk was being a “specist”—that'], ground_truth=\"Mr. Musk's concerns about AI that he discussed with Mr. Page were that artificial intelligence-systems might replace humans, making our species irrelevant or even extinct.\", evolution_type='simple')"
            ]
          },
          "execution_count": 32,
          "metadata": {},
          "output_type": "execute_result"
        }
      ],
      "source": [
        "testset.test_data[0]"
      ]
    },
    {
      "cell_type": "markdown",
      "metadata": {
        "id": "vrPsVwUAWFWB"
      },
      "source": [
        "### Generating Responses with RAG Pipeline\n",
        "\n",
        "Now that we have some QC pairs, and some ground truths, let's evaluate our RAG pipeline using Ragas.\n",
        "\n",
        "The process is, again, quite straightforward - thanks to Ragas and LangChain!\n",
        "\n",
        "Let's start by extracting our questions and ground truths from our create testset.\n",
        "\n",
        "We can start by converting our test dataset into a Pandas DataFrame."
      ]
    },
    {
      "cell_type": "code",
      "execution_count": 33,
      "metadata": {
        "id": "frvzu1YxX8kY"
      },
      "outputs": [],
      "source": [
        "test_df = testset.to_pandas()"
      ]
    },
    {
      "cell_type": "code",
      "execution_count": 34,
      "metadata": {
        "colab": {
          "base_uri": "https://localhost:8080/",
          "height": 363
        },
        "id": "GFKMIY8IZU8m",
        "outputId": "92554c28-97b0-44b5-c356-05367d764ad8"
      },
      "outputs": [
        {
          "data": {
            "text/html": [
              "<div>\n",
              "<style scoped>\n",
              "    .dataframe tbody tr th:only-of-type {\n",
              "        vertical-align: middle;\n",
              "    }\n",
              "\n",
              "    .dataframe tbody tr th {\n",
              "        vertical-align: top;\n",
              "    }\n",
              "\n",
              "    .dataframe thead th {\n",
              "        text-align: right;\n",
              "    }\n",
              "</style>\n",
              "<table border=\"1\" class=\"dataframe\">\n",
              "  <thead>\n",
              "    <tr style=\"text-align: right;\">\n",
              "      <th></th>\n",
              "      <th>question</th>\n",
              "      <th>contexts</th>\n",
              "      <th>ground_truth</th>\n",
              "      <th>evolution_type</th>\n",
              "      <th>episode_done</th>\n",
              "    </tr>\n",
              "  </thead>\n",
              "  <tbody>\n",
              "    <tr>\n",
              "      <th>0</th>\n",
              "      <td>What were Mr. Musk's concerns about AI that he...</td>\n",
              "      <td>[Page, then-CEO of Google’s parent company Alp...</td>\n",
              "      <td>Mr. Musk's concerns about AI that he discussed...</td>\n",
              "      <td>simple</td>\n",
              "      <td>True</td>\n",
              "    </tr>\n",
              "    <tr>\n",
              "      <th>1</th>\n",
              "      <td>What game did OpenAI compete in using reinforc...</td>\n",
              "      <td>[77. \\nInitial work at OpenAI followed much in...</td>\n",
              "      <td>OpenAI competed in Dota 2 using reinforcement ...</td>\n",
              "      <td>simple</td>\n",
              "      <td>True</td>\n",
              "    </tr>\n",
              "    <tr>\n",
              "      <th>2</th>\n",
              "      <td>How did Mr. Page respond to Mr. Musk's concern...</td>\n",
              "      <td>[Page, then-CEO of Google’s parent company Alp...</td>\n",
              "      <td>Mr. Page responded that would merely “be the n...</td>\n",
              "      <td>reasoning</td>\n",
              "      <td>True</td>\n",
              "    </tr>\n",
              "    <tr>\n",
              "      <th>3</th>\n",
              "      <td>What are the concerns of US officials regardin...</td>\n",
              "      <td>[chip fabrication plants. If $10 billion from ...</td>\n",
              "      <td>The concerns of US officials regarding investm...</td>\n",
              "      <td>reasoning</td>\n",
              "      <td>True</td>\n",
              "    </tr>\n",
              "    <tr>\n",
              "      <th>4</th>\n",
              "      <td>What are the benefits of releasing open versio...</td>\n",
              "      <td>[challenging.” At the time, OpenAI stated that...</td>\n",
              "      <td>The benefits of releasing open versions of pow...</td>\n",
              "      <td>multi_context</td>\n",
              "      <td>True</td>\n",
              "    </tr>\n",
              "    <tr>\n",
              "      <th>5</th>\n",
              "      <td>\"What strategy video game did OpenAI excel in,...</td>\n",
              "      <td>[77. \\nInitial work at OpenAI followed much in...</td>\n",
              "      <td>OpenAI excelled in the strategy video game Dot...</td>\n",
              "      <td>multi_context</td>\n",
              "      <td>True</td>\n",
              "    </tr>\n",
              "    <tr>\n",
              "      <th>6</th>\n",
              "      <td>\"What was the impact of OpenAI's models on fut...</td>\n",
              "      <td>[1 \\n2 \\n3 \\n4 \\n5 \\n6 \\n7 \\n8 \\n9 \\n10 \\n11 \\...</td>\n",
              "      <td>Their publication did prove to be useful to th...</td>\n",
              "      <td>multi_context</td>\n",
              "      <td>True</td>\n",
              "    </tr>\n",
              "    <tr>\n",
              "      <th>7</th>\n",
              "      <td>What are the US officials' concerns about UAE'...</td>\n",
              "      <td>[chip fabrication plants. If $10 billion from ...</td>\n",
              "      <td>US officials are concerned about UAE's ties to...</td>\n",
              "      <td>multi_context</td>\n",
              "      <td>True</td>\n",
              "    </tr>\n",
              "    <tr>\n",
              "      <th>8</th>\n",
              "      <td>What concerns about AGI were raised by Bill Jo...</td>\n",
              "      <td>[18. \\nMr. Musk has long recognized that AGI p...</td>\n",
              "      <td>The concerns about AGI raised by Bill Joy and ...</td>\n",
              "      <td>multi_context</td>\n",
              "      <td>True</td>\n",
              "    </tr>\n",
              "    <tr>\n",
              "      <th>9</th>\n",
              "      <td>What are some of the models released by OpenAI...</td>\n",
              "      <td>[those connections to the target language. \\n7...</td>\n",
              "      <td>OpenAI has released two models: GPT and GPT-2....</td>\n",
              "      <td>simple</td>\n",
              "      <td>True</td>\n",
              "    </tr>\n",
              "  </tbody>\n",
              "</table>\n",
              "</div>"
            ],
            "text/plain": [
              "                                            question  \\\n",
              "0  What were Mr. Musk's concerns about AI that he...   \n",
              "1  What game did OpenAI compete in using reinforc...   \n",
              "2  How did Mr. Page respond to Mr. Musk's concern...   \n",
              "3  What are the concerns of US officials regardin...   \n",
              "4  What are the benefits of releasing open versio...   \n",
              "5  \"What strategy video game did OpenAI excel in,...   \n",
              "6  \"What was the impact of OpenAI's models on fut...   \n",
              "7  What are the US officials' concerns about UAE'...   \n",
              "8  What concerns about AGI were raised by Bill Jo...   \n",
              "9  What are some of the models released by OpenAI...   \n",
              "\n",
              "                                            contexts  \\\n",
              "0  [Page, then-CEO of Google’s parent company Alp...   \n",
              "1  [77. \\nInitial work at OpenAI followed much in...   \n",
              "2  [Page, then-CEO of Google’s parent company Alp...   \n",
              "3  [chip fabrication plants. If $10 billion from ...   \n",
              "4  [challenging.” At the time, OpenAI stated that...   \n",
              "5  [77. \\nInitial work at OpenAI followed much in...   \n",
              "6  [1 \\n2 \\n3 \\n4 \\n5 \\n6 \\n7 \\n8 \\n9 \\n10 \\n11 \\...   \n",
              "7  [chip fabrication plants. If $10 billion from ...   \n",
              "8  [18. \\nMr. Musk has long recognized that AGI p...   \n",
              "9  [those connections to the target language. \\n7...   \n",
              "\n",
              "                                        ground_truth evolution_type  \\\n",
              "0  Mr. Musk's concerns about AI that he discussed...         simple   \n",
              "1  OpenAI competed in Dota 2 using reinforcement ...         simple   \n",
              "2  Mr. Page responded that would merely “be the n...      reasoning   \n",
              "3  The concerns of US officials regarding investm...      reasoning   \n",
              "4  The benefits of releasing open versions of pow...  multi_context   \n",
              "5  OpenAI excelled in the strategy video game Dot...  multi_context   \n",
              "6  Their publication did prove to be useful to th...  multi_context   \n",
              "7  US officials are concerned about UAE's ties to...  multi_context   \n",
              "8  The concerns about AGI raised by Bill Joy and ...  multi_context   \n",
              "9  OpenAI has released two models: GPT and GPT-2....         simple   \n",
              "\n",
              "   episode_done  \n",
              "0          True  \n",
              "1          True  \n",
              "2          True  \n",
              "3          True  \n",
              "4          True  \n",
              "5          True  \n",
              "6          True  \n",
              "7          True  \n",
              "8          True  \n",
              "9          True  "
            ]
          },
          "execution_count": 34,
          "metadata": {},
          "output_type": "execute_result"
        }
      ],
      "source": [
        "test_df"
      ]
    },
    {
      "cell_type": "code",
      "execution_count": 37,
      "metadata": {
        "id": "xAiXbVmLYSoC"
      },
      "outputs": [
        {
          "name": "stdout",
          "output_type": "stream",
          "text": [
            "[\"What were Mr. Musk's concerns about AI that he discussed with Mr. Page?\", 'What game did OpenAI compete in using reinforcement learning?', \"How did Mr. Page respond to Mr. Musk's concerns about AI and what term did he use to describe his viewpoint?\", 'What are the concerns of US officials regarding investments in OpenAI, Inc. from the UAE national security advisor, considering UAE\\'s ties to China and the \"regulatory sandbox\" for AI technologies, and why is access to OpenAI\\'s conflict-of-interest policy important in this context?', 'What are the benefits of releasing open versions of powerful models, as stated by OpenAI, and how has this approach helped developers of subsequent models?', '\"What strategy video game did OpenAI excel in, like DeepMind did in chess, shogi, and Go?\"', '\"What was the impact of OpenAI\\'s models on future model development and how did the communities contribute?\"', \"What are the US officials' concerns about UAE's ties to China in relation to OpenAI, Inc. and its influence on the company's operations and decision-making, considering the involvement of the UAE's national security advisor and the use of UAE as an AI testing ground?\", 'What concerns about AGI were raised by Bill Joy and echoed by Elon Musk?', 'What are some of the models released by OpenAI and their capabilities?']\n",
            "[\"Mr. Musk's concerns about AI that he discussed with Mr. Page were that artificial intelligence-systems might replace humans, making our species irrelevant or even extinct.\", 'OpenAI competed in Dota 2 using reinforcement learning.', 'Mr. Page responded that would merely “be the next stage of evolution,” and claimed Mr. Musk was being a “specist”.', 'The concerns of US officials regarding investments in OpenAI, Inc. from the UAE national security advisor are due to UAE\\'s ties to China and the possibility of making UAE a \"regulatory sandbox\" for AI technologies. Access to OpenAI\\'s conflict-of-interest policy is important to shed light on the potential influence and conflicts of interest that these investments could have on OpenAI.', 'The benefits of releasing open versions of powerful models, as stated by OpenAI, include the ability for communities to enhance and extend the models, both in open-source and commercial efforts. This approach has helped developers of subsequent models by providing them with a foundation to build upon and learn from.', 'OpenAI excelled in the strategy video game Dota 2.', 'Their publication did prove to be useful to the developers of future, powerful models. Entire communities sprung up to enhance and extend the models released by OpenAI. These communities spread to open-source, grass-roots efforts and commercial entities alike.', 'US officials are concerned about UAE\\'s ties to China in relation to OpenAI, Inc. and its influence on the company\\'s operations and decision-making. They are concerned because one potential donor is the national security advisor of the United Arab Emirates and the United Arab Emirates has ties to China. Additionally, Mr. Altman has discussed the possibility of making the United Arab Emirates a \"regulatory sandbox\" for AI technologies.', 'The concerns about AGI raised by Bill Joy and echoed by Elon Musk include the threat it poses to humanity and the possibility of machines becoming more economically useful than humans.', 'OpenAI has released two models: GPT and GPT-2. GPT is a deep neural network that can be pre-trained on a large corpus of text and used to generate new text. GPT-2 is a second-generation model with similar capabilities.']\n"
          ]
        }
      ],
      "source": [
        "test_questions = test_df[\"question\"].values.tolist()\n",
        "test_groundtruths = test_df[\"ground_truth\"].values.tolist()\n",
        "\n",
        "print(test_questions)\n",
        "print(test_groundtruths)"
      ]
    },
    {
      "cell_type": "markdown",
      "metadata": {
        "id": "aE5rfMLfbqKH"
      },
      "source": [
        "Now we'll generate responses using our RAG pipeline using the questions we've generated - we'll also need to collect our retrieved contexts for each question.\n",
        "\n",
        "We'll do this in a simple loop to see exactly what's happening!"
      ]
    },
    {
      "cell_type": "code",
      "execution_count": 38,
      "metadata": {
        "id": "9_AayvT1dAQN"
      },
      "outputs": [
        {
          "name": "stdout",
          "output_type": "stream",
          "text": [
            "[\"Mr. Musk's concerns about AI that he discussed with Mr. Page were related to the dangers of AI potentially replacing humans, making the species irrelevant or even extinct.\"]\n",
            "[\"Mr. Musk's concerns about AI that he discussed with Mr. Page were related to the dangers of AI potentially replacing humans, making the species irrelevant or even extinct.\", 'Dota 2']\n",
            "[\"Mr. Musk's concerns about AI that he discussed with Mr. Page were related to the dangers of AI potentially replacing humans, making the species irrelevant or even extinct.\", 'Dota 2', 'Mr. Page responded to Mr. Musk\\'s concerns about AI by saying it would merely be the next stage of evolution. He described Mr. Musk as being a \"specist.\"']\n",
            "[\"Mr. Musk's concerns about AI that he discussed with Mr. Page were related to the dangers of AI potentially replacing humans, making the species irrelevant or even extinct.\", 'Dota 2', 'Mr. Page responded to Mr. Musk\\'s concerns about AI by saying it would merely be the next stage of evolution. He described Mr. Musk as being a \"specist.\"', 'The concerns of US officials regarding investments in OpenAI, Inc. from the UAE national security advisor are related to UAE\\'s ties to China and the possibility of making the UAE a \"regulatory sandbox\" for AI technologies. Access to OpenAI\\'s conflict-of-interest policy is important in this context to shed light on the potential influence these investments could have on the organization and to ensure transparency in its decision-making processes.']\n",
            "[\"Mr. Musk's concerns about AI that he discussed with Mr. Page were related to the dangers of AI potentially replacing humans, making the species irrelevant or even extinct.\", 'Dota 2', 'Mr. Page responded to Mr. Musk\\'s concerns about AI by saying it would merely be the next stage of evolution. He described Mr. Musk as being a \"specist.\"', 'The concerns of US officials regarding investments in OpenAI, Inc. from the UAE national security advisor are related to UAE\\'s ties to China and the possibility of making the UAE a \"regulatory sandbox\" for AI technologies. Access to OpenAI\\'s conflict-of-interest policy is important in this context to shed light on the potential influence these investments could have on the organization and to ensure transparency in its decision-making processes.', 'The benefits of releasing open versions of powerful models, as stated by OpenAI, include the ability for developers of future powerful models to enhance and extend the models released by OpenAI. This approach has led to the formation of entire communities that work on improving and expanding these models, spreading to open-source, grassroots efforts, and commercial entities.']\n",
            "[\"Mr. Musk's concerns about AI that he discussed with Mr. Page were related to the dangers of AI potentially replacing humans, making the species irrelevant or even extinct.\", 'Dota 2', 'Mr. Page responded to Mr. Musk\\'s concerns about AI by saying it would merely be the next stage of evolution. He described Mr. Musk as being a \"specist.\"', 'The concerns of US officials regarding investments in OpenAI, Inc. from the UAE national security advisor are related to UAE\\'s ties to China and the possibility of making the UAE a \"regulatory sandbox\" for AI technologies. Access to OpenAI\\'s conflict-of-interest policy is important in this context to shed light on the potential influence these investments could have on the organization and to ensure transparency in its decision-making processes.', 'The benefits of releasing open versions of powerful models, as stated by OpenAI, include the ability for developers of future powerful models to enhance and extend the models released by OpenAI. This approach has led to the formation of entire communities that work on improving and expanding these models, spreading to open-source, grassroots efforts, and commercial entities.', 'Dota 2']\n",
            "[\"Mr. Musk's concerns about AI that he discussed with Mr. Page were related to the dangers of AI potentially replacing humans, making the species irrelevant or even extinct.\", 'Dota 2', 'Mr. Page responded to Mr. Musk\\'s concerns about AI by saying it would merely be the next stage of evolution. He described Mr. Musk as being a \"specist.\"', 'The concerns of US officials regarding investments in OpenAI, Inc. from the UAE national security advisor are related to UAE\\'s ties to China and the possibility of making the UAE a \"regulatory sandbox\" for AI technologies. Access to OpenAI\\'s conflict-of-interest policy is important in this context to shed light on the potential influence these investments could have on the organization and to ensure transparency in its decision-making processes.', 'The benefits of releasing open versions of powerful models, as stated by OpenAI, include the ability for developers of future powerful models to enhance and extend the models released by OpenAI. This approach has led to the formation of entire communities that work on improving and expanding these models, spreading to open-source, grassroots efforts, and commercial entities.', 'Dota 2', \"The impact of OpenAI's models on future model development was that entire communities sprung up to enhance and extend the models released by OpenAI. These communities spread to open-source, grass-roots efforts and commercial entities alike.\"]\n",
            "[\"Mr. Musk's concerns about AI that he discussed with Mr. Page were related to the dangers of AI potentially replacing humans, making the species irrelevant or even extinct.\", 'Dota 2', 'Mr. Page responded to Mr. Musk\\'s concerns about AI by saying it would merely be the next stage of evolution. He described Mr. Musk as being a \"specist.\"', 'The concerns of US officials regarding investments in OpenAI, Inc. from the UAE national security advisor are related to UAE\\'s ties to China and the possibility of making the UAE a \"regulatory sandbox\" for AI technologies. Access to OpenAI\\'s conflict-of-interest policy is important in this context to shed light on the potential influence these investments could have on the organization and to ensure transparency in its decision-making processes.', 'The benefits of releasing open versions of powerful models, as stated by OpenAI, include the ability for developers of future powerful models to enhance and extend the models released by OpenAI. This approach has led to the formation of entire communities that work on improving and expanding these models, spreading to open-source, grassroots efforts, and commercial entities.', 'Dota 2', \"The impact of OpenAI's models on future model development was that entire communities sprung up to enhance and extend the models released by OpenAI. These communities spread to open-source, grass-roots efforts and commercial entities alike.\", \"The US officials are concerned about the UAE's ties to China in relation to OpenAI, Inc. because of the potential influence the UAE's national security advisor could have on the company's operations and decision-making. Additionally, there are concerns about the possibility of using the UAE as an AI testing ground, which could further complicate the situation.\"]\n",
            "[\"Mr. Musk's concerns about AI that he discussed with Mr. Page were related to the dangers of AI potentially replacing humans, making the species irrelevant or even extinct.\", 'Dota 2', 'Mr. Page responded to Mr. Musk\\'s concerns about AI by saying it would merely be the next stage of evolution. He described Mr. Musk as being a \"specist.\"', 'The concerns of US officials regarding investments in OpenAI, Inc. from the UAE national security advisor are related to UAE\\'s ties to China and the possibility of making the UAE a \"regulatory sandbox\" for AI technologies. Access to OpenAI\\'s conflict-of-interest policy is important in this context to shed light on the potential influence these investments could have on the organization and to ensure transparency in its decision-making processes.', 'The benefits of releasing open versions of powerful models, as stated by OpenAI, include the ability for developers of future powerful models to enhance and extend the models released by OpenAI. This approach has led to the formation of entire communities that work on improving and expanding these models, spreading to open-source, grassroots efforts, and commercial entities.', 'Dota 2', \"The impact of OpenAI's models on future model development was that entire communities sprung up to enhance and extend the models released by OpenAI. These communities spread to open-source, grass-roots efforts and commercial entities alike.\", \"The US officials are concerned about the UAE's ties to China in relation to OpenAI, Inc. because of the potential influence the UAE's national security advisor could have on the company's operations and decision-making. Additionally, there are concerns about the possibility of using the UAE as an AI testing ground, which could further complicate the situation.\", 'The concerns raised by Bill Joy and echoed by Elon Musk were related to the potential threat that AGI poses to humanity, specifically the idea that if machines can solve tasks better than humans, they could become more economically useful and render humans obsolete.']\n",
            "[\"Mr. Musk's concerns about AI that he discussed with Mr. Page were related to the dangers of AI potentially replacing humans, making the species irrelevant or even extinct.\", 'Dota 2', 'Mr. Page responded to Mr. Musk\\'s concerns about AI by saying it would merely be the next stage of evolution. He described Mr. Musk as being a \"specist.\"', 'The concerns of US officials regarding investments in OpenAI, Inc. from the UAE national security advisor are related to UAE\\'s ties to China and the possibility of making the UAE a \"regulatory sandbox\" for AI technologies. Access to OpenAI\\'s conflict-of-interest policy is important in this context to shed light on the potential influence these investments could have on the organization and to ensure transparency in its decision-making processes.', 'The benefits of releasing open versions of powerful models, as stated by OpenAI, include the ability for developers of future powerful models to enhance and extend the models released by OpenAI. This approach has led to the formation of entire communities that work on improving and expanding these models, spreading to open-source, grassroots efforts, and commercial entities.', 'Dota 2', \"The impact of OpenAI's models on future model development was that entire communities sprung up to enhance and extend the models released by OpenAI. These communities spread to open-source, grass-roots efforts and commercial entities alike.\", \"The US officials are concerned about the UAE's ties to China in relation to OpenAI, Inc. because of the potential influence the UAE's national security advisor could have on the company's operations and decision-making. Additionally, there are concerns about the possibility of using the UAE as an AI testing ground, which could further complicate the situation.\", 'The concerns raised by Bill Joy and echoed by Elon Musk were related to the potential threat that AGI poses to humanity, specifically the idea that if machines can solve tasks better than humans, they could become more economically useful and render humans obsolete.', 'GPT-2 and GPT-3 were some of the models released by OpenAI. GPT-2 could be fine-tuned for misuse and GPT-3 used 175 billion parameters, 10x more than any previous non-sparse language model.']\n"
          ]
        }
      ],
      "source": [
        "answers = []\n",
        "contexts = []\n",
        "\n",
        "for question in test_questions:\n",
        "  response = retrieval_augmented_qa_chain.invoke({\"question\" : question})\n",
        "  answers.append(response[\"response\"].content)\n",
        "  contexts.append([context.page_content for context in response[\"context\"]])\n",
        "\n",
        "  print(answers)"
      ]
    },
    {
      "cell_type": "markdown",
      "metadata": {
        "id": "opHaHmYDeBfC"
      },
      "source": [
        "Now we can wrap our information in a Hugging Face dataset for use in the Ragas library."
      ]
    },
    {
      "cell_type": "code",
      "execution_count": 39,
      "metadata": {
        "id": "fY48YZITeHy-"
      },
      "outputs": [],
      "source": [
        "from datasets import Dataset\n",
        "\n",
        "response_dataset = Dataset.from_dict({\n",
        "    \"question\" : test_questions,\n",
        "    \"answer\" : answers,\n",
        "    \"contexts\" : contexts,\n",
        "    \"ground_truth\" : test_groundtruths\n",
        "})"
      ]
    },
    {
      "cell_type": "markdown",
      "metadata": {
        "id": "mmeVvQaZeogE"
      },
      "source": [
        "Let's take a peek and see what that looks like!"
      ]
    },
    {
      "cell_type": "code",
      "execution_count": 40,
      "metadata": {
        "colab": {
          "base_uri": "https://localhost:8080/"
        },
        "id": "pOpydvc8eqNM",
        "outputId": "9e14b904-7d52-4dec-f65e-e6d13c3e9e79"
      },
      "outputs": [
        {
          "data": {
            "text/plain": [
              "{'question': \"What were Mr. Musk's concerns about AI that he discussed with Mr. Page?\",\n",
              " 'answer': \"Mr. Musk's concerns about AI that he discussed with Mr. Page were related to the dangers of AI potentially replacing humans, making the species irrelevant or even extinct.\",\n",
              " 'contexts': ['Page, then-CEO of Google’s parent company Alphabet, Inc. Mr. Musk would frequently raise the \\ndangers of AI in his conversations with Mr. Page, but to Mr. Musk’s shock, Mr. Page was \\nunconcerned. For example, in 2013, Mr. Musk had a passionate exchange with Mr. Page about the \\ndangers of AI. He warned that unless safeguards were put in place, “artificial intelligence-systems \\nmight replace humans, making our species irrelevant or even extinct.” Mr. Page responded that \\nwould merely “be the next stage of evolution,” and claimed Mr. Musk was being a “specist”—that',\n",
              "  'advancement of AI presents to society.     \\n35. \\nFollowing this conversation with Mr. Hassabis, Mr. Musk became increasingly \\nconcerned about the potential of AI to become super-intelligent, surpass human intelligence, and \\nthreaten humanity. Indeed, Mr. Musk was not the only person afraid about the dangers of AI and \\nthe research being conducted at DeepMind. It has been reported that following a meeting with Mr. \\nHassabis and investors in DeepMind, one of the investors remarked that the best thing he could have \\ndone for the human race was shoot Mr. Hassabis then and there. \\n36. \\nMr. Musk began discussing AI and DeepMind with those in his orbit, such as Larry',\n",
              "  '1 \\n2 \\n3 \\n4 \\n5 \\n6 \\n7 \\n8 \\n9 \\n10 \\n11 \\n12 \\n13 \\n14 \\n15 \\n16 \\n17 \\n18 \\n19 \\n20 \\n21 \\n22 \\n23 \\n24 \\n25 \\n26 \\n27 \\n28 \\n \\n \\n– 10 – \\nCOMPLAINT \\n \\nhe favored the human species over intelligent machines. Mr. Musk responded, “Well, yes, I am pro-\\nhuman.” \\n37. \\nAt the end of 2013, Mr. Musk learned to his grave concern that Google was planning \\nto acquire DeepMind. At the time, DeepMind was one of the most advanced AI companies in the \\nindustry. Thus, Mr. Musk was deeply concerned that DeepMind’s AI technology would be in the \\nhands of someone who viewed it and its power so cavalierly, and could hide its design and \\ncapabilities behind closed doors.  \\n38.',\n",
              "  '2015, it appeared that Mr. Musk may have found someone who understood his concerns about AI \\nand his desire to keep the first AGI out of the hands of a private company like Google: Defendant \\nSam Altman.   \\n42. \\nAt this time, Mr. Altman was the president of Y Combinator, a start-up accelerator \\nin Silicon Valley. Before that, Mr. Altman had been involved in various startup ventures.'],\n",
              " 'ground_truth': \"Mr. Musk's concerns about AI that he discussed with Mr. Page were that artificial intelligence-systems might replace humans, making our species irrelevant or even extinct.\"}"
            ]
          },
          "execution_count": 40,
          "metadata": {},
          "output_type": "execute_result"
        }
      ],
      "source": [
        "response_dataset[0]"
      ]
    },
    {
      "cell_type": "markdown",
      "metadata": {
        "id": "xbsFm5FievJI"
      },
      "source": [
        "## Task 2: Evaluating our Pipeline with Ragas\n",
        "\n",
        "Now that we have our response dataset - we can finally get into the \"meat\" of Ragas - evaluation!\n",
        "\n",
        "First, we'll import the desired metrics, then we can use them to evaluate our created dataset!\n",
        "\n",
        "Check out the specific metrics we'll be using in the Ragas documentation:\n",
        "\n",
        "- [Faithfulness](https://docs.ragas.io/en/stable/concepts/metrics/faithfulness.html)\n",
        "- [Answer Relevancy](https://docs.ragas.io/en/stable/concepts/metrics/answer_relevance.html)\n",
        "- [Context Precision](https://docs.ragas.io/en/stable/concepts/metrics/context_precision.html)\n",
        "- [Context Recall](https://docs.ragas.io/en/stable/concepts/metrics/context_recall.html)\n",
        "- [Answer Correctness](https://docs.ragas.io/en/stable/concepts/metrics/answer_correctness.html)\n",
        "\n",
        "See the accompanied presentation for more in-depth explanations about each of the metrics!"
      ]
    },
    {
      "cell_type": "code",
      "execution_count": 41,
      "metadata": {
        "id": "R2PXwyt8e5aW"
      },
      "outputs": [],
      "source": [
        "from ragas import evaluate\n",
        "from ragas.metrics import (\n",
        "    faithfulness,\n",
        "    answer_relevancy,\n",
        "    answer_correctness,\n",
        "    context_recall,\n",
        "    context_precision,\n",
        ")\n",
        "\n",
        "metrics = [\n",
        "    faithfulness,\n",
        "    answer_relevancy,\n",
        "    context_recall,\n",
        "    context_precision,\n",
        "    answer_correctness,\n",
        "]"
      ]
    },
    {
      "cell_type": "markdown",
      "metadata": {
        "id": "Kx-vlsx_hrtV"
      },
      "source": [
        "All that's left to do is call \"evaluate\" and away we go!"
      ]
    },
    {
      "cell_type": "code",
      "execution_count": 42,
      "metadata": {
        "colab": {
          "base_uri": "https://localhost:8080/",
          "height": 49,
          "referenced_widgets": [
            "d46db515c4d543d898ef91d05df2d0da",
            "af19ef64986b435c8c118e882e26f6a9",
            "14d8c6593d6b41df8dfb290ab9f55ca1",
            "8531b3d7f1cd424f8d3fc2e6bcd875a0",
            "4e5db0ff4ff44577963dbcc651ea10b8",
            "9caba03e810f4407b78cb1c1b6b9be08",
            "2bf9a43c99cf4e05a0f376fde6af9ca6",
            "384a04784f9745088478d9372161c8ae",
            "c981e401946b4dfca65b18b6ae56bf33",
            "b319ac9b4f1b43d5a41d6f10e6e1c1c6",
            "002fc233bee54ea0a9729365f1e0f972"
          ]
        },
        "id": "DhlcfJ4lgYVI",
        "outputId": "dffb177c-c7c6-421d-9fde-7988f960949e"
      },
      "outputs": [
        {
          "data": {
            "application/vnd.jupyter.widget-view+json": {
              "model_id": "0ddb2c856c9d4a669cbd92d5fb180cfb",
              "version_major": 2,
              "version_minor": 0
            },
            "text/plain": [
              "Evaluating:   0%|          | 0/50 [00:00<?, ?it/s]"
            ]
          },
          "metadata": {},
          "output_type": "display_data"
        }
      ],
      "source": [
        "results = evaluate(response_dataset, metrics)"
      ]
    },
    {
      "cell_type": "code",
      "execution_count": 43,
      "metadata": {
        "colab": {
          "base_uri": "https://localhost:8080/"
        },
        "id": "UqPArpSrgwDD",
        "outputId": "71f706b1-b6c6-4eaa-cf75-efe719ed66d4"
      },
      "outputs": [
        {
          "data": {
            "text/plain": [
              "{'faithfulness': 0.9000, 'answer_relevancy': 0.9634, 'context_recall': 0.9333, 'context_precision': 0.8833, 'answer_correctness': 0.7864}"
            ]
          },
          "execution_count": 43,
          "metadata": {},
          "output_type": "execute_result"
        }
      ],
      "source": [
        "results"
      ]
    },
    {
      "cell_type": "code",
      "execution_count": 44,
      "metadata": {
        "colab": {
          "base_uri": "https://localhost:8080/",
          "height": 554
        },
        "id": "2nsGzj8DhP9E",
        "outputId": "2acf7822-7029-4c0f-966a-4f7c5d47df1b"
      },
      "outputs": [
        {
          "data": {
            "text/html": [
              "<div>\n",
              "<style scoped>\n",
              "    .dataframe tbody tr th:only-of-type {\n",
              "        vertical-align: middle;\n",
              "    }\n",
              "\n",
              "    .dataframe tbody tr th {\n",
              "        vertical-align: top;\n",
              "    }\n",
              "\n",
              "    .dataframe thead th {\n",
              "        text-align: right;\n",
              "    }\n",
              "</style>\n",
              "<table border=\"1\" class=\"dataframe\">\n",
              "  <thead>\n",
              "    <tr style=\"text-align: right;\">\n",
              "      <th></th>\n",
              "      <th>question</th>\n",
              "      <th>answer</th>\n",
              "      <th>contexts</th>\n",
              "      <th>ground_truth</th>\n",
              "      <th>faithfulness</th>\n",
              "      <th>answer_relevancy</th>\n",
              "      <th>context_recall</th>\n",
              "      <th>context_precision</th>\n",
              "      <th>answer_correctness</th>\n",
              "    </tr>\n",
              "  </thead>\n",
              "  <tbody>\n",
              "    <tr>\n",
              "      <th>0</th>\n",
              "      <td>What were Mr. Musk's concerns about AI that he...</td>\n",
              "      <td>Mr. Musk's concerns about AI that he discussed...</td>\n",
              "      <td>[Page, then-CEO of Google’s parent company Alp...</td>\n",
              "      <td>Mr. Musk's concerns about AI that he discussed...</td>\n",
              "      <td>1.0</td>\n",
              "      <td>1.000000</td>\n",
              "      <td>1.000000</td>\n",
              "      <td>1.000000</td>\n",
              "      <td>0.746201</td>\n",
              "    </tr>\n",
              "    <tr>\n",
              "      <th>1</th>\n",
              "      <td>What game did OpenAI compete in using reinforc...</td>\n",
              "      <td>Dota 2</td>\n",
              "      <td>[77. \\nInitial work at OpenAI followed much in...</td>\n",
              "      <td>OpenAI competed in Dota 2 using reinforcement ...</td>\n",
              "      <td>1.0</td>\n",
              "      <td>0.988049</td>\n",
              "      <td>1.000000</td>\n",
              "      <td>1.000000</td>\n",
              "      <td>0.962706</td>\n",
              "    </tr>\n",
              "    <tr>\n",
              "      <th>2</th>\n",
              "      <td>How did Mr. Page respond to Mr. Musk's concern...</td>\n",
              "      <td>Mr. Page responded to Mr. Musk's concerns abou...</td>\n",
              "      <td>[Page, then-CEO of Google’s parent company Alp...</td>\n",
              "      <td>Mr. Page responded that would merely “be the n...</td>\n",
              "      <td>1.0</td>\n",
              "      <td>0.978955</td>\n",
              "      <td>1.000000</td>\n",
              "      <td>1.000000</td>\n",
              "      <td>0.841048</td>\n",
              "    </tr>\n",
              "    <tr>\n",
              "      <th>3</th>\n",
              "      <td>What are the concerns of US officials regardin...</td>\n",
              "      <td>The concerns of US officials regarding investm...</td>\n",
              "      <td>[chip fabrication plants. If $10 billion from ...</td>\n",
              "      <td>The concerns of US officials regarding investm...</td>\n",
              "      <td>1.0</td>\n",
              "      <td>0.960450</td>\n",
              "      <td>1.000000</td>\n",
              "      <td>1.000000</td>\n",
              "      <td>0.849439</td>\n",
              "    </tr>\n",
              "    <tr>\n",
              "      <th>4</th>\n",
              "      <td>What are the benefits of releasing open versio...</td>\n",
              "      <td>The benefits of releasing open versions of pow...</td>\n",
              "      <td>[challenging.” At the time, OpenAI stated that...</td>\n",
              "      <td>The benefits of releasing open versions of pow...</td>\n",
              "      <td>1.0</td>\n",
              "      <td>0.970252</td>\n",
              "      <td>1.000000</td>\n",
              "      <td>1.000000</td>\n",
              "      <td>0.747099</td>\n",
              "    </tr>\n",
              "    <tr>\n",
              "      <th>5</th>\n",
              "      <td>\"What strategy video game did OpenAI excel in,...</td>\n",
              "      <td>Dota 2</td>\n",
              "      <td>[a superhuman level of play in the games of ch...</td>\n",
              "      <td>OpenAI excelled in the strategy video game Dot...</td>\n",
              "      <td>0.0</td>\n",
              "      <td>0.888159</td>\n",
              "      <td>1.000000</td>\n",
              "      <td>0.500000</td>\n",
              "      <td>0.968335</td>\n",
              "    </tr>\n",
              "    <tr>\n",
              "      <th>6</th>\n",
              "      <td>\"What was the impact of OpenAI's models on fut...</td>\n",
              "      <td>The impact of OpenAI's models on future model ...</td>\n",
              "      <td>[challenging.” At the time, OpenAI stated that...</td>\n",
              "      <td>Their publication did prove to be useful to th...</td>\n",
              "      <td>1.0</td>\n",
              "      <td>0.942378</td>\n",
              "      <td>1.000000</td>\n",
              "      <td>1.000000</td>\n",
              "      <td>0.839459</td>\n",
              "    </tr>\n",
              "    <tr>\n",
              "      <th>7</th>\n",
              "      <td>What are the US officials' concerns about UAE'...</td>\n",
              "      <td>The US officials are concerned about the UAE's...</td>\n",
              "      <td>[chip fabrication plants. If $10 billion from ...</td>\n",
              "      <td>US officials are concerned about UAE's ties to...</td>\n",
              "      <td>1.0</td>\n",
              "      <td>0.970784</td>\n",
              "      <td>1.000000</td>\n",
              "      <td>0.833333</td>\n",
              "      <td>0.618658</td>\n",
              "    </tr>\n",
              "    <tr>\n",
              "      <th>8</th>\n",
              "      <td>What concerns about AGI were raised by Bill Jo...</td>\n",
              "      <td>The concerns raised by Bill Joy and echoed by ...</td>\n",
              "      <td>[18. \\nMr. Musk has long recognized that AGI p...</td>\n",
              "      <td>The concerns about AGI raised by Bill Joy and ...</td>\n",
              "      <td>1.0</td>\n",
              "      <td>0.959944</td>\n",
              "      <td>1.000000</td>\n",
              "      <td>1.000000</td>\n",
              "      <td>0.844974</td>\n",
              "    </tr>\n",
              "    <tr>\n",
              "      <th>9</th>\n",
              "      <td>What are some of the models released by OpenAI...</td>\n",
              "      <td>GPT-2 and GPT-3 were some of the models releas...</td>\n",
              "      <td>[challenging.” At the time, OpenAI stated that...</td>\n",
              "      <td>OpenAI has released two models: GPT and GPT-2....</td>\n",
              "      <td>1.0</td>\n",
              "      <td>0.975186</td>\n",
              "      <td>0.333333</td>\n",
              "      <td>0.500000</td>\n",
              "      <td>0.446091</td>\n",
              "    </tr>\n",
              "  </tbody>\n",
              "</table>\n",
              "</div>"
            ],
            "text/plain": [
              "                                            question  \\\n",
              "0  What were Mr. Musk's concerns about AI that he...   \n",
              "1  What game did OpenAI compete in using reinforc...   \n",
              "2  How did Mr. Page respond to Mr. Musk's concern...   \n",
              "3  What are the concerns of US officials regardin...   \n",
              "4  What are the benefits of releasing open versio...   \n",
              "5  \"What strategy video game did OpenAI excel in,...   \n",
              "6  \"What was the impact of OpenAI's models on fut...   \n",
              "7  What are the US officials' concerns about UAE'...   \n",
              "8  What concerns about AGI were raised by Bill Jo...   \n",
              "9  What are some of the models released by OpenAI...   \n",
              "\n",
              "                                              answer  \\\n",
              "0  Mr. Musk's concerns about AI that he discussed...   \n",
              "1                                             Dota 2   \n",
              "2  Mr. Page responded to Mr. Musk's concerns abou...   \n",
              "3  The concerns of US officials regarding investm...   \n",
              "4  The benefits of releasing open versions of pow...   \n",
              "5                                             Dota 2   \n",
              "6  The impact of OpenAI's models on future model ...   \n",
              "7  The US officials are concerned about the UAE's...   \n",
              "8  The concerns raised by Bill Joy and echoed by ...   \n",
              "9  GPT-2 and GPT-3 were some of the models releas...   \n",
              "\n",
              "                                            contexts  \\\n",
              "0  [Page, then-CEO of Google’s parent company Alp...   \n",
              "1  [77. \\nInitial work at OpenAI followed much in...   \n",
              "2  [Page, then-CEO of Google’s parent company Alp...   \n",
              "3  [chip fabrication plants. If $10 billion from ...   \n",
              "4  [challenging.” At the time, OpenAI stated that...   \n",
              "5  [a superhuman level of play in the games of ch...   \n",
              "6  [challenging.” At the time, OpenAI stated that...   \n",
              "7  [chip fabrication plants. If $10 billion from ...   \n",
              "8  [18. \\nMr. Musk has long recognized that AGI p...   \n",
              "9  [challenging.” At the time, OpenAI stated that...   \n",
              "\n",
              "                                        ground_truth  faithfulness  \\\n",
              "0  Mr. Musk's concerns about AI that he discussed...           1.0   \n",
              "1  OpenAI competed in Dota 2 using reinforcement ...           1.0   \n",
              "2  Mr. Page responded that would merely “be the n...           1.0   \n",
              "3  The concerns of US officials regarding investm...           1.0   \n",
              "4  The benefits of releasing open versions of pow...           1.0   \n",
              "5  OpenAI excelled in the strategy video game Dot...           0.0   \n",
              "6  Their publication did prove to be useful to th...           1.0   \n",
              "7  US officials are concerned about UAE's ties to...           1.0   \n",
              "8  The concerns about AGI raised by Bill Joy and ...           1.0   \n",
              "9  OpenAI has released two models: GPT and GPT-2....           1.0   \n",
              "\n",
              "   answer_relevancy  context_recall  context_precision  answer_correctness  \n",
              "0          1.000000        1.000000           1.000000            0.746201  \n",
              "1          0.988049        1.000000           1.000000            0.962706  \n",
              "2          0.978955        1.000000           1.000000            0.841048  \n",
              "3          0.960450        1.000000           1.000000            0.849439  \n",
              "4          0.970252        1.000000           1.000000            0.747099  \n",
              "5          0.888159        1.000000           0.500000            0.968335  \n",
              "6          0.942378        1.000000           1.000000            0.839459  \n",
              "7          0.970784        1.000000           0.833333            0.618658  \n",
              "8          0.959944        1.000000           1.000000            0.844974  \n",
              "9          0.975186        0.333333           0.500000            0.446091  "
            ]
          },
          "execution_count": 44,
          "metadata": {},
          "output_type": "execute_result"
        }
      ],
      "source": [
        "results_df = results.to_pandas()\n",
        "results_df"
      ]
    },
    {
      "cell_type": "markdown",
      "metadata": {
        "id": "MWfiu_pLh3JL"
      },
      "source": [
        "## Task 3: Making Adjustments to our RAG Pipeline\n",
        "\n",
        "Now that we have established a baseline - we can see how any changes impact our pipeline's performance!\n",
        "\n",
        "Let's modify our retriever and see how that impacts our Ragas metrics!"
      ]
    },
    {
      "cell_type": "code",
      "execution_count": 45,
      "metadata": {
        "id": "nKIuM336isBL"
      },
      "outputs": [],
      "source": [
        "from langchain.retrievers import MultiQueryRetriever\n",
        "\n",
        "advanced_retriever = MultiQueryRetriever.from_llm(retriever=retriever, llm=primary_qa_llm)"
      ]
    },
    {
      "cell_type": "markdown",
      "metadata": {
        "id": "82rcj3L-i_c8"
      },
      "source": [
        "We'll also re-create our RAG pipeline using the abstractions that come packaged with LangChain v0.1.0!\n",
        "\n",
        "First, let's create a chain to \"stuff\" our documents into our context!"
      ]
    },
    {
      "cell_type": "code",
      "execution_count": 46,
      "metadata": {
        "id": "EfdCgTw7jC4i"
      },
      "outputs": [],
      "source": [
        "from langchain.chains.combine_documents import create_stuff_documents_chain\n",
        "\n",
        "document_chain = create_stuff_documents_chain(primary_qa_llm, retrieval_qa_prompt)"
      ]
    },
    {
      "cell_type": "markdown",
      "metadata": {
        "id": "ozYl5WdPnvLu"
      },
      "source": [
        "Next, we'll create the retrieval chain!"
      ]
    },
    {
      "cell_type": "code",
      "execution_count": 47,
      "metadata": {
        "id": "9AK7wHVnn0U3"
      },
      "outputs": [],
      "source": [
        "from langchain.chains import create_retrieval_chain\n",
        "\n",
        "retrieval_chain = create_retrieval_chain(advanced_retriever, document_chain)"
      ]
    },
    {
      "cell_type": "markdown",
      "metadata": {},
      "source": []
    },
    {
      "cell_type": "code",
      "execution_count": 48,
      "metadata": {
        "id": "cmKORMfMoCjL"
      },
      "outputs": [],
      "source": [
        "response = retrieval_chain.invoke({\"input\": \"Who is the plantiff?\"})"
      ]
    },
    {
      "cell_type": "code",
      "execution_count": 49,
      "metadata": {
        "colab": {
          "base_uri": "https://localhost:8080/"
        },
        "id": "ICMsUWbWoOpf",
        "outputId": "04fb324e-682f-48cc-b369-a78d6396af88"
      },
      "outputs": [
        {
          "name": "stdout",
          "output_type": "stream",
          "text": [
            "The plaintiff is Elon Musk.\n"
          ]
        }
      ],
      "source": [
        "print(response[\"answer\"])"
      ]
    },
    {
      "cell_type": "code",
      "execution_count": 50,
      "metadata": {
        "id": "5s8ZGasYoVi6"
      },
      "outputs": [],
      "source": [
        "response = retrieval_chain.invoke({\"input\": \"What does this complaint pertain to?\"})"
      ]
    },
    {
      "cell_type": "code",
      "execution_count": 51,
      "metadata": {
        "colab": {
          "base_uri": "https://localhost:8080/"
        },
        "id": "ADNCdW4hoYT8",
        "outputId": "92d13a09-9e69-48af-fac2-1919123a980c"
      },
      "outputs": [
        {
          "name": "stdout",
          "output_type": "stream",
          "text": [
            "The complaint pertains to a legal case involving Plaintiff Elon Musk alleging breach of fiduciary duty, unfair business practices, and seeking an accounting, restitution, disgorgement of funds, and injunctive relief against all Defendants. The complaint also includes a demand for a jury trial.\n"
          ]
        }
      ],
      "source": [
        "print(response[\"answer\"])"
      ]
    },
    {
      "cell_type": "markdown",
      "metadata": {
        "id": "OxkU0HdpoaiE"
      },
      "source": [
        "Well, just from those responses this chain *feels* better - but lets see how it performs on our eval!\n",
        "\n",
        "Let's do the same process we did before to collect our pipeline's contexts and answers."
      ]
    },
    {
      "cell_type": "code",
      "execution_count": 52,
      "metadata": {
        "id": "kO8cWxn2oinT"
      },
      "outputs": [],
      "source": [
        "answers = []\n",
        "contexts = []\n",
        "\n",
        "for question in test_questions:\n",
        "  response = retrieval_chain.invoke({\"input\" : question})\n",
        "  answers.append(response[\"answer\"])\n",
        "  contexts.append([context.page_content for context in response[\"context\"]])"
      ]
    },
    {
      "cell_type": "markdown",
      "metadata": {
        "id": "tgagfhPUtM2j"
      },
      "source": [
        "Now we can convert this into a dataset, just like we did before."
      ]
    },
    {
      "cell_type": "code",
      "execution_count": 53,
      "metadata": {
        "id": "5FcllGeSovP8"
      },
      "outputs": [],
      "source": [
        "response_dataset_advanced_retrieval = Dataset.from_dict({\n",
        "    \"question\" : test_questions,\n",
        "    \"answer\" : answers,\n",
        "    \"contexts\" : contexts,\n",
        "    \"ground_truth\" : test_groundtruths\n",
        "})"
      ]
    },
    {
      "cell_type": "markdown",
      "metadata": {
        "id": "dELYabwktR2C"
      },
      "source": [
        "Let's evaluate on the same metrics we did for the first pipeline and see how it does!"
      ]
    },
    {
      "cell_type": "code",
      "execution_count": 54,
      "metadata": {
        "colab": {
          "base_uri": "https://localhost:8080/",
          "height": 49,
          "referenced_widgets": [
            "50599aa481d8460aa6655330b2b0fae3",
            "cfc93618fc084608bb413667fee91ea8",
            "3e85b387328f4df7b45dccbe6572b9bd",
            "cc50e0150a9947579a919757b85f38c9",
            "c03d5f58d31747d3a344f813755480fc",
            "17fde9c2236b4b1b9990dd2a9fbd58ff",
            "ddbe87e735534504b735211253c4b4d2",
            "2189fea4b75749d7bac330e613c31974",
            "d7148bed10a245509672dc60be6edd47",
            "3367eaf060c845648cda48963481ecb4",
            "4fc8cf791b1344809fe8c7ee9598a20a"
          ]
        },
        "id": "d7uHseWJo2TU",
        "outputId": "a0cf86d6-5b8e-4829-b660-b2c247202811"
      },
      "outputs": [
        {
          "data": {
            "application/vnd.jupyter.widget-view+json": {
              "model_id": "80bc34fd65274012b707d7f31c0718ab",
              "version_major": 2,
              "version_minor": 0
            },
            "text/plain": [
              "Evaluating:   0%|          | 0/50 [00:00<?, ?it/s]"
            ]
          },
          "metadata": {},
          "output_type": "display_data"
        }
      ],
      "source": [
        "advanced_retrieval_results = evaluate(response_dataset_advanced_retrieval, metrics)"
      ]
    },
    {
      "cell_type": "code",
      "execution_count": 55,
      "metadata": {
        "colab": {
          "base_uri": "https://localhost:8080/",
          "height": 554
        },
        "id": "JsFd0uDd2n5E",
        "outputId": "56ec498b-2100-4b79-db2a-30deb4ffddd5"
      },
      "outputs": [
        {
          "data": {
            "text/html": [
              "<div>\n",
              "<style scoped>\n",
              "    .dataframe tbody tr th:only-of-type {\n",
              "        vertical-align: middle;\n",
              "    }\n",
              "\n",
              "    .dataframe tbody tr th {\n",
              "        vertical-align: top;\n",
              "    }\n",
              "\n",
              "    .dataframe thead th {\n",
              "        text-align: right;\n",
              "    }\n",
              "</style>\n",
              "<table border=\"1\" class=\"dataframe\">\n",
              "  <thead>\n",
              "    <tr style=\"text-align: right;\">\n",
              "      <th></th>\n",
              "      <th>question</th>\n",
              "      <th>answer</th>\n",
              "      <th>contexts</th>\n",
              "      <th>ground_truth</th>\n",
              "      <th>faithfulness</th>\n",
              "      <th>answer_relevancy</th>\n",
              "      <th>context_recall</th>\n",
              "      <th>context_precision</th>\n",
              "      <th>answer_correctness</th>\n",
              "    </tr>\n",
              "  </thead>\n",
              "  <tbody>\n",
              "    <tr>\n",
              "      <th>0</th>\n",
              "      <td>What were Mr. Musk's concerns about AI that he...</td>\n",
              "      <td>Mr. Musk's concerns about AI that he discussed...</td>\n",
              "      <td>[Page, then-CEO of Google’s parent company Alp...</td>\n",
              "      <td>Mr. Musk's concerns about AI that he discussed...</td>\n",
              "      <td>1.0</td>\n",
              "      <td>1.000000</td>\n",
              "      <td>1.0</td>\n",
              "      <td>0.950000</td>\n",
              "      <td>0.745491</td>\n",
              "    </tr>\n",
              "    <tr>\n",
              "      <th>1</th>\n",
              "      <td>What game did OpenAI compete in using reinforc...</td>\n",
              "      <td>OpenAI competed in Dota 2, a strategy video ga...</td>\n",
              "      <td>[77. \\nInitial work at OpenAI followed much in...</td>\n",
              "      <td>OpenAI competed in Dota 2 using reinforcement ...</td>\n",
              "      <td>1.0</td>\n",
              "      <td>1.000000</td>\n",
              "      <td>1.0</td>\n",
              "      <td>1.000000</td>\n",
              "      <td>0.746921</td>\n",
              "    </tr>\n",
              "    <tr>\n",
              "      <th>2</th>\n",
              "      <td>How did Mr. Page respond to Mr. Musk's concern...</td>\n",
              "      <td>Mr. Page responded to Mr. Musk's concerns abou...</td>\n",
              "      <td>[Page, then-CEO of Google’s parent company Alp...</td>\n",
              "      <td>Mr. Page responded that would merely “be the n...</td>\n",
              "      <td>0.5</td>\n",
              "      <td>0.978955</td>\n",
              "      <td>1.0</td>\n",
              "      <td>1.000000</td>\n",
              "      <td>0.833931</td>\n",
              "    </tr>\n",
              "    <tr>\n",
              "      <th>3</th>\n",
              "      <td>What are the concerns of US officials regardin...</td>\n",
              "      <td>The concerns of US officials regarding investm...</td>\n",
              "      <td>[chip fabrication plants. If $10 billion from ...</td>\n",
              "      <td>The concerns of US officials regarding investm...</td>\n",
              "      <td>1.0</td>\n",
              "      <td>0.953904</td>\n",
              "      <td>1.0</td>\n",
              "      <td>0.986111</td>\n",
              "      <td>0.808717</td>\n",
              "    </tr>\n",
              "    <tr>\n",
              "      <th>4</th>\n",
              "      <td>What are the benefits of releasing open versio...</td>\n",
              "      <td>The benefits of releasing open versions of pow...</td>\n",
              "      <td>[challenging.” At the time, OpenAI stated that...</td>\n",
              "      <td>The benefits of releasing open versions of pow...</td>\n",
              "      <td>1.0</td>\n",
              "      <td>0.969340</td>\n",
              "      <td>1.0</td>\n",
              "      <td>1.000000</td>\n",
              "      <td>0.808705</td>\n",
              "    </tr>\n",
              "    <tr>\n",
              "      <th>5</th>\n",
              "      <td>\"What strategy video game did OpenAI excel in,...</td>\n",
              "      <td>OpenAI excelled in Dota 2, a strategy video ga...</td>\n",
              "      <td>[77. \\nInitial work at OpenAI followed much in...</td>\n",
              "      <td>OpenAI excelled in the strategy video game Dot...</td>\n",
              "      <td>1.0</td>\n",
              "      <td>0.907292</td>\n",
              "      <td>1.0</td>\n",
              "      <td>1.000000</td>\n",
              "      <td>0.740220</td>\n",
              "    </tr>\n",
              "    <tr>\n",
              "      <th>6</th>\n",
              "      <td>\"What was the impact of OpenAI's models on fut...</td>\n",
              "      <td>OpenAI's models had a significant impact on fu...</td>\n",
              "      <td>[challenging.” At the time, OpenAI stated that...</td>\n",
              "      <td>Their publication did prove to be useful to th...</td>\n",
              "      <td>1.0</td>\n",
              "      <td>0.939927</td>\n",
              "      <td>1.0</td>\n",
              "      <td>1.000000</td>\n",
              "      <td>0.809080</td>\n",
              "    </tr>\n",
              "    <tr>\n",
              "      <th>7</th>\n",
              "      <td>What are the US officials' concerns about UAE'...</td>\n",
              "      <td>The US officials are concerned about the Unite...</td>\n",
              "      <td>[chip fabrication plants. If $10 billion from ...</td>\n",
              "      <td>US officials are concerned about UAE's ties to...</td>\n",
              "      <td>1.0</td>\n",
              "      <td>0.964566</td>\n",
              "      <td>1.0</td>\n",
              "      <td>0.605397</td>\n",
              "      <td>0.647484</td>\n",
              "    </tr>\n",
              "    <tr>\n",
              "      <th>8</th>\n",
              "      <td>What concerns about AGI were raised by Bill Jo...</td>\n",
              "      <td>Bill Joy and Elon Musk both raised concerns ab...</td>\n",
              "      <td>[18. \\nMr. Musk has long recognized that AGI p...</td>\n",
              "      <td>The concerns about AGI raised by Bill Joy and ...</td>\n",
              "      <td>1.0</td>\n",
              "      <td>0.852408</td>\n",
              "      <td>1.0</td>\n",
              "      <td>1.000000</td>\n",
              "      <td>0.905113</td>\n",
              "    </tr>\n",
              "    <tr>\n",
              "      <th>9</th>\n",
              "      <td>What are some of the models released by OpenAI...</td>\n",
              "      <td>OpenAI released models such as GPT-2, GPT-3, a...</td>\n",
              "      <td>[challenging.” At the time, OpenAI stated that...</td>\n",
              "      <td>OpenAI has released two models: GPT and GPT-2....</td>\n",
              "      <td>1.0</td>\n",
              "      <td>0.935782</td>\n",
              "      <td>0.0</td>\n",
              "      <td>0.325000</td>\n",
              "      <td>0.778133</td>\n",
              "    </tr>\n",
              "  </tbody>\n",
              "</table>\n",
              "</div>"
            ],
            "text/plain": [
              "                                            question  \\\n",
              "0  What were Mr. Musk's concerns about AI that he...   \n",
              "1  What game did OpenAI compete in using reinforc...   \n",
              "2  How did Mr. Page respond to Mr. Musk's concern...   \n",
              "3  What are the concerns of US officials regardin...   \n",
              "4  What are the benefits of releasing open versio...   \n",
              "5  \"What strategy video game did OpenAI excel in,...   \n",
              "6  \"What was the impact of OpenAI's models on fut...   \n",
              "7  What are the US officials' concerns about UAE'...   \n",
              "8  What concerns about AGI were raised by Bill Jo...   \n",
              "9  What are some of the models released by OpenAI...   \n",
              "\n",
              "                                              answer  \\\n",
              "0  Mr. Musk's concerns about AI that he discussed...   \n",
              "1  OpenAI competed in Dota 2, a strategy video ga...   \n",
              "2  Mr. Page responded to Mr. Musk's concerns abou...   \n",
              "3  The concerns of US officials regarding investm...   \n",
              "4  The benefits of releasing open versions of pow...   \n",
              "5  OpenAI excelled in Dota 2, a strategy video ga...   \n",
              "6  OpenAI's models had a significant impact on fu...   \n",
              "7  The US officials are concerned about the Unite...   \n",
              "8  Bill Joy and Elon Musk both raised concerns ab...   \n",
              "9  OpenAI released models such as GPT-2, GPT-3, a...   \n",
              "\n",
              "                                            contexts  \\\n",
              "0  [Page, then-CEO of Google’s parent company Alp...   \n",
              "1  [77. \\nInitial work at OpenAI followed much in...   \n",
              "2  [Page, then-CEO of Google’s parent company Alp...   \n",
              "3  [chip fabrication plants. If $10 billion from ...   \n",
              "4  [challenging.” At the time, OpenAI stated that...   \n",
              "5  [77. \\nInitial work at OpenAI followed much in...   \n",
              "6  [challenging.” At the time, OpenAI stated that...   \n",
              "7  [chip fabrication plants. If $10 billion from ...   \n",
              "8  [18. \\nMr. Musk has long recognized that AGI p...   \n",
              "9  [challenging.” At the time, OpenAI stated that...   \n",
              "\n",
              "                                        ground_truth  faithfulness  \\\n",
              "0  Mr. Musk's concerns about AI that he discussed...           1.0   \n",
              "1  OpenAI competed in Dota 2 using reinforcement ...           1.0   \n",
              "2  Mr. Page responded that would merely “be the n...           0.5   \n",
              "3  The concerns of US officials regarding investm...           1.0   \n",
              "4  The benefits of releasing open versions of pow...           1.0   \n",
              "5  OpenAI excelled in the strategy video game Dot...           1.0   \n",
              "6  Their publication did prove to be useful to th...           1.0   \n",
              "7  US officials are concerned about UAE's ties to...           1.0   \n",
              "8  The concerns about AGI raised by Bill Joy and ...           1.0   \n",
              "9  OpenAI has released two models: GPT and GPT-2....           1.0   \n",
              "\n",
              "   answer_relevancy  context_recall  context_precision  answer_correctness  \n",
              "0          1.000000             1.0           0.950000            0.745491  \n",
              "1          1.000000             1.0           1.000000            0.746921  \n",
              "2          0.978955             1.0           1.000000            0.833931  \n",
              "3          0.953904             1.0           0.986111            0.808717  \n",
              "4          0.969340             1.0           1.000000            0.808705  \n",
              "5          0.907292             1.0           1.000000            0.740220  \n",
              "6          0.939927             1.0           1.000000            0.809080  \n",
              "7          0.964566             1.0           0.605397            0.647484  \n",
              "8          0.852408             1.0           1.000000            0.905113  \n",
              "9          0.935782             0.0           0.325000            0.778133  "
            ]
          },
          "execution_count": 55,
          "metadata": {},
          "output_type": "execute_result"
        }
      ],
      "source": [
        "advanced_retrieval_results_df = advanced_retrieval_results.to_pandas()\n",
        "advanced_retrieval_results_df"
      ]
    },
    {
      "cell_type": "markdown",
      "metadata": {
        "id": "J0hzqq5VtZ2a"
      },
      "source": [
        "## Task 4: Evaluating our Adjusted Pipeline Against Our Baseline\n",
        "\n",
        "Now we can compare our results and see what directional changes occured!\n",
        "\n",
        "Let's refresh with our initial metrics."
      ]
    },
    {
      "cell_type": "code",
      "execution_count": 56,
      "metadata": {
        "colab": {
          "base_uri": "https://localhost:8080/"
        },
        "id": "_WWGRaF5qx3V",
        "outputId": "ee4195d5-f3a3-45df-dff9-5139c93f640f"
      },
      "outputs": [
        {
          "data": {
            "text/plain": [
              "{'faithfulness': 0.9000, 'answer_relevancy': 0.9634, 'context_recall': 0.9333, 'context_precision': 0.8833, 'answer_correctness': 0.7864}"
            ]
          },
          "execution_count": 56,
          "metadata": {},
          "output_type": "execute_result"
        }
      ],
      "source": [
        "results"
      ]
    },
    {
      "cell_type": "markdown",
      "metadata": {
        "id": "oFv_yAeotmFs"
      },
      "source": [
        "And see how our advanced retrieval modified our chain!"
      ]
    },
    {
      "cell_type": "code",
      "execution_count": 57,
      "metadata": {
        "colab": {
          "base_uri": "https://localhost:8080/"
        },
        "id": "rpV11dxJo7xa",
        "outputId": "9510b961-4481-40fc-b54e-3a2a8348ce8f"
      },
      "outputs": [
        {
          "data": {
            "text/plain": [
              "{'faithfulness': 0.9500, 'answer_relevancy': 0.9502, 'context_recall': 0.9000, 'context_precision': 0.8867, 'answer_correctness': 0.7824}"
            ]
          },
          "execution_count": 57,
          "metadata": {},
          "output_type": "execute_result"
        }
      ],
      "source": [
        "advanced_retrieval_results"
      ]
    },
    {
      "cell_type": "code",
      "execution_count": 58,
      "metadata": {
        "colab": {
          "base_uri": "https://localhost:8080/",
          "height": 206
        },
        "id": "62NYn3iAvTjM",
        "outputId": "2d6eb84d-131c-457c-f71e-881248a4b2b7"
      },
      "outputs": [
        {
          "data": {
            "text/html": [
              "<div>\n",
              "<style scoped>\n",
              "    .dataframe tbody tr th:only-of-type {\n",
              "        vertical-align: middle;\n",
              "    }\n",
              "\n",
              "    .dataframe tbody tr th {\n",
              "        vertical-align: top;\n",
              "    }\n",
              "\n",
              "    .dataframe thead th {\n",
              "        text-align: right;\n",
              "    }\n",
              "</style>\n",
              "<table border=\"1\" class=\"dataframe\">\n",
              "  <thead>\n",
              "    <tr style=\"text-align: right;\">\n",
              "      <th></th>\n",
              "      <th>Metric</th>\n",
              "      <th>Baseline</th>\n",
              "      <th>MultiQueryRetriever with Document Stuffing</th>\n",
              "      <th>Delta</th>\n",
              "    </tr>\n",
              "  </thead>\n",
              "  <tbody>\n",
              "    <tr>\n",
              "      <th>0</th>\n",
              "      <td>faithfulness</td>\n",
              "      <td>0.900000</td>\n",
              "      <td>0.950000</td>\n",
              "      <td>0.050000</td>\n",
              "    </tr>\n",
              "    <tr>\n",
              "      <th>1</th>\n",
              "      <td>answer_relevancy</td>\n",
              "      <td>0.963416</td>\n",
              "      <td>0.950217</td>\n",
              "      <td>-0.013198</td>\n",
              "    </tr>\n",
              "    <tr>\n",
              "      <th>2</th>\n",
              "      <td>context_recall</td>\n",
              "      <td>0.933333</td>\n",
              "      <td>0.900000</td>\n",
              "      <td>-0.033333</td>\n",
              "    </tr>\n",
              "    <tr>\n",
              "      <th>3</th>\n",
              "      <td>context_precision</td>\n",
              "      <td>0.883333</td>\n",
              "      <td>0.886651</td>\n",
              "      <td>0.003317</td>\n",
              "    </tr>\n",
              "    <tr>\n",
              "      <th>4</th>\n",
              "      <td>answer_correctness</td>\n",
              "      <td>0.786401</td>\n",
              "      <td>0.782379</td>\n",
              "      <td>-0.004022</td>\n",
              "    </tr>\n",
              "  </tbody>\n",
              "</table>\n",
              "</div>"
            ],
            "text/plain": [
              "               Metric  Baseline  MultiQueryRetriever with Document Stuffing  \\\n",
              "0        faithfulness  0.900000                                    0.950000   \n",
              "1    answer_relevancy  0.963416                                    0.950217   \n",
              "2      context_recall  0.933333                                    0.900000   \n",
              "3   context_precision  0.883333                                    0.886651   \n",
              "4  answer_correctness  0.786401                                    0.782379   \n",
              "\n",
              "      Delta  \n",
              "0  0.050000  \n",
              "1 -0.013198  \n",
              "2 -0.033333  \n",
              "3  0.003317  \n",
              "4 -0.004022  "
            ]
          },
          "execution_count": 58,
          "metadata": {},
          "output_type": "execute_result"
        }
      ],
      "source": [
        "import pandas as pd\n",
        "\n",
        "df_original = pd.DataFrame(list(results.items()), columns=['Metric', 'Baseline'])\n",
        "df_comparison = pd.DataFrame(list(advanced_retrieval_results.items()), columns=['Metric', 'MultiQueryRetriever with Document Stuffing'])\n",
        "\n",
        "df_merged = pd.merge(df_original, df_comparison, on='Metric')\n",
        "\n",
        "df_merged['Delta'] = df_merged['MultiQueryRetriever with Document Stuffing'] - df_merged['Baseline']\n",
        "\n",
        "df_merged"
      ]
    },
    {
      "cell_type": "markdown",
      "metadata": {
        "id": "GJKEOLNs5v0R"
      },
      "source": [
        "## Task 5: Testing OpenAI's Claim\n",
        "\n",
        "Now that we've seen how our retriever can impact the performance of our RAG pipeline - let's see how changing our embedding model impacts performance."
      ]
    },
    {
      "cell_type": "markdown",
      "metadata": {
        "id": "MM4KRhJYEL-h"
      },
      "source": [
        "####🏗️ Activity #2:\n",
        "\n",
        "Please provide markdown, or code comments, to explain which each of the following steps are doing!"
      ]
    },
    {
      "cell_type": "markdown",
      "metadata": {},
      "source": [
        "new_embedding contains an instance of OpenAIEmbeddings class that uses text-embedding-3-small embedding model with a dimension of 512"
      ]
    },
    {
      "cell_type": "code",
      "execution_count": 59,
      "metadata": {
        "id": "Gv_tv4w86bPb"
      },
      "outputs": [],
      "source": [
        "new_embeddings = OpenAIEmbeddings(model=\"text-embedding-3-small\",dimensions=512)"
      ]
    },
    {
      "cell_type": "markdown",
      "metadata": {},
      "source": [
        "next part creates a faiss vector store from our documents that are embedded with text-embedding-3-small embedding model and assigns it to vector_store variable"
      ]
    },
    {
      "cell_type": "code",
      "execution_count": 60,
      "metadata": {
        "id": "-JPe1_Jx6Rnw"
      },
      "outputs": [],
      "source": [
        "vector_store = FAISS.from_documents(documents, new_embeddings)"
      ]
    },
    {
      "cell_type": "markdown",
      "metadata": {},
      "source": [
        "next part gets back a retriever from the faiss vector store"
      ]
    },
    {
      "cell_type": "code",
      "execution_count": 61,
      "metadata": {
        "id": "H-HuozNf6muZ"
      },
      "outputs": [],
      "source": [
        "new_retriever = vector_store.as_retriever()"
      ]
    },
    {
      "cell_type": "markdown",
      "metadata": {},
      "source": [
        "next steps makes it able to write a set of queries. We can reetrieve docs for each query."
      ]
    },
    {
      "cell_type": "code",
      "execution_count": 62,
      "metadata": {
        "id": "M6Tyc3ZY7Km2"
      },
      "outputs": [],
      "source": [
        "new_advanced_retriever = MultiQueryRetriever.from_llm(retriever=new_retriever, llm=primary_qa_llm)"
      ]
    },
    {
      "cell_type": "markdown",
      "metadata": {},
      "source": [
        "This create a retrieval chain that retrieves documens and them passes them on."
      ]
    },
    {
      "cell_type": "code",
      "execution_count": 63,
      "metadata": {
        "id": "s5QSJIhm7SKr"
      },
      "outputs": [],
      "source": [
        "new_retrieval_chain = create_retrieval_chain(new_advanced_retriever, document_chain)"
      ]
    },
    {
      "cell_type": "markdown",
      "metadata": {},
      "source": [
        "Next part goes through each test question and get a response back from the faiss retriever. It then appends answer part to the answers array. "
      ]
    },
    {
      "cell_type": "code",
      "execution_count": 64,
      "metadata": {
        "id": "MBVjl1UK7fd7"
      },
      "outputs": [],
      "source": [
        "answers = []\n",
        "contexts = []\n",
        "\n",
        "for question in test_questions:\n",
        "  response = new_retrieval_chain.invoke({\"input\" : question})\n",
        "  answers.append(response[\"answer\"])\n",
        "  contexts.append([context.page_content for context in response[\"context\"]])"
      ]
    },
    {
      "cell_type": "markdown",
      "metadata": {},
      "source": [
        "This next part makes a new dictionary out of the test questions, answer, context and test groundtrouths that we have made so far."
      ]
    },
    {
      "cell_type": "code",
      "execution_count": 65,
      "metadata": {
        "id": "lTBrs0zr7iyG"
      },
      "outputs": [],
      "source": [
        "new_response_dataset_advanced_retrieval = Dataset.from_dict({\n",
        "    \"question\" : test_questions,\n",
        "    \"answer\" : answers,\n",
        "    \"contexts\" : contexts,\n",
        "    \"ground_truth\" : test_groundtruths\n",
        "})"
      ]
    },
    {
      "cell_type": "markdown",
      "metadata": {},
      "source": [
        "Then the next part evaluates on the dictionary we just made on the metrics    faithfulness, answer_relevancy, context_recall, context_precision,\n",
        "answer_correctness."
      ]
    },
    {
      "cell_type": "code",
      "execution_count": 66,
      "metadata": {
        "colab": {
          "base_uri": "https://localhost:8080/",
          "height": 49,
          "referenced_widgets": [
            "86f36527c3df458aae2e54f329c643d7",
            "4aef094bb7764f4fb7917a53de5cb40a",
            "f549d2bd447649c8aac65b0abd25cf23",
            "f413d1bf4faa44edbe5d081b1d3eaff2",
            "db2d3fee6c91439faabbb891a9574392",
            "8f117fd4781949148b1533a38e29c9d6",
            "2ab3fc4aee0b456bb0a06f15de98dafd",
            "9abbc4a5bc11444185ae5ecacbfa102a",
            "f3cf4145eef74579a41f740d62d842c4",
            "21731645603f4144a74f604cf7c01021",
            "c42583faf1f3472b82394432c7623562"
          ]
        },
        "id": "hG5h-D8n7sZp",
        "outputId": "e918ff10-3631-4563-fdfb-fbab474ea87c"
      },
      "outputs": [
        {
          "data": {
            "application/vnd.jupyter.widget-view+json": {
              "model_id": "9856fc54bc684fdfb112de33e809f11d",
              "version_major": 2,
              "version_minor": 0
            },
            "text/plain": [
              "Evaluating:   0%|          | 0/50 [00:00<?, ?it/s]"
            ]
          },
          "metadata": {},
          "output_type": "display_data"
        }
      ],
      "source": [
        "new_advanced_retrieval_results = evaluate(new_response_dataset_advanced_retrieval, metrics)"
      ]
    },
    {
      "cell_type": "markdown",
      "metadata": {},
      "source": [
        "What then comes back with is how well result is based on these metrics"
      ]
    },
    {
      "cell_type": "code",
      "execution_count": 67,
      "metadata": {
        "colab": {
          "base_uri": "https://localhost:8080/"
        },
        "id": "1uHdcpsZ76kj",
        "outputId": "de1bc7a3-0224-4b8a-95f8-7184fd623661"
      },
      "outputs": [
        {
          "data": {
            "text/plain": [
              "{'faithfulness': 0.8611, 'answer_relevancy': 0.9563, 'context_recall': 1.0000, 'context_precision': 0.8738, 'answer_correctness': 0.7359}"
            ]
          },
          "execution_count": 67,
          "metadata": {},
          "output_type": "execute_result"
        }
      ],
      "source": [
        "new_advanced_retrieval_results"
      ]
    },
    {
      "cell_type": "markdown",
      "metadata": {},
      "source": [
        "Now we can compare baseline with ada and text embedding 3 model just to see how well they are doing"
      ]
    },
    {
      "cell_type": "code",
      "execution_count": 68,
      "metadata": {
        "colab": {
          "base_uri": "https://localhost:8080/",
          "height": 206
        },
        "id": "s4TyaCUQ79Ke",
        "outputId": "9e89e7f1-13e9-436d-e80a-c5241e1b945a"
      },
      "outputs": [
        {
          "data": {
            "text/html": [
              "<div>\n",
              "<style scoped>\n",
              "    .dataframe tbody tr th:only-of-type {\n",
              "        vertical-align: middle;\n",
              "    }\n",
              "\n",
              "    .dataframe tbody tr th {\n",
              "        vertical-align: top;\n",
              "    }\n",
              "\n",
              "    .dataframe thead th {\n",
              "        text-align: right;\n",
              "    }\n",
              "</style>\n",
              "<table border=\"1\" class=\"dataframe\">\n",
              "  <thead>\n",
              "    <tr style=\"text-align: right;\">\n",
              "      <th></th>\n",
              "      <th>Metric</th>\n",
              "      <th>Baseline</th>\n",
              "      <th>ADA</th>\n",
              "      <th>Text Embedding 3</th>\n",
              "      <th>Delta - TE3 -&gt; ADA</th>\n",
              "      <th>Delta - TE3 -&gt; Baseline</th>\n",
              "    </tr>\n",
              "  </thead>\n",
              "  <tbody>\n",
              "    <tr>\n",
              "      <th>0</th>\n",
              "      <td>faithfulness</td>\n",
              "      <td>0.900000</td>\n",
              "      <td>0.950000</td>\n",
              "      <td>0.861111</td>\n",
              "      <td>-0.088889</td>\n",
              "      <td>-0.038889</td>\n",
              "    </tr>\n",
              "    <tr>\n",
              "      <th>1</th>\n",
              "      <td>answer_relevancy</td>\n",
              "      <td>0.963416</td>\n",
              "      <td>0.950217</td>\n",
              "      <td>0.956333</td>\n",
              "      <td>0.006116</td>\n",
              "      <td>-0.007082</td>\n",
              "    </tr>\n",
              "    <tr>\n",
              "      <th>2</th>\n",
              "      <td>context_recall</td>\n",
              "      <td>0.933333</td>\n",
              "      <td>0.900000</td>\n",
              "      <td>1.000000</td>\n",
              "      <td>0.100000</td>\n",
              "      <td>0.066667</td>\n",
              "    </tr>\n",
              "    <tr>\n",
              "      <th>3</th>\n",
              "      <td>context_precision</td>\n",
              "      <td>0.883333</td>\n",
              "      <td>0.886651</td>\n",
              "      <td>0.873849</td>\n",
              "      <td>-0.012802</td>\n",
              "      <td>-0.009484</td>\n",
              "    </tr>\n",
              "    <tr>\n",
              "      <th>4</th>\n",
              "      <td>answer_correctness</td>\n",
              "      <td>0.786401</td>\n",
              "      <td>0.782379</td>\n",
              "      <td>0.735923</td>\n",
              "      <td>-0.046456</td>\n",
              "      <td>-0.050478</td>\n",
              "    </tr>\n",
              "  </tbody>\n",
              "</table>\n",
              "</div>"
            ],
            "text/plain": [
              "               Metric  Baseline       ADA  Text Embedding 3  \\\n",
              "0        faithfulness  0.900000  0.950000          0.861111   \n",
              "1    answer_relevancy  0.963416  0.950217          0.956333   \n",
              "2      context_recall  0.933333  0.900000          1.000000   \n",
              "3   context_precision  0.883333  0.886651          0.873849   \n",
              "4  answer_correctness  0.786401  0.782379          0.735923   \n",
              "\n",
              "   Delta - TE3 -> ADA  Delta - TE3 -> Baseline  \n",
              "0           -0.088889                -0.038889  \n",
              "1            0.006116                -0.007082  \n",
              "2            0.100000                 0.066667  \n",
              "3           -0.012802                -0.009484  \n",
              "4           -0.046456                -0.050478  "
            ]
          },
          "execution_count": 68,
          "metadata": {},
          "output_type": "execute_result"
        }
      ],
      "source": [
        "df_baseline = pd.DataFrame(list(results.items()), columns=['Metric', 'Baseline'])\n",
        "df_original = pd.DataFrame(list(advanced_retrieval_results.items()), columns=['Metric', 'ADA'])\n",
        "df_comparison = pd.DataFrame(list(new_advanced_retrieval_results.items()), columns=['Metric', 'Text Embedding 3'])\n",
        "\n",
        "df_merged = pd.merge(df_original, df_comparison, on='Metric')\n",
        "df_merged = pd.merge(df_baseline, df_merged, on=\"Metric\")\n",
        "\n",
        "df_merged['Delta - TE3 -> ADA'] = df_merged['Text Embedding 3'] - df_merged['ADA']\n",
        "df_merged['Delta - TE3 -> Baseline'] = df_merged['Text Embedding 3'] - df_merged['Baseline']\n",
        "\n",
        "df_merged"
      ]
    },
    {
      "cell_type": "markdown",
      "metadata": {
        "id": "rRmkcMrxC4Me"
      },
      "source": [
        "####❓ Question #4:\n",
        "\n",
        "Do you think, in your opinion, `text-embedding-3-small` is significantly better than `ada`?\n",
        "\n",
        "answer: if we break it down this compairison on the following, then overall it provides a bit better at some of the parameters, but not all and is not significantly better than `ada`\n",
        "\n",
        "faithfullness - if we look at the delta text embedding 3 is a bit worse than ada by 0.08\n",
        "\n",
        "answer_relevancy - text embedding 3 better on answer relevance by 0.0061\n",
        "\n",
        "context recall -  text embedding 3 does quiet good in context recall with 0.10 than ADA\n",
        "\n",
        "context precision - text embedding 3 a bit worse on context precision with -0.012\n",
        "\n",
        "answer correctness - text embedding 3 a bit worse than ADA with -0.04\n"
      ]
    },
    {
      "cell_type": "markdown",
      "metadata": {
        "id": "iOciJLABDBnA"
      },
      "source": [
        "## BONUS ACTIVITY: Showcase Multi-Context Performance Changes\n",
        "\n",
        "Now that we've looked at a number of different examples - showcase the difference on the multi-context *specific* questions that were synthetically generated.\n",
        "\n",
        "> NOTE: You have all the data you'll need already in the notebook if you made it to this step!"
      ]
    },
    {
      "cell_type": "code",
      "execution_count": 75,
      "metadata": {
        "id": "MY8l2EksDH43"
      },
      "outputs": [
        {
          "data": {
            "text/html": [
              "<div>\n",
              "<style scoped>\n",
              "    .dataframe tbody tr th:only-of-type {\n",
              "        vertical-align: middle;\n",
              "    }\n",
              "\n",
              "    .dataframe tbody tr th {\n",
              "        vertical-align: top;\n",
              "    }\n",
              "\n",
              "    .dataframe thead th {\n",
              "        text-align: right;\n",
              "    }\n",
              "</style>\n",
              "<table border=\"1\" class=\"dataframe\">\n",
              "  <thead>\n",
              "    <tr style=\"text-align: right;\">\n",
              "      <th></th>\n",
              "      <th>question</th>\n",
              "      <th>contexts</th>\n",
              "      <th>ground_truth</th>\n",
              "      <th>evolution_type</th>\n",
              "      <th>episode_done</th>\n",
              "    </tr>\n",
              "  </thead>\n",
              "  <tbody>\n",
              "    <tr>\n",
              "      <th>4</th>\n",
              "      <td>What are the benefits of releasing open versio...</td>\n",
              "      <td>[challenging.” At the time, OpenAI stated that...</td>\n",
              "      <td>The benefits of releasing open versions of pow...</td>\n",
              "      <td>multi_context</td>\n",
              "      <td>True</td>\n",
              "    </tr>\n",
              "    <tr>\n",
              "      <th>5</th>\n",
              "      <td>\"What strategy video game did OpenAI excel in,...</td>\n",
              "      <td>[77. \\nInitial work at OpenAI followed much in...</td>\n",
              "      <td>OpenAI excelled in the strategy video game Dot...</td>\n",
              "      <td>multi_context</td>\n",
              "      <td>True</td>\n",
              "    </tr>\n",
              "    <tr>\n",
              "      <th>6</th>\n",
              "      <td>\"What was the impact of OpenAI's models on fut...</td>\n",
              "      <td>[1 \\n2 \\n3 \\n4 \\n5 \\n6 \\n7 \\n8 \\n9 \\n10 \\n11 \\...</td>\n",
              "      <td>Their publication did prove to be useful to th...</td>\n",
              "      <td>multi_context</td>\n",
              "      <td>True</td>\n",
              "    </tr>\n",
              "    <tr>\n",
              "      <th>7</th>\n",
              "      <td>What are the US officials' concerns about UAE'...</td>\n",
              "      <td>[chip fabrication plants. If $10 billion from ...</td>\n",
              "      <td>US officials are concerned about UAE's ties to...</td>\n",
              "      <td>multi_context</td>\n",
              "      <td>True</td>\n",
              "    </tr>\n",
              "    <tr>\n",
              "      <th>8</th>\n",
              "      <td>What concerns about AGI were raised by Bill Jo...</td>\n",
              "      <td>[18. \\nMr. Musk has long recognized that AGI p...</td>\n",
              "      <td>The concerns about AGI raised by Bill Joy and ...</td>\n",
              "      <td>multi_context</td>\n",
              "      <td>True</td>\n",
              "    </tr>\n",
              "  </tbody>\n",
              "</table>\n",
              "</div>"
            ],
            "text/plain": [
              "                                            question  \\\n",
              "4  What are the benefits of releasing open versio...   \n",
              "5  \"What strategy video game did OpenAI excel in,...   \n",
              "6  \"What was the impact of OpenAI's models on fut...   \n",
              "7  What are the US officials' concerns about UAE'...   \n",
              "8  What concerns about AGI were raised by Bill Jo...   \n",
              "\n",
              "                                            contexts  \\\n",
              "4  [challenging.” At the time, OpenAI stated that...   \n",
              "5  [77. \\nInitial work at OpenAI followed much in...   \n",
              "6  [1 \\n2 \\n3 \\n4 \\n5 \\n6 \\n7 \\n8 \\n9 \\n10 \\n11 \\...   \n",
              "7  [chip fabrication plants. If $10 billion from ...   \n",
              "8  [18. \\nMr. Musk has long recognized that AGI p...   \n",
              "\n",
              "                                        ground_truth evolution_type  \\\n",
              "4  The benefits of releasing open versions of pow...  multi_context   \n",
              "5  OpenAI excelled in the strategy video game Dot...  multi_context   \n",
              "6  Their publication did prove to be useful to th...  multi_context   \n",
              "7  US officials are concerned about UAE's ties to...  multi_context   \n",
              "8  The concerns about AGI raised by Bill Joy and ...  multi_context   \n",
              "\n",
              "   episode_done  \n",
              "4          True  \n",
              "5          True  \n",
              "6          True  \n",
              "7          True  \n",
              "8          True  "
            ]
          },
          "execution_count": 75,
          "metadata": {},
          "output_type": "execute_result"
        }
      ],
      "source": [
        "### YOUR CODE HERE\n",
        "test_df\n",
        "test_df.loc[test_df['evolution_type'] == 'multi_context']"
      ]
    },
    {
      "cell_type": "code",
      "execution_count": null,
      "metadata": {},
      "outputs": [],
      "source": []
    }
  ],
  "metadata": {
    "colab": {
      "provenance": [],
      "toc_visible": true
    },
    "kernelspec": {
      "display_name": "Python 3",
      "name": "python3"
    },
    "language_info": {
      "codemirror_mode": {
        "name": "ipython",
        "version": 3
      },
      "file_extension": ".py",
      "mimetype": "text/x-python",
      "name": "python",
      "nbconvert_exporter": "python",
      "pygments_lexer": "ipython3",
      "version": "3.11.7"
    },
    "widgets": {
      "application/vnd.jupyter.widget-state+json": {
        "002fc233bee54ea0a9729365f1e0f972": {
          "model_module": "@jupyter-widgets/controls",
          "model_module_version": "1.5.0",
          "model_name": "DescriptionStyleModel",
          "state": {
            "_model_module": "@jupyter-widgets/controls",
            "_model_module_version": "1.5.0",
            "_model_name": "DescriptionStyleModel",
            "_view_count": null,
            "_view_module": "@jupyter-widgets/base",
            "_view_module_version": "1.2.0",
            "_view_name": "StyleView",
            "description_width": ""
          }
        },
        "09ce5c2f37fb469683ed7cf3bd7566f6": {
          "model_module": "@jupyter-widgets/controls",
          "model_module_version": "1.5.0",
          "model_name": "HTMLModel",
          "state": {
            "_dom_classes": [],
            "_model_module": "@jupyter-widgets/controls",
            "_model_module_version": "1.5.0",
            "_model_name": "HTMLModel",
            "_view_count": null,
            "_view_module": "@jupyter-widgets/controls",
            "_view_module_version": "1.5.0",
            "_view_name": "HTMLView",
            "description": "",
            "description_tooltip": null,
            "layout": "IPY_MODEL_570a1f9809e143ef8d858e1c5dc9837d",
            "placeholder": "​",
            "style": "IPY_MODEL_42c4905b54d8482588d57485c563ee78",
            "value": "Generating: 100%"
          }
        },
        "14d8c6593d6b41df8dfb290ab9f55ca1": {
          "model_module": "@jupyter-widgets/controls",
          "model_module_version": "1.5.0",
          "model_name": "FloatProgressModel",
          "state": {
            "_dom_classes": [],
            "_model_module": "@jupyter-widgets/controls",
            "_model_module_version": "1.5.0",
            "_model_name": "FloatProgressModel",
            "_view_count": null,
            "_view_module": "@jupyter-widgets/controls",
            "_view_module_version": "1.5.0",
            "_view_name": "ProgressView",
            "bar_style": "success",
            "description": "",
            "description_tooltip": null,
            "layout": "IPY_MODEL_384a04784f9745088478d9372161c8ae",
            "max": 50,
            "min": 0,
            "orientation": "horizontal",
            "style": "IPY_MODEL_c981e401946b4dfca65b18b6ae56bf33",
            "value": 50
          }
        },
        "17fde9c2236b4b1b9990dd2a9fbd58ff": {
          "model_module": "@jupyter-widgets/base",
          "model_module_version": "1.2.0",
          "model_name": "LayoutModel",
          "state": {
            "_model_module": "@jupyter-widgets/base",
            "_model_module_version": "1.2.0",
            "_model_name": "LayoutModel",
            "_view_count": null,
            "_view_module": "@jupyter-widgets/base",
            "_view_module_version": "1.2.0",
            "_view_name": "LayoutView",
            "align_content": null,
            "align_items": null,
            "align_self": null,
            "border": null,
            "bottom": null,
            "display": null,
            "flex": null,
            "flex_flow": null,
            "grid_area": null,
            "grid_auto_columns": null,
            "grid_auto_flow": null,
            "grid_auto_rows": null,
            "grid_column": null,
            "grid_gap": null,
            "grid_row": null,
            "grid_template_areas": null,
            "grid_template_columns": null,
            "grid_template_rows": null,
            "height": null,
            "justify_content": null,
            "justify_items": null,
            "left": null,
            "margin": null,
            "max_height": null,
            "max_width": null,
            "min_height": null,
            "min_width": null,
            "object_fit": null,
            "object_position": null,
            "order": null,
            "overflow": null,
            "overflow_x": null,
            "overflow_y": null,
            "padding": null,
            "right": null,
            "top": null,
            "visibility": null,
            "width": null
          }
        },
        "1b3b9e3adf85473a81055265d9a5b89f": {
          "model_module": "@jupyter-widgets/base",
          "model_module_version": "1.2.0",
          "model_name": "LayoutModel",
          "state": {
            "_model_module": "@jupyter-widgets/base",
            "_model_module_version": "1.2.0",
            "_model_name": "LayoutModel",
            "_view_count": null,
            "_view_module": "@jupyter-widgets/base",
            "_view_module_version": "1.2.0",
            "_view_name": "LayoutView",
            "align_content": null,
            "align_items": null,
            "align_self": null,
            "border": null,
            "bottom": null,
            "display": null,
            "flex": null,
            "flex_flow": null,
            "grid_area": null,
            "grid_auto_columns": null,
            "grid_auto_flow": null,
            "grid_auto_rows": null,
            "grid_column": null,
            "grid_gap": null,
            "grid_row": null,
            "grid_template_areas": null,
            "grid_template_columns": null,
            "grid_template_rows": null,
            "height": null,
            "justify_content": null,
            "justify_items": null,
            "left": null,
            "margin": null,
            "max_height": null,
            "max_width": null,
            "min_height": null,
            "min_width": null,
            "object_fit": null,
            "object_position": null,
            "order": null,
            "overflow": null,
            "overflow_x": null,
            "overflow_y": null,
            "padding": null,
            "right": null,
            "top": null,
            "visibility": "hidden",
            "width": null
          }
        },
        "21731645603f4144a74f604cf7c01021": {
          "model_module": "@jupyter-widgets/base",
          "model_module_version": "1.2.0",
          "model_name": "LayoutModel",
          "state": {
            "_model_module": "@jupyter-widgets/base",
            "_model_module_version": "1.2.0",
            "_model_name": "LayoutModel",
            "_view_count": null,
            "_view_module": "@jupyter-widgets/base",
            "_view_module_version": "1.2.0",
            "_view_name": "LayoutView",
            "align_content": null,
            "align_items": null,
            "align_self": null,
            "border": null,
            "bottom": null,
            "display": null,
            "flex": null,
            "flex_flow": null,
            "grid_area": null,
            "grid_auto_columns": null,
            "grid_auto_flow": null,
            "grid_auto_rows": null,
            "grid_column": null,
            "grid_gap": null,
            "grid_row": null,
            "grid_template_areas": null,
            "grid_template_columns": null,
            "grid_template_rows": null,
            "height": null,
            "justify_content": null,
            "justify_items": null,
            "left": null,
            "margin": null,
            "max_height": null,
            "max_width": null,
            "min_height": null,
            "min_width": null,
            "object_fit": null,
            "object_position": null,
            "order": null,
            "overflow": null,
            "overflow_x": null,
            "overflow_y": null,
            "padding": null,
            "right": null,
            "top": null,
            "visibility": null,
            "width": null
          }
        },
        "2189fea4b75749d7bac330e613c31974": {
          "model_module": "@jupyter-widgets/base",
          "model_module_version": "1.2.0",
          "model_name": "LayoutModel",
          "state": {
            "_model_module": "@jupyter-widgets/base",
            "_model_module_version": "1.2.0",
            "_model_name": "LayoutModel",
            "_view_count": null,
            "_view_module": "@jupyter-widgets/base",
            "_view_module_version": "1.2.0",
            "_view_name": "LayoutView",
            "align_content": null,
            "align_items": null,
            "align_self": null,
            "border": null,
            "bottom": null,
            "display": null,
            "flex": null,
            "flex_flow": null,
            "grid_area": null,
            "grid_auto_columns": null,
            "grid_auto_flow": null,
            "grid_auto_rows": null,
            "grid_column": null,
            "grid_gap": null,
            "grid_row": null,
            "grid_template_areas": null,
            "grid_template_columns": null,
            "grid_template_rows": null,
            "height": null,
            "justify_content": null,
            "justify_items": null,
            "left": null,
            "margin": null,
            "max_height": null,
            "max_width": null,
            "min_height": null,
            "min_width": null,
            "object_fit": null,
            "object_position": null,
            "order": null,
            "overflow": null,
            "overflow_x": null,
            "overflow_y": null,
            "padding": null,
            "right": null,
            "top": null,
            "visibility": null,
            "width": null
          }
        },
        "2235baa0358a4b8cad60508d5d1d8380": {
          "model_module": "@jupyter-widgets/base",
          "model_module_version": "1.2.0",
          "model_name": "LayoutModel",
          "state": {
            "_model_module": "@jupyter-widgets/base",
            "_model_module_version": "1.2.0",
            "_model_name": "LayoutModel",
            "_view_count": null,
            "_view_module": "@jupyter-widgets/base",
            "_view_module_version": "1.2.0",
            "_view_name": "LayoutView",
            "align_content": null,
            "align_items": null,
            "align_self": null,
            "border": null,
            "bottom": null,
            "display": null,
            "flex": null,
            "flex_flow": null,
            "grid_area": null,
            "grid_auto_columns": null,
            "grid_auto_flow": null,
            "grid_auto_rows": null,
            "grid_column": null,
            "grid_gap": null,
            "grid_row": null,
            "grid_template_areas": null,
            "grid_template_columns": null,
            "grid_template_rows": null,
            "height": null,
            "justify_content": null,
            "justify_items": null,
            "left": null,
            "margin": null,
            "max_height": null,
            "max_width": null,
            "min_height": null,
            "min_width": null,
            "object_fit": null,
            "object_position": null,
            "order": null,
            "overflow": null,
            "overflow_x": null,
            "overflow_y": null,
            "padding": null,
            "right": null,
            "top": null,
            "visibility": null,
            "width": null
          }
        },
        "26ee70b94d75449cbe7b7ce40ebc1049": {
          "model_module": "@jupyter-widgets/base",
          "model_module_version": "1.2.0",
          "model_name": "LayoutModel",
          "state": {
            "_model_module": "@jupyter-widgets/base",
            "_model_module_version": "1.2.0",
            "_model_name": "LayoutModel",
            "_view_count": null,
            "_view_module": "@jupyter-widgets/base",
            "_view_module_version": "1.2.0",
            "_view_name": "LayoutView",
            "align_content": null,
            "align_items": null,
            "align_self": null,
            "border": null,
            "bottom": null,
            "display": null,
            "flex": null,
            "flex_flow": null,
            "grid_area": null,
            "grid_auto_columns": null,
            "grid_auto_flow": null,
            "grid_auto_rows": null,
            "grid_column": null,
            "grid_gap": null,
            "grid_row": null,
            "grid_template_areas": null,
            "grid_template_columns": null,
            "grid_template_rows": null,
            "height": null,
            "justify_content": null,
            "justify_items": null,
            "left": null,
            "margin": null,
            "max_height": null,
            "max_width": null,
            "min_height": null,
            "min_width": null,
            "object_fit": null,
            "object_position": null,
            "order": null,
            "overflow": null,
            "overflow_x": null,
            "overflow_y": null,
            "padding": null,
            "right": null,
            "top": null,
            "visibility": null,
            "width": null
          }
        },
        "2a4b2b14a02b46c1ac67fc1581133523": {
          "model_module": "@jupyter-widgets/base",
          "model_module_version": "1.2.0",
          "model_name": "LayoutModel",
          "state": {
            "_model_module": "@jupyter-widgets/base",
            "_model_module_version": "1.2.0",
            "_model_name": "LayoutModel",
            "_view_count": null,
            "_view_module": "@jupyter-widgets/base",
            "_view_module_version": "1.2.0",
            "_view_name": "LayoutView",
            "align_content": null,
            "align_items": null,
            "align_self": null,
            "border": null,
            "bottom": null,
            "display": null,
            "flex": null,
            "flex_flow": null,
            "grid_area": null,
            "grid_auto_columns": null,
            "grid_auto_flow": null,
            "grid_auto_rows": null,
            "grid_column": null,
            "grid_gap": null,
            "grid_row": null,
            "grid_template_areas": null,
            "grid_template_columns": null,
            "grid_template_rows": null,
            "height": null,
            "justify_content": null,
            "justify_items": null,
            "left": null,
            "margin": null,
            "max_height": null,
            "max_width": null,
            "min_height": null,
            "min_width": null,
            "object_fit": null,
            "object_position": null,
            "order": null,
            "overflow": null,
            "overflow_x": null,
            "overflow_y": null,
            "padding": null,
            "right": null,
            "top": null,
            "visibility": null,
            "width": null
          }
        },
        "2ab3fc4aee0b456bb0a06f15de98dafd": {
          "model_module": "@jupyter-widgets/controls",
          "model_module_version": "1.5.0",
          "model_name": "DescriptionStyleModel",
          "state": {
            "_model_module": "@jupyter-widgets/controls",
            "_model_module_version": "1.5.0",
            "_model_name": "DescriptionStyleModel",
            "_view_count": null,
            "_view_module": "@jupyter-widgets/base",
            "_view_module_version": "1.2.0",
            "_view_name": "StyleView",
            "description_width": ""
          }
        },
        "2bf9a43c99cf4e05a0f376fde6af9ca6": {
          "model_module": "@jupyter-widgets/controls",
          "model_module_version": "1.5.0",
          "model_name": "DescriptionStyleModel",
          "state": {
            "_model_module": "@jupyter-widgets/controls",
            "_model_module_version": "1.5.0",
            "_model_name": "DescriptionStyleModel",
            "_view_count": null,
            "_view_module": "@jupyter-widgets/base",
            "_view_module_version": "1.2.0",
            "_view_name": "StyleView",
            "description_width": ""
          }
        },
        "317a7d84efc74420abea8e311137f272": {
          "model_module": "@jupyter-widgets/controls",
          "model_module_version": "1.5.0",
          "model_name": "ProgressStyleModel",
          "state": {
            "_model_module": "@jupyter-widgets/controls",
            "_model_module_version": "1.5.0",
            "_model_name": "ProgressStyleModel",
            "_view_count": null,
            "_view_module": "@jupyter-widgets/base",
            "_view_module_version": "1.2.0",
            "_view_name": "StyleView",
            "bar_color": null,
            "description_width": ""
          }
        },
        "3367eaf060c845648cda48963481ecb4": {
          "model_module": "@jupyter-widgets/base",
          "model_module_version": "1.2.0",
          "model_name": "LayoutModel",
          "state": {
            "_model_module": "@jupyter-widgets/base",
            "_model_module_version": "1.2.0",
            "_model_name": "LayoutModel",
            "_view_count": null,
            "_view_module": "@jupyter-widgets/base",
            "_view_module_version": "1.2.0",
            "_view_name": "LayoutView",
            "align_content": null,
            "align_items": null,
            "align_self": null,
            "border": null,
            "bottom": null,
            "display": null,
            "flex": null,
            "flex_flow": null,
            "grid_area": null,
            "grid_auto_columns": null,
            "grid_auto_flow": null,
            "grid_auto_rows": null,
            "grid_column": null,
            "grid_gap": null,
            "grid_row": null,
            "grid_template_areas": null,
            "grid_template_columns": null,
            "grid_template_rows": null,
            "height": null,
            "justify_content": null,
            "justify_items": null,
            "left": null,
            "margin": null,
            "max_height": null,
            "max_width": null,
            "min_height": null,
            "min_width": null,
            "object_fit": null,
            "object_position": null,
            "order": null,
            "overflow": null,
            "overflow_x": null,
            "overflow_y": null,
            "padding": null,
            "right": null,
            "top": null,
            "visibility": null,
            "width": null
          }
        },
        "384a04784f9745088478d9372161c8ae": {
          "model_module": "@jupyter-widgets/base",
          "model_module_version": "1.2.0",
          "model_name": "LayoutModel",
          "state": {
            "_model_module": "@jupyter-widgets/base",
            "_model_module_version": "1.2.0",
            "_model_name": "LayoutModel",
            "_view_count": null,
            "_view_module": "@jupyter-widgets/base",
            "_view_module_version": "1.2.0",
            "_view_name": "LayoutView",
            "align_content": null,
            "align_items": null,
            "align_self": null,
            "border": null,
            "bottom": null,
            "display": null,
            "flex": null,
            "flex_flow": null,
            "grid_area": null,
            "grid_auto_columns": null,
            "grid_auto_flow": null,
            "grid_auto_rows": null,
            "grid_column": null,
            "grid_gap": null,
            "grid_row": null,
            "grid_template_areas": null,
            "grid_template_columns": null,
            "grid_template_rows": null,
            "height": null,
            "justify_content": null,
            "justify_items": null,
            "left": null,
            "margin": null,
            "max_height": null,
            "max_width": null,
            "min_height": null,
            "min_width": null,
            "object_fit": null,
            "object_position": null,
            "order": null,
            "overflow": null,
            "overflow_x": null,
            "overflow_y": null,
            "padding": null,
            "right": null,
            "top": null,
            "visibility": null,
            "width": null
          }
        },
        "394fb069eb3c4269bb3c970cc04369a9": {
          "model_module": "@jupyter-widgets/controls",
          "model_module_version": "1.5.0",
          "model_name": "HTMLModel",
          "state": {
            "_dom_classes": [],
            "_model_module": "@jupyter-widgets/controls",
            "_model_module_version": "1.5.0",
            "_model_name": "HTMLModel",
            "_view_count": null,
            "_view_module": "@jupyter-widgets/controls",
            "_view_module_version": "1.5.0",
            "_view_name": "HTMLView",
            "description": "",
            "description_tooltip": null,
            "layout": "IPY_MODEL_c5651973a0534d3da51d0a18b13deff3",
            "placeholder": "​",
            "style": "IPY_MODEL_8745b8f8f8ec46869c66758c4bc6b2e0",
            "value": " 10/10 [00:40&lt;00:00,  6.80s/it]"
          }
        },
        "3e85b387328f4df7b45dccbe6572b9bd": {
          "model_module": "@jupyter-widgets/controls",
          "model_module_version": "1.5.0",
          "model_name": "FloatProgressModel",
          "state": {
            "_dom_classes": [],
            "_model_module": "@jupyter-widgets/controls",
            "_model_module_version": "1.5.0",
            "_model_name": "FloatProgressModel",
            "_view_count": null,
            "_view_module": "@jupyter-widgets/controls",
            "_view_module_version": "1.5.0",
            "_view_name": "ProgressView",
            "bar_style": "success",
            "description": "",
            "description_tooltip": null,
            "layout": "IPY_MODEL_2189fea4b75749d7bac330e613c31974",
            "max": 50,
            "min": 0,
            "orientation": "horizontal",
            "style": "IPY_MODEL_d7148bed10a245509672dc60be6edd47",
            "value": 50
          }
        },
        "42c4905b54d8482588d57485c563ee78": {
          "model_module": "@jupyter-widgets/controls",
          "model_module_version": "1.5.0",
          "model_name": "DescriptionStyleModel",
          "state": {
            "_model_module": "@jupyter-widgets/controls",
            "_model_module_version": "1.5.0",
            "_model_name": "DescriptionStyleModel",
            "_view_count": null,
            "_view_module": "@jupyter-widgets/base",
            "_view_module_version": "1.2.0",
            "_view_name": "StyleView",
            "description_width": ""
          }
        },
        "4818628434aa4a0e8d7826f152c0da99": {
          "model_module": "@jupyter-widgets/controls",
          "model_module_version": "1.5.0",
          "model_name": "FloatProgressModel",
          "state": {
            "_dom_classes": [],
            "_model_module": "@jupyter-widgets/controls",
            "_model_module_version": "1.5.0",
            "_model_name": "FloatProgressModel",
            "_view_count": null,
            "_view_module": "@jupyter-widgets/controls",
            "_view_module_version": "1.5.0",
            "_view_name": "ProgressView",
            "bar_style": "",
            "description": "",
            "description_tooltip": null,
            "layout": "IPY_MODEL_e44a47a5a2184c2780ac27e16ace0f7f",
            "max": 318,
            "min": 0,
            "orientation": "horizontal",
            "style": "IPY_MODEL_317a7d84efc74420abea8e311137f272",
            "value": 318
          }
        },
        "4aef094bb7764f4fb7917a53de5cb40a": {
          "model_module": "@jupyter-widgets/controls",
          "model_module_version": "1.5.0",
          "model_name": "HTMLModel",
          "state": {
            "_dom_classes": [],
            "_model_module": "@jupyter-widgets/controls",
            "_model_module_version": "1.5.0",
            "_model_name": "HTMLModel",
            "_view_count": null,
            "_view_module": "@jupyter-widgets/controls",
            "_view_module_version": "1.5.0",
            "_view_name": "HTMLView",
            "description": "",
            "description_tooltip": null,
            "layout": "IPY_MODEL_8f117fd4781949148b1533a38e29c9d6",
            "placeholder": "​",
            "style": "IPY_MODEL_2ab3fc4aee0b456bb0a06f15de98dafd",
            "value": "Evaluating: 100%"
          }
        },
        "4e5db0ff4ff44577963dbcc651ea10b8": {
          "model_module": "@jupyter-widgets/base",
          "model_module_version": "1.2.0",
          "model_name": "LayoutModel",
          "state": {
            "_model_module": "@jupyter-widgets/base",
            "_model_module_version": "1.2.0",
            "_model_name": "LayoutModel",
            "_view_count": null,
            "_view_module": "@jupyter-widgets/base",
            "_view_module_version": "1.2.0",
            "_view_name": "LayoutView",
            "align_content": null,
            "align_items": null,
            "align_self": null,
            "border": null,
            "bottom": null,
            "display": null,
            "flex": null,
            "flex_flow": null,
            "grid_area": null,
            "grid_auto_columns": null,
            "grid_auto_flow": null,
            "grid_auto_rows": null,
            "grid_column": null,
            "grid_gap": null,
            "grid_row": null,
            "grid_template_areas": null,
            "grid_template_columns": null,
            "grid_template_rows": null,
            "height": null,
            "justify_content": null,
            "justify_items": null,
            "left": null,
            "margin": null,
            "max_height": null,
            "max_width": null,
            "min_height": null,
            "min_width": null,
            "object_fit": null,
            "object_position": null,
            "order": null,
            "overflow": null,
            "overflow_x": null,
            "overflow_y": null,
            "padding": null,
            "right": null,
            "top": null,
            "visibility": null,
            "width": null
          }
        },
        "4fc8cf791b1344809fe8c7ee9598a20a": {
          "model_module": "@jupyter-widgets/controls",
          "model_module_version": "1.5.0",
          "model_name": "DescriptionStyleModel",
          "state": {
            "_model_module": "@jupyter-widgets/controls",
            "_model_module_version": "1.5.0",
            "_model_name": "DescriptionStyleModel",
            "_view_count": null,
            "_view_module": "@jupyter-widgets/base",
            "_view_module_version": "1.2.0",
            "_view_name": "StyleView",
            "description_width": ""
          }
        },
        "50599aa481d8460aa6655330b2b0fae3": {
          "model_module": "@jupyter-widgets/controls",
          "model_module_version": "1.5.0",
          "model_name": "HBoxModel",
          "state": {
            "_dom_classes": [],
            "_model_module": "@jupyter-widgets/controls",
            "_model_module_version": "1.5.0",
            "_model_name": "HBoxModel",
            "_view_count": null,
            "_view_module": "@jupyter-widgets/controls",
            "_view_module_version": "1.5.0",
            "_view_name": "HBoxView",
            "box_style": "",
            "children": [
              "IPY_MODEL_cfc93618fc084608bb413667fee91ea8",
              "IPY_MODEL_3e85b387328f4df7b45dccbe6572b9bd",
              "IPY_MODEL_cc50e0150a9947579a919757b85f38c9"
            ],
            "layout": "IPY_MODEL_c03d5f58d31747d3a344f813755480fc"
          }
        },
        "570a1f9809e143ef8d858e1c5dc9837d": {
          "model_module": "@jupyter-widgets/base",
          "model_module_version": "1.2.0",
          "model_name": "LayoutModel",
          "state": {
            "_model_module": "@jupyter-widgets/base",
            "_model_module_version": "1.2.0",
            "_model_name": "LayoutModel",
            "_view_count": null,
            "_view_module": "@jupyter-widgets/base",
            "_view_module_version": "1.2.0",
            "_view_name": "LayoutView",
            "align_content": null,
            "align_items": null,
            "align_self": null,
            "border": null,
            "bottom": null,
            "display": null,
            "flex": null,
            "flex_flow": null,
            "grid_area": null,
            "grid_auto_columns": null,
            "grid_auto_flow": null,
            "grid_auto_rows": null,
            "grid_column": null,
            "grid_gap": null,
            "grid_row": null,
            "grid_template_areas": null,
            "grid_template_columns": null,
            "grid_template_rows": null,
            "height": null,
            "justify_content": null,
            "justify_items": null,
            "left": null,
            "margin": null,
            "max_height": null,
            "max_width": null,
            "min_height": null,
            "min_width": null,
            "object_fit": null,
            "object_position": null,
            "order": null,
            "overflow": null,
            "overflow_x": null,
            "overflow_y": null,
            "padding": null,
            "right": null,
            "top": null,
            "visibility": null,
            "width": null
          }
        },
        "58d7c8b4640249df89b60e9eef4d2328": {
          "model_module": "@jupyter-widgets/controls",
          "model_module_version": "1.5.0",
          "model_name": "FloatProgressModel",
          "state": {
            "_dom_classes": [],
            "_model_module": "@jupyter-widgets/controls",
            "_model_module_version": "1.5.0",
            "_model_name": "FloatProgressModel",
            "_view_count": null,
            "_view_module": "@jupyter-widgets/controls",
            "_view_module_version": "1.5.0",
            "_view_name": "ProgressView",
            "bar_style": "success",
            "description": "",
            "description_tooltip": null,
            "layout": "IPY_MODEL_26ee70b94d75449cbe7b7ce40ebc1049",
            "max": 10,
            "min": 0,
            "orientation": "horizontal",
            "style": "IPY_MODEL_bc3b3593ad1e4c5bad6057a3d3872bb4",
            "value": 10
          }
        },
        "611021c94b8a42c58897925acb8b3c5e": {
          "model_module": "@jupyter-widgets/base",
          "model_module_version": "1.2.0",
          "model_name": "LayoutModel",
          "state": {
            "_model_module": "@jupyter-widgets/base",
            "_model_module_version": "1.2.0",
            "_model_name": "LayoutModel",
            "_view_count": null,
            "_view_module": "@jupyter-widgets/base",
            "_view_module_version": "1.2.0",
            "_view_name": "LayoutView",
            "align_content": null,
            "align_items": null,
            "align_self": null,
            "border": null,
            "bottom": null,
            "display": null,
            "flex": null,
            "flex_flow": null,
            "grid_area": null,
            "grid_auto_columns": null,
            "grid_auto_flow": null,
            "grid_auto_rows": null,
            "grid_column": null,
            "grid_gap": null,
            "grid_row": null,
            "grid_template_areas": null,
            "grid_template_columns": null,
            "grid_template_rows": null,
            "height": null,
            "justify_content": null,
            "justify_items": null,
            "left": null,
            "margin": null,
            "max_height": null,
            "max_width": null,
            "min_height": null,
            "min_width": null,
            "object_fit": null,
            "object_position": null,
            "order": null,
            "overflow": null,
            "overflow_x": null,
            "overflow_y": null,
            "padding": null,
            "right": null,
            "top": null,
            "visibility": null,
            "width": null
          }
        },
        "6de6fb8ef2974573b50bad678620f2d1": {
          "model_module": "@jupyter-widgets/controls",
          "model_module_version": "1.5.0",
          "model_name": "HBoxModel",
          "state": {
            "_dom_classes": [],
            "_model_module": "@jupyter-widgets/controls",
            "_model_module_version": "1.5.0",
            "_model_name": "HBoxModel",
            "_view_count": null,
            "_view_module": "@jupyter-widgets/controls",
            "_view_module_version": "1.5.0",
            "_view_name": "HBoxView",
            "box_style": "",
            "children": [
              "IPY_MODEL_09ce5c2f37fb469683ed7cf3bd7566f6",
              "IPY_MODEL_58d7c8b4640249df89b60e9eef4d2328",
              "IPY_MODEL_394fb069eb3c4269bb3c970cc04369a9"
            ],
            "layout": "IPY_MODEL_2235baa0358a4b8cad60508d5d1d8380"
          }
        },
        "83e3f8bf55454600b299fe63b608852a": {
          "model_module": "@jupyter-widgets/controls",
          "model_module_version": "1.5.0",
          "model_name": "HTMLModel",
          "state": {
            "_dom_classes": [],
            "_model_module": "@jupyter-widgets/controls",
            "_model_module_version": "1.5.0",
            "_model_name": "HTMLModel",
            "_view_count": null,
            "_view_module": "@jupyter-widgets/controls",
            "_view_module_version": "1.5.0",
            "_view_name": "HTMLView",
            "description": "",
            "description_tooltip": null,
            "layout": "IPY_MODEL_2a4b2b14a02b46c1ac67fc1581133523",
            "placeholder": "​",
            "style": "IPY_MODEL_decd5f4c69a845cc8fad4c21524c2fd9",
            "value": "embedding nodes: 100%"
          }
        },
        "8531b3d7f1cd424f8d3fc2e6bcd875a0": {
          "model_module": "@jupyter-widgets/controls",
          "model_module_version": "1.5.0",
          "model_name": "HTMLModel",
          "state": {
            "_dom_classes": [],
            "_model_module": "@jupyter-widgets/controls",
            "_model_module_version": "1.5.0",
            "_model_name": "HTMLModel",
            "_view_count": null,
            "_view_module": "@jupyter-widgets/controls",
            "_view_module_version": "1.5.0",
            "_view_name": "HTMLView",
            "description": "",
            "description_tooltip": null,
            "layout": "IPY_MODEL_b319ac9b4f1b43d5a41d6f10e6e1c1c6",
            "placeholder": "​",
            "style": "IPY_MODEL_002fc233bee54ea0a9729365f1e0f972",
            "value": " 50/50 [00:21&lt;00:00,  1.43it/s]"
          }
        },
        "86f36527c3df458aae2e54f329c643d7": {
          "model_module": "@jupyter-widgets/controls",
          "model_module_version": "1.5.0",
          "model_name": "HBoxModel",
          "state": {
            "_dom_classes": [],
            "_model_module": "@jupyter-widgets/controls",
            "_model_module_version": "1.5.0",
            "_model_name": "HBoxModel",
            "_view_count": null,
            "_view_module": "@jupyter-widgets/controls",
            "_view_module_version": "1.5.0",
            "_view_name": "HBoxView",
            "box_style": "",
            "children": [
              "IPY_MODEL_4aef094bb7764f4fb7917a53de5cb40a",
              "IPY_MODEL_f549d2bd447649c8aac65b0abd25cf23",
              "IPY_MODEL_f413d1bf4faa44edbe5d081b1d3eaff2"
            ],
            "layout": "IPY_MODEL_db2d3fee6c91439faabbb891a9574392"
          }
        },
        "8745b8f8f8ec46869c66758c4bc6b2e0": {
          "model_module": "@jupyter-widgets/controls",
          "model_module_version": "1.5.0",
          "model_name": "DescriptionStyleModel",
          "state": {
            "_model_module": "@jupyter-widgets/controls",
            "_model_module_version": "1.5.0",
            "_model_name": "DescriptionStyleModel",
            "_view_count": null,
            "_view_module": "@jupyter-widgets/base",
            "_view_module_version": "1.2.0",
            "_view_name": "StyleView",
            "description_width": ""
          }
        },
        "8b4c1aafe67048798cdadd46207b4b84": {
          "model_module": "@jupyter-widgets/controls",
          "model_module_version": "1.5.0",
          "model_name": "HBoxModel",
          "state": {
            "_dom_classes": [],
            "_model_module": "@jupyter-widgets/controls",
            "_model_module_version": "1.5.0",
            "_model_name": "HBoxModel",
            "_view_count": null,
            "_view_module": "@jupyter-widgets/controls",
            "_view_module_version": "1.5.0",
            "_view_name": "HBoxView",
            "box_style": "",
            "children": [
              "IPY_MODEL_83e3f8bf55454600b299fe63b608852a",
              "IPY_MODEL_4818628434aa4a0e8d7826f152c0da99",
              "IPY_MODEL_c3e047dfd4ec4a859e0274a54ace1432"
            ],
            "layout": "IPY_MODEL_1b3b9e3adf85473a81055265d9a5b89f"
          }
        },
        "8f117fd4781949148b1533a38e29c9d6": {
          "model_module": "@jupyter-widgets/base",
          "model_module_version": "1.2.0",
          "model_name": "LayoutModel",
          "state": {
            "_model_module": "@jupyter-widgets/base",
            "_model_module_version": "1.2.0",
            "_model_name": "LayoutModel",
            "_view_count": null,
            "_view_module": "@jupyter-widgets/base",
            "_view_module_version": "1.2.0",
            "_view_name": "LayoutView",
            "align_content": null,
            "align_items": null,
            "align_self": null,
            "border": null,
            "bottom": null,
            "display": null,
            "flex": null,
            "flex_flow": null,
            "grid_area": null,
            "grid_auto_columns": null,
            "grid_auto_flow": null,
            "grid_auto_rows": null,
            "grid_column": null,
            "grid_gap": null,
            "grid_row": null,
            "grid_template_areas": null,
            "grid_template_columns": null,
            "grid_template_rows": null,
            "height": null,
            "justify_content": null,
            "justify_items": null,
            "left": null,
            "margin": null,
            "max_height": null,
            "max_width": null,
            "min_height": null,
            "min_width": null,
            "object_fit": null,
            "object_position": null,
            "order": null,
            "overflow": null,
            "overflow_x": null,
            "overflow_y": null,
            "padding": null,
            "right": null,
            "top": null,
            "visibility": null,
            "width": null
          }
        },
        "9abbc4a5bc11444185ae5ecacbfa102a": {
          "model_module": "@jupyter-widgets/base",
          "model_module_version": "1.2.0",
          "model_name": "LayoutModel",
          "state": {
            "_model_module": "@jupyter-widgets/base",
            "_model_module_version": "1.2.0",
            "_model_name": "LayoutModel",
            "_view_count": null,
            "_view_module": "@jupyter-widgets/base",
            "_view_module_version": "1.2.0",
            "_view_name": "LayoutView",
            "align_content": null,
            "align_items": null,
            "align_self": null,
            "border": null,
            "bottom": null,
            "display": null,
            "flex": null,
            "flex_flow": null,
            "grid_area": null,
            "grid_auto_columns": null,
            "grid_auto_flow": null,
            "grid_auto_rows": null,
            "grid_column": null,
            "grid_gap": null,
            "grid_row": null,
            "grid_template_areas": null,
            "grid_template_columns": null,
            "grid_template_rows": null,
            "height": null,
            "justify_content": null,
            "justify_items": null,
            "left": null,
            "margin": null,
            "max_height": null,
            "max_width": null,
            "min_height": null,
            "min_width": null,
            "object_fit": null,
            "object_position": null,
            "order": null,
            "overflow": null,
            "overflow_x": null,
            "overflow_y": null,
            "padding": null,
            "right": null,
            "top": null,
            "visibility": null,
            "width": null
          }
        },
        "9caba03e810f4407b78cb1c1b6b9be08": {
          "model_module": "@jupyter-widgets/base",
          "model_module_version": "1.2.0",
          "model_name": "LayoutModel",
          "state": {
            "_model_module": "@jupyter-widgets/base",
            "_model_module_version": "1.2.0",
            "_model_name": "LayoutModel",
            "_view_count": null,
            "_view_module": "@jupyter-widgets/base",
            "_view_module_version": "1.2.0",
            "_view_name": "LayoutView",
            "align_content": null,
            "align_items": null,
            "align_self": null,
            "border": null,
            "bottom": null,
            "display": null,
            "flex": null,
            "flex_flow": null,
            "grid_area": null,
            "grid_auto_columns": null,
            "grid_auto_flow": null,
            "grid_auto_rows": null,
            "grid_column": null,
            "grid_gap": null,
            "grid_row": null,
            "grid_template_areas": null,
            "grid_template_columns": null,
            "grid_template_rows": null,
            "height": null,
            "justify_content": null,
            "justify_items": null,
            "left": null,
            "margin": null,
            "max_height": null,
            "max_width": null,
            "min_height": null,
            "min_width": null,
            "object_fit": null,
            "object_position": null,
            "order": null,
            "overflow": null,
            "overflow_x": null,
            "overflow_y": null,
            "padding": null,
            "right": null,
            "top": null,
            "visibility": null,
            "width": null
          }
        },
        "af19ef64986b435c8c118e882e26f6a9": {
          "model_module": "@jupyter-widgets/controls",
          "model_module_version": "1.5.0",
          "model_name": "HTMLModel",
          "state": {
            "_dom_classes": [],
            "_model_module": "@jupyter-widgets/controls",
            "_model_module_version": "1.5.0",
            "_model_name": "HTMLModel",
            "_view_count": null,
            "_view_module": "@jupyter-widgets/controls",
            "_view_module_version": "1.5.0",
            "_view_name": "HTMLView",
            "description": "",
            "description_tooltip": null,
            "layout": "IPY_MODEL_9caba03e810f4407b78cb1c1b6b9be08",
            "placeholder": "​",
            "style": "IPY_MODEL_2bf9a43c99cf4e05a0f376fde6af9ca6",
            "value": "Evaluating: 100%"
          }
        },
        "b319ac9b4f1b43d5a41d6f10e6e1c1c6": {
          "model_module": "@jupyter-widgets/base",
          "model_module_version": "1.2.0",
          "model_name": "LayoutModel",
          "state": {
            "_model_module": "@jupyter-widgets/base",
            "_model_module_version": "1.2.0",
            "_model_name": "LayoutModel",
            "_view_count": null,
            "_view_module": "@jupyter-widgets/base",
            "_view_module_version": "1.2.0",
            "_view_name": "LayoutView",
            "align_content": null,
            "align_items": null,
            "align_self": null,
            "border": null,
            "bottom": null,
            "display": null,
            "flex": null,
            "flex_flow": null,
            "grid_area": null,
            "grid_auto_columns": null,
            "grid_auto_flow": null,
            "grid_auto_rows": null,
            "grid_column": null,
            "grid_gap": null,
            "grid_row": null,
            "grid_template_areas": null,
            "grid_template_columns": null,
            "grid_template_rows": null,
            "height": null,
            "justify_content": null,
            "justify_items": null,
            "left": null,
            "margin": null,
            "max_height": null,
            "max_width": null,
            "min_height": null,
            "min_width": null,
            "object_fit": null,
            "object_position": null,
            "order": null,
            "overflow": null,
            "overflow_x": null,
            "overflow_y": null,
            "padding": null,
            "right": null,
            "top": null,
            "visibility": null,
            "width": null
          }
        },
        "ba72a1f57074488da5e34f8d02e748f8": {
          "model_module": "@jupyter-widgets/controls",
          "model_module_version": "1.5.0",
          "model_name": "DescriptionStyleModel",
          "state": {
            "_model_module": "@jupyter-widgets/controls",
            "_model_module_version": "1.5.0",
            "_model_name": "DescriptionStyleModel",
            "_view_count": null,
            "_view_module": "@jupyter-widgets/base",
            "_view_module_version": "1.2.0",
            "_view_name": "StyleView",
            "description_width": ""
          }
        },
        "bc3b3593ad1e4c5bad6057a3d3872bb4": {
          "model_module": "@jupyter-widgets/controls",
          "model_module_version": "1.5.0",
          "model_name": "ProgressStyleModel",
          "state": {
            "_model_module": "@jupyter-widgets/controls",
            "_model_module_version": "1.5.0",
            "_model_name": "ProgressStyleModel",
            "_view_count": null,
            "_view_module": "@jupyter-widgets/base",
            "_view_module_version": "1.2.0",
            "_view_name": "StyleView",
            "bar_color": null,
            "description_width": ""
          }
        },
        "c03d5f58d31747d3a344f813755480fc": {
          "model_module": "@jupyter-widgets/base",
          "model_module_version": "1.2.0",
          "model_name": "LayoutModel",
          "state": {
            "_model_module": "@jupyter-widgets/base",
            "_model_module_version": "1.2.0",
            "_model_name": "LayoutModel",
            "_view_count": null,
            "_view_module": "@jupyter-widgets/base",
            "_view_module_version": "1.2.0",
            "_view_name": "LayoutView",
            "align_content": null,
            "align_items": null,
            "align_self": null,
            "border": null,
            "bottom": null,
            "display": null,
            "flex": null,
            "flex_flow": null,
            "grid_area": null,
            "grid_auto_columns": null,
            "grid_auto_flow": null,
            "grid_auto_rows": null,
            "grid_column": null,
            "grid_gap": null,
            "grid_row": null,
            "grid_template_areas": null,
            "grid_template_columns": null,
            "grid_template_rows": null,
            "height": null,
            "justify_content": null,
            "justify_items": null,
            "left": null,
            "margin": null,
            "max_height": null,
            "max_width": null,
            "min_height": null,
            "min_width": null,
            "object_fit": null,
            "object_position": null,
            "order": null,
            "overflow": null,
            "overflow_x": null,
            "overflow_y": null,
            "padding": null,
            "right": null,
            "top": null,
            "visibility": null,
            "width": null
          }
        },
        "c3e047dfd4ec4a859e0274a54ace1432": {
          "model_module": "@jupyter-widgets/controls",
          "model_module_version": "1.5.0",
          "model_name": "HTMLModel",
          "state": {
            "_dom_classes": [],
            "_model_module": "@jupyter-widgets/controls",
            "_model_module_version": "1.5.0",
            "_model_name": "HTMLModel",
            "_view_count": null,
            "_view_module": "@jupyter-widgets/controls",
            "_view_module_version": "1.5.0",
            "_view_name": "HTMLView",
            "description": "",
            "description_tooltip": null,
            "layout": "IPY_MODEL_611021c94b8a42c58897925acb8b3c5e",
            "placeholder": "​",
            "style": "IPY_MODEL_ba72a1f57074488da5e34f8d02e748f8",
            "value": " 318/318 [00:30&lt;00:00,  1.69s/it]"
          }
        },
        "c42583faf1f3472b82394432c7623562": {
          "model_module": "@jupyter-widgets/controls",
          "model_module_version": "1.5.0",
          "model_name": "DescriptionStyleModel",
          "state": {
            "_model_module": "@jupyter-widgets/controls",
            "_model_module_version": "1.5.0",
            "_model_name": "DescriptionStyleModel",
            "_view_count": null,
            "_view_module": "@jupyter-widgets/base",
            "_view_module_version": "1.2.0",
            "_view_name": "StyleView",
            "description_width": ""
          }
        },
        "c5651973a0534d3da51d0a18b13deff3": {
          "model_module": "@jupyter-widgets/base",
          "model_module_version": "1.2.0",
          "model_name": "LayoutModel",
          "state": {
            "_model_module": "@jupyter-widgets/base",
            "_model_module_version": "1.2.0",
            "_model_name": "LayoutModel",
            "_view_count": null,
            "_view_module": "@jupyter-widgets/base",
            "_view_module_version": "1.2.0",
            "_view_name": "LayoutView",
            "align_content": null,
            "align_items": null,
            "align_self": null,
            "border": null,
            "bottom": null,
            "display": null,
            "flex": null,
            "flex_flow": null,
            "grid_area": null,
            "grid_auto_columns": null,
            "grid_auto_flow": null,
            "grid_auto_rows": null,
            "grid_column": null,
            "grid_gap": null,
            "grid_row": null,
            "grid_template_areas": null,
            "grid_template_columns": null,
            "grid_template_rows": null,
            "height": null,
            "justify_content": null,
            "justify_items": null,
            "left": null,
            "margin": null,
            "max_height": null,
            "max_width": null,
            "min_height": null,
            "min_width": null,
            "object_fit": null,
            "object_position": null,
            "order": null,
            "overflow": null,
            "overflow_x": null,
            "overflow_y": null,
            "padding": null,
            "right": null,
            "top": null,
            "visibility": null,
            "width": null
          }
        },
        "c981e401946b4dfca65b18b6ae56bf33": {
          "model_module": "@jupyter-widgets/controls",
          "model_module_version": "1.5.0",
          "model_name": "ProgressStyleModel",
          "state": {
            "_model_module": "@jupyter-widgets/controls",
            "_model_module_version": "1.5.0",
            "_model_name": "ProgressStyleModel",
            "_view_count": null,
            "_view_module": "@jupyter-widgets/base",
            "_view_module_version": "1.2.0",
            "_view_name": "StyleView",
            "bar_color": null,
            "description_width": ""
          }
        },
        "cc50e0150a9947579a919757b85f38c9": {
          "model_module": "@jupyter-widgets/controls",
          "model_module_version": "1.5.0",
          "model_name": "HTMLModel",
          "state": {
            "_dom_classes": [],
            "_model_module": "@jupyter-widgets/controls",
            "_model_module_version": "1.5.0",
            "_model_name": "HTMLModel",
            "_view_count": null,
            "_view_module": "@jupyter-widgets/controls",
            "_view_module_version": "1.5.0",
            "_view_name": "HTMLView",
            "description": "",
            "description_tooltip": null,
            "layout": "IPY_MODEL_3367eaf060c845648cda48963481ecb4",
            "placeholder": "​",
            "style": "IPY_MODEL_4fc8cf791b1344809fe8c7ee9598a20a",
            "value": " 50/50 [00:27&lt;00:00,  2.66it/s]"
          }
        },
        "cfc93618fc084608bb413667fee91ea8": {
          "model_module": "@jupyter-widgets/controls",
          "model_module_version": "1.5.0",
          "model_name": "HTMLModel",
          "state": {
            "_dom_classes": [],
            "_model_module": "@jupyter-widgets/controls",
            "_model_module_version": "1.5.0",
            "_model_name": "HTMLModel",
            "_view_count": null,
            "_view_module": "@jupyter-widgets/controls",
            "_view_module_version": "1.5.0",
            "_view_name": "HTMLView",
            "description": "",
            "description_tooltip": null,
            "layout": "IPY_MODEL_17fde9c2236b4b1b9990dd2a9fbd58ff",
            "placeholder": "​",
            "style": "IPY_MODEL_ddbe87e735534504b735211253c4b4d2",
            "value": "Evaluating: 100%"
          }
        },
        "d46db515c4d543d898ef91d05df2d0da": {
          "model_module": "@jupyter-widgets/controls",
          "model_module_version": "1.5.0",
          "model_name": "HBoxModel",
          "state": {
            "_dom_classes": [],
            "_model_module": "@jupyter-widgets/controls",
            "_model_module_version": "1.5.0",
            "_model_name": "HBoxModel",
            "_view_count": null,
            "_view_module": "@jupyter-widgets/controls",
            "_view_module_version": "1.5.0",
            "_view_name": "HBoxView",
            "box_style": "",
            "children": [
              "IPY_MODEL_af19ef64986b435c8c118e882e26f6a9",
              "IPY_MODEL_14d8c6593d6b41df8dfb290ab9f55ca1",
              "IPY_MODEL_8531b3d7f1cd424f8d3fc2e6bcd875a0"
            ],
            "layout": "IPY_MODEL_4e5db0ff4ff44577963dbcc651ea10b8"
          }
        },
        "d7148bed10a245509672dc60be6edd47": {
          "model_module": "@jupyter-widgets/controls",
          "model_module_version": "1.5.0",
          "model_name": "ProgressStyleModel",
          "state": {
            "_model_module": "@jupyter-widgets/controls",
            "_model_module_version": "1.5.0",
            "_model_name": "ProgressStyleModel",
            "_view_count": null,
            "_view_module": "@jupyter-widgets/base",
            "_view_module_version": "1.2.0",
            "_view_name": "StyleView",
            "bar_color": null,
            "description_width": ""
          }
        },
        "db2d3fee6c91439faabbb891a9574392": {
          "model_module": "@jupyter-widgets/base",
          "model_module_version": "1.2.0",
          "model_name": "LayoutModel",
          "state": {
            "_model_module": "@jupyter-widgets/base",
            "_model_module_version": "1.2.0",
            "_model_name": "LayoutModel",
            "_view_count": null,
            "_view_module": "@jupyter-widgets/base",
            "_view_module_version": "1.2.0",
            "_view_name": "LayoutView",
            "align_content": null,
            "align_items": null,
            "align_self": null,
            "border": null,
            "bottom": null,
            "display": null,
            "flex": null,
            "flex_flow": null,
            "grid_area": null,
            "grid_auto_columns": null,
            "grid_auto_flow": null,
            "grid_auto_rows": null,
            "grid_column": null,
            "grid_gap": null,
            "grid_row": null,
            "grid_template_areas": null,
            "grid_template_columns": null,
            "grid_template_rows": null,
            "height": null,
            "justify_content": null,
            "justify_items": null,
            "left": null,
            "margin": null,
            "max_height": null,
            "max_width": null,
            "min_height": null,
            "min_width": null,
            "object_fit": null,
            "object_position": null,
            "order": null,
            "overflow": null,
            "overflow_x": null,
            "overflow_y": null,
            "padding": null,
            "right": null,
            "top": null,
            "visibility": null,
            "width": null
          }
        },
        "ddbe87e735534504b735211253c4b4d2": {
          "model_module": "@jupyter-widgets/controls",
          "model_module_version": "1.5.0",
          "model_name": "DescriptionStyleModel",
          "state": {
            "_model_module": "@jupyter-widgets/controls",
            "_model_module_version": "1.5.0",
            "_model_name": "DescriptionStyleModel",
            "_view_count": null,
            "_view_module": "@jupyter-widgets/base",
            "_view_module_version": "1.2.0",
            "_view_name": "StyleView",
            "description_width": ""
          }
        },
        "decd5f4c69a845cc8fad4c21524c2fd9": {
          "model_module": "@jupyter-widgets/controls",
          "model_module_version": "1.5.0",
          "model_name": "DescriptionStyleModel",
          "state": {
            "_model_module": "@jupyter-widgets/controls",
            "_model_module_version": "1.5.0",
            "_model_name": "DescriptionStyleModel",
            "_view_count": null,
            "_view_module": "@jupyter-widgets/base",
            "_view_module_version": "1.2.0",
            "_view_name": "StyleView",
            "description_width": ""
          }
        },
        "e44a47a5a2184c2780ac27e16ace0f7f": {
          "model_module": "@jupyter-widgets/base",
          "model_module_version": "1.2.0",
          "model_name": "LayoutModel",
          "state": {
            "_model_module": "@jupyter-widgets/base",
            "_model_module_version": "1.2.0",
            "_model_name": "LayoutModel",
            "_view_count": null,
            "_view_module": "@jupyter-widgets/base",
            "_view_module_version": "1.2.0",
            "_view_name": "LayoutView",
            "align_content": null,
            "align_items": null,
            "align_self": null,
            "border": null,
            "bottom": null,
            "display": null,
            "flex": null,
            "flex_flow": null,
            "grid_area": null,
            "grid_auto_columns": null,
            "grid_auto_flow": null,
            "grid_auto_rows": null,
            "grid_column": null,
            "grid_gap": null,
            "grid_row": null,
            "grid_template_areas": null,
            "grid_template_columns": null,
            "grid_template_rows": null,
            "height": null,
            "justify_content": null,
            "justify_items": null,
            "left": null,
            "margin": null,
            "max_height": null,
            "max_width": null,
            "min_height": null,
            "min_width": null,
            "object_fit": null,
            "object_position": null,
            "order": null,
            "overflow": null,
            "overflow_x": null,
            "overflow_y": null,
            "padding": null,
            "right": null,
            "top": null,
            "visibility": null,
            "width": null
          }
        },
        "f3cf4145eef74579a41f740d62d842c4": {
          "model_module": "@jupyter-widgets/controls",
          "model_module_version": "1.5.0",
          "model_name": "ProgressStyleModel",
          "state": {
            "_model_module": "@jupyter-widgets/controls",
            "_model_module_version": "1.5.0",
            "_model_name": "ProgressStyleModel",
            "_view_count": null,
            "_view_module": "@jupyter-widgets/base",
            "_view_module_version": "1.2.0",
            "_view_name": "StyleView",
            "bar_color": null,
            "description_width": ""
          }
        },
        "f413d1bf4faa44edbe5d081b1d3eaff2": {
          "model_module": "@jupyter-widgets/controls",
          "model_module_version": "1.5.0",
          "model_name": "HTMLModel",
          "state": {
            "_dom_classes": [],
            "_model_module": "@jupyter-widgets/controls",
            "_model_module_version": "1.5.0",
            "_model_name": "HTMLModel",
            "_view_count": null,
            "_view_module": "@jupyter-widgets/controls",
            "_view_module_version": "1.5.0",
            "_view_name": "HTMLView",
            "description": "",
            "description_tooltip": null,
            "layout": "IPY_MODEL_21731645603f4144a74f604cf7c01021",
            "placeholder": "​",
            "style": "IPY_MODEL_c42583faf1f3472b82394432c7623562",
            "value": " 50/50 [00:22&lt;00:00,  1.83it/s]"
          }
        },
        "f549d2bd447649c8aac65b0abd25cf23": {
          "model_module": "@jupyter-widgets/controls",
          "model_module_version": "1.5.0",
          "model_name": "FloatProgressModel",
          "state": {
            "_dom_classes": [],
            "_model_module": "@jupyter-widgets/controls",
            "_model_module_version": "1.5.0",
            "_model_name": "FloatProgressModel",
            "_view_count": null,
            "_view_module": "@jupyter-widgets/controls",
            "_view_module_version": "1.5.0",
            "_view_name": "ProgressView",
            "bar_style": "success",
            "description": "",
            "description_tooltip": null,
            "layout": "IPY_MODEL_9abbc4a5bc11444185ae5ecacbfa102a",
            "max": 50,
            "min": 0,
            "orientation": "horizontal",
            "style": "IPY_MODEL_f3cf4145eef74579a41f740d62d842c4",
            "value": 50
          }
        }
      }
    }
  },
  "nbformat": 4,
  "nbformat_minor": 0
}
